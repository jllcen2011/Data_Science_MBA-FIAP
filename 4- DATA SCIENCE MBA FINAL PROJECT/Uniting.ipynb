{
 "cells": [
  {
   "cell_type": "markdown",
   "metadata": {
    "id": "4EpTW5wpWOHu"
   },
   "source": [
    "Bibliotecas"
   ]
  },
  {
   "cell_type": "code",
   "execution_count": 33,
   "metadata": {
    "colab": {
     "base_uri": "https://localhost:8080/"
    },
    "executionInfo": {
     "elapsed": 15357,
     "status": "ok",
     "timestamp": 1665528190837,
     "user": {
      "displayName": "Yuri Catramby",
      "userId": "02089267194718589286"
     },
     "user_tz": 180
    },
    "id": "qKucrUTSQSGE",
    "outputId": "18d1d79e-ae83-48e6-8518-5daa842e193d"
   },
   "outputs": [],
   "source": [
    "import pandas as pd\n",
    "import numpy as np\n",
    "import matplotlib.pyplot as plt\n",
    "import re\n",
    "\n",
    "from keras.preprocessing.text import Tokenizer\n",
    "from tensorflow.keras.models import load_model\n",
    "from keras.utils import pad_sequences\n",
    "import joblib\n",
    "import nltk"
   ]
  },
  {
   "cell_type": "markdown",
   "metadata": {
    "id": "0AdjrExgWSuo"
   },
   "source": [
    "Importando os dados"
   ]
  },
  {
   "cell_type": "code",
   "execution_count": 16,
   "metadata": {
    "executionInfo": {
     "elapsed": 2780,
     "status": "ok",
     "timestamp": 1665529906653,
     "user": {
      "displayName": "Yuri Catramby",
      "userId": "02089267194718589286"
     },
     "user_tz": 180
    },
    "id": "_3AlVQ2bQYhb"
   },
   "outputs": [],
   "source": [
    "dados = pd.read_csv('./dataset.csv', sep = ',', on_bad_lines='skip')"
   ]
  },
  {
   "cell_type": "markdown",
   "metadata": {},
   "source": [
    "# Seleção\n",
    "\n",
    "(explorando o dataset)"
   ]
  },
  {
   "cell_type": "code",
   "execution_count": 17,
   "metadata": {},
   "outputs": [
    {
     "data": {
      "text/html": [
       "<div>\n",
       "<style scoped>\n",
       "    .dataframe tbody tr th:only-of-type {\n",
       "        vertical-align: middle;\n",
       "    }\n",
       "\n",
       "    .dataframe tbody tr th {\n",
       "        vertical-align: top;\n",
       "    }\n",
       "\n",
       "    .dataframe thead th {\n",
       "        text-align: right;\n",
       "    }\n",
       "</style>\n",
       "<table border=\"1\" class=\"dataframe\">\n",
       "  <thead>\n",
       "    <tr style=\"text-align: right;\">\n",
       "      <th></th>\n",
       "      <th>Unnamed: 0</th>\n",
       "      <th>author_id</th>\n",
       "      <th>username</th>\n",
       "      <th>author_followers</th>\n",
       "      <th>author_tweets</th>\n",
       "      <th>author_description</th>\n",
       "      <th>author_location</th>\n",
       "      <th>text</th>\n",
       "      <th>created_at</th>\n",
       "      <th>retweets</th>\n",
       "      <th>replies</th>\n",
       "      <th>likes</th>\n",
       "      <th>quote_count</th>\n",
       "    </tr>\n",
       "  </thead>\n",
       "  <tbody>\n",
       "    <tr>\n",
       "      <th>0</th>\n",
       "      <td>0</td>\n",
       "      <td>235147237</td>\n",
       "      <td>labergamim</td>\n",
       "      <td>595</td>\n",
       "      <td>48349</td>\n",
       "      <td>NaN</td>\n",
       "      <td>Michigan, USA</td>\n",
       "      <td>@PetzOficial que lixo de atendimento.. pedido ...</td>\n",
       "      <td>2022-01-01 13:52:24+00:00</td>\n",
       "      <td>0</td>\n",
       "      <td>4</td>\n",
       "      <td>0</td>\n",
       "      <td>0</td>\n",
       "    </tr>\n",
       "    <tr>\n",
       "      <th>1</th>\n",
       "      <td>1</td>\n",
       "      <td>1020019844610248706</td>\n",
       "      <td>aguidaferreira4</td>\n",
       "      <td>125</td>\n",
       "      <td>2340</td>\n",
       "      <td>🚩</td>\n",
       "      <td>São Paulo</td>\n",
       "      <td>@PetzOficial @PetzOficial  não entrega a COMID...</td>\n",
       "      <td>2022-01-01 04:36:27+00:00</td>\n",
       "      <td>0</td>\n",
       "      <td>2</td>\n",
       "      <td>4</td>\n",
       "      <td>0</td>\n",
       "    </tr>\n",
       "    <tr>\n",
       "      <th>2</th>\n",
       "      <td>2</td>\n",
       "      <td>40477476</td>\n",
       "      <td>RiikAndrade</td>\n",
       "      <td>1589</td>\n",
       "      <td>22119</td>\n",
       "      <td>Since 92-Gravo vídeos para Internet 📸@RiikAndr...</td>\n",
       "      <td>013</td>\n",
       "      <td>@PetzOficial vocês abrem amanhã?</td>\n",
       "      <td>2022-01-01 01:45:03+00:00</td>\n",
       "      <td>0</td>\n",
       "      <td>1</td>\n",
       "      <td>0</td>\n",
       "      <td>0</td>\n",
       "    </tr>\n",
       "    <tr>\n",
       "      <th>3</th>\n",
       "      <td>3</td>\n",
       "      <td>179667218</td>\n",
       "      <td>Rebeccamtp</td>\n",
       "      <td>529</td>\n",
       "      <td>36353</td>\n",
       "      <td>crente. nordestina. mãe de pets. tiro foto. te...</td>\n",
       "      <td>Paraíba, Brasil</td>\n",
       "      <td>atendimento da @PetzOficial só piora</td>\n",
       "      <td>2021-12-31 15:59:26+00:00</td>\n",
       "      <td>0</td>\n",
       "      <td>1</td>\n",
       "      <td>1</td>\n",
       "      <td>0</td>\n",
       "    </tr>\n",
       "    <tr>\n",
       "      <th>4</th>\n",
       "      <td>4</td>\n",
       "      <td>772027307645083648</td>\n",
       "      <td>Guilhermegrosso</td>\n",
       "      <td>70</td>\n",
       "      <td>1378</td>\n",
       "      <td>NaN</td>\n",
       "      <td>Encantado, Rio de Janeiro</td>\n",
       "      <td>@PetzOficial 83142475</td>\n",
       "      <td>2021-12-31 13:44:32+00:00</td>\n",
       "      <td>0</td>\n",
       "      <td>4</td>\n",
       "      <td>0</td>\n",
       "      <td>0</td>\n",
       "    </tr>\n",
       "  </tbody>\n",
       "</table>\n",
       "</div>"
      ],
      "text/plain": [
       "   Unnamed: 0            author_id         username  author_followers  \\\n",
       "0           0            235147237       labergamim               595   \n",
       "1           1  1020019844610248706  aguidaferreira4               125   \n",
       "2           2             40477476      RiikAndrade              1589   \n",
       "3           3            179667218       Rebeccamtp               529   \n",
       "4           4   772027307645083648  Guilhermegrosso                70   \n",
       "\n",
       "   author_tweets                                 author_description  \\\n",
       "0          48349                                                NaN   \n",
       "1           2340                                                  🚩   \n",
       "2          22119  Since 92-Gravo vídeos para Internet 📸@RiikAndr...   \n",
       "3          36353  crente. nordestina. mãe de pets. tiro foto. te...   \n",
       "4           1378                                                NaN   \n",
       "\n",
       "             author_location  \\\n",
       "0              Michigan, USA   \n",
       "1                  São Paulo   \n",
       "2                        013   \n",
       "3            Paraíba, Brasil   \n",
       "4  Encantado, Rio de Janeiro   \n",
       "\n",
       "                                                text  \\\n",
       "0  @PetzOficial que lixo de atendimento.. pedido ...   \n",
       "1  @PetzOficial @PetzOficial  não entrega a COMID...   \n",
       "2                   @PetzOficial vocês abrem amanhã?   \n",
       "3               atendimento da @PetzOficial só piora   \n",
       "4                              @PetzOficial 83142475   \n",
       "\n",
       "                  created_at  retweets  replies  likes  quote_count  \n",
       "0  2022-01-01 13:52:24+00:00         0        4      0            0  \n",
       "1  2022-01-01 04:36:27+00:00         0        2      4            0  \n",
       "2  2022-01-01 01:45:03+00:00         0        1      0            0  \n",
       "3  2021-12-31 15:59:26+00:00         0        1      1            0  \n",
       "4  2021-12-31 13:44:32+00:00         0        4      0            0  "
      ]
     },
     "execution_count": 17,
     "metadata": {},
     "output_type": "execute_result"
    }
   ],
   "source": [
    "dados.head()"
   ]
  },
  {
   "cell_type": "code",
   "execution_count": 18,
   "metadata": {
    "colab": {
     "base_uri": "https://localhost:8080/"
    },
    "executionInfo": {
     "elapsed": 320,
     "status": "ok",
     "timestamp": 1665529907477,
     "user": {
      "displayName": "Yuri Catramby",
      "userId": "02089267194718589286"
     },
     "user_tz": 180
    },
    "id": "QESt0joVQxZB",
    "outputId": "666f68bf-34d3-4ac5-9ce8-26b01201a067"
   },
   "outputs": [
    {
     "data": {
      "text/plain": [
       "Unnamed: 0            17015\n",
       "author_id             17015\n",
       "username              17015\n",
       "author_followers      17015\n",
       "author_tweets         17015\n",
       "author_description    13750\n",
       "author_location       11652\n",
       "text                  17015\n",
       "created_at            17015\n",
       "retweets              17015\n",
       "replies               17015\n",
       "likes                 17015\n",
       "quote_count           17015\n",
       "dtype: int64"
      ]
     },
     "execution_count": 18,
     "metadata": {},
     "output_type": "execute_result"
    }
   ],
   "source": [
    "dados.count() "
   ]
  },
  {
   "cell_type": "code",
   "execution_count": 19,
   "metadata": {},
   "outputs": [
    {
     "data": {
      "text/plain": [
       "(17015, 13)"
      ]
     },
     "execution_count": 19,
     "metadata": {},
     "output_type": "execute_result"
    }
   ],
   "source": [
    "dados.shape\n",
    "\n",
    "# É possível perceber que não há valores faltantes."
   ]
  },
  {
   "cell_type": "code",
   "execution_count": 20,
   "metadata": {},
   "outputs": [
    {
     "data": {
      "text/plain": [
       "Unnamed: 0               0\n",
       "author_id                0\n",
       "username                 0\n",
       "author_followers         0\n",
       "author_tweets            0\n",
       "author_description    3265\n",
       "author_location       5363\n",
       "text                     0\n",
       "created_at               0\n",
       "retweets                 0\n",
       "replies                  0\n",
       "likes                    0\n",
       "quote_count              0\n",
       "dtype: int64"
      ]
     },
     "execution_count": 20,
     "metadata": {},
     "output_type": "execute_result"
    }
   ],
   "source": [
    "# confirmando:\n",
    "\n",
    "dados.isna().sum()"
   ]
  },
  {
   "cell_type": "markdown",
   "metadata": {},
   "source": [
    "# Pré-processamento e Transformação"
   ]
  },
  {
   "cell_type": "markdown",
   "metadata": {},
   "source": [
    "Fazendo a limpeza dos tweets com remoção @, links, números, emojis, caracteres etc."
   ]
  },
  {
   "cell_type": "code",
   "execution_count": 21,
   "metadata": {},
   "outputs": [
    {
     "data": {
      "text/plain": [
       "0     que lixo de atendimento pedido pago e previsã...\n",
       "1       não entrega a comida dos bichinhos no prazo...\n",
       "2                                   vocês abrem amanhã\n",
       "3                             atendimento da  só piora\n",
       "4                                                     \n",
       "Name: text_tratados, dtype: object"
      ]
     },
     "execution_count": 21,
     "metadata": {},
     "output_type": "execute_result"
    }
   ],
   "source": [
    "def cleanTxt(text):\n",
    "  text = text.lower()\n",
    "  text = re.sub(r\"@([a-zA-Z0-9_]{1,50})\",'',str(text)) \n",
    "  text = re.sub(r'(?:\\@|https?\\://)\\S+','',text)\n",
    "  text = re.sub(r'\\d+','', text)\n",
    "  text = re.sub(r\"[-()\\\"#/;:<>{}-~=|.?,]\",\"\",text)\n",
    "  return text\n",
    "\n",
    "dados[\"text_tratados\"] = dados[\"text\"].apply(cleanTxt)\n",
    "dados[\"text_tratados\"].head()"
   ]
  },
  {
   "cell_type": "code",
   "execution_count": 22,
   "metadata": {},
   "outputs": [
    {
     "data": {
      "text/plain": [
       "0     que lixo de atendimento pedido pago e previsã...\n",
       "1       não entrega a comida dos bichinhos no prazo...\n",
       "2                                   vocês abrem amanhã\n",
       "3                             atendimento da  só piora\n",
       "4                                                     \n",
       "Name: text_tratados, dtype: object"
      ]
     },
     "execution_count": 22,
     "metadata": {},
     "output_type": "execute_result"
    }
   ],
   "source": [
    "def removeEmojis(text):\n",
    "  emoji_pattern = re.compile(\"[\"\n",
    "        u\"\\U0001F600-\\U0001F64F\"\n",
    "        u\"\\U0001F300-\\U0001F5FF\"\n",
    "        u\"\\U0001F680-\\U0001F6FF\"\n",
    "        u\"\\U0001F1E0-\\U0001F1FF\"\n",
    "        u\"\\U00002500-\\U00002BEF\"\n",
    "        u\"\\U00002702-\\U000027B0\"\n",
    "        u\"\\U00002702-\\U000027B0\"\n",
    "        u\"\\U000024C2-\\U0001F251\"\n",
    "        u\"\\U0001f926-\\U0001f937\"\n",
    "        u\"\\U00010000-\\U0010ffff\"\n",
    "        u\"\\u2640-\\u2642\"\n",
    "        u\"\\u2600-\\u2B55\"\n",
    "        u\"\\u200d\"\n",
    "        u\"\\u23cf\"\n",
    "        u\"\\u23e9\"\n",
    "        u\"\\u231a\"\n",
    "        u\"\\ufe0f\"\n",
    "        u\"\\u3030\"\n",
    "        \"]+\", re.UNICODE)\n",
    "  text = emoji_pattern.sub(r'', text)\n",
    "  return text\n",
    "\n",
    "dados[\"text_tratados\"] = dados[\"text_tratados\"].apply(removeEmojis)\n",
    "dados[\"text_tratados\"].head()"
   ]
  },
  {
   "cell_type": "code",
   "execution_count": 23,
   "metadata": {},
   "outputs": [
    {
     "data": {
      "text/plain": [
       "0    lix atend ped pag previs entreg pra segund nad...\n",
       "1    entreg com bich praz aind fic enrol atend torm...\n",
       "2                                           abr amanhã\n",
       "3                                           atend pior\n",
       "4                                                     \n",
       "Name: text_tratados, dtype: object"
      ]
     },
     "execution_count": 23,
     "metadata": {},
     "output_type": "execute_result"
    }
   ],
   "source": [
    "def removeStopWords(text):\n",
    "    stemmer = nltk.stem.RSLPStemmer()\n",
    "    stopwords = set(nltk.corpus.stopwords.words('portuguese'))\n",
    "    words = [stemmer.stem(i) for i in text.split() if not i in stopwords]\n",
    "    return (\" \".join(words))\n",
    "\n",
    "dados[\"text_tratados\"] = dados[\"text_tratados\"].apply(removeStopWords)\n",
    "dados[\"text_tratados\"].head()"
   ]
  },
  {
   "cell_type": "code",
   "execution_count": 24,
   "metadata": {},
   "outputs": [
    {
     "data": {
      "text/html": [
       "<div>\n",
       "<style scoped>\n",
       "    .dataframe tbody tr th:only-of-type {\n",
       "        vertical-align: middle;\n",
       "    }\n",
       "\n",
       "    .dataframe tbody tr th {\n",
       "        vertical-align: top;\n",
       "    }\n",
       "\n",
       "    .dataframe thead th {\n",
       "        text-align: right;\n",
       "    }\n",
       "</style>\n",
       "<table border=\"1\" class=\"dataframe\">\n",
       "  <thead>\n",
       "    <tr style=\"text-align: right;\">\n",
       "      <th></th>\n",
       "      <th>Unnamed: 0</th>\n",
       "      <th>author_id</th>\n",
       "      <th>username</th>\n",
       "      <th>author_followers</th>\n",
       "      <th>author_tweets</th>\n",
       "      <th>author_description</th>\n",
       "      <th>author_location</th>\n",
       "      <th>text</th>\n",
       "      <th>created_at</th>\n",
       "      <th>retweets</th>\n",
       "      <th>replies</th>\n",
       "      <th>likes</th>\n",
       "      <th>quote_count</th>\n",
       "      <th>text_tratados</th>\n",
       "    </tr>\n",
       "  </thead>\n",
       "  <tbody>\n",
       "    <tr>\n",
       "      <th>0</th>\n",
       "      <td>0</td>\n",
       "      <td>235147237</td>\n",
       "      <td>labergamim</td>\n",
       "      <td>595</td>\n",
       "      <td>48349</td>\n",
       "      <td>NaN</td>\n",
       "      <td>Michigan, USA</td>\n",
       "      <td>@PetzOficial que lixo de atendimento.. pedido ...</td>\n",
       "      <td>2022-01-01 13:52:24+00:00</td>\n",
       "      <td>0</td>\n",
       "      <td>4</td>\n",
       "      <td>0</td>\n",
       "      <td>0</td>\n",
       "      <td>lix atend ped pag previs entreg pra segund nad...</td>\n",
       "    </tr>\n",
       "    <tr>\n",
       "      <th>1</th>\n",
       "      <td>1</td>\n",
       "      <td>1020019844610248706</td>\n",
       "      <td>aguidaferreira4</td>\n",
       "      <td>125</td>\n",
       "      <td>2340</td>\n",
       "      <td>🚩</td>\n",
       "      <td>São Paulo</td>\n",
       "      <td>@PetzOficial @PetzOficial  não entrega a COMID...</td>\n",
       "      <td>2022-01-01 04:36:27+00:00</td>\n",
       "      <td>0</td>\n",
       "      <td>2</td>\n",
       "      <td>4</td>\n",
       "      <td>0</td>\n",
       "      <td>entreg com bich praz aind fic enrol atend torm...</td>\n",
       "    </tr>\n",
       "    <tr>\n",
       "      <th>2</th>\n",
       "      <td>2</td>\n",
       "      <td>40477476</td>\n",
       "      <td>RiikAndrade</td>\n",
       "      <td>1589</td>\n",
       "      <td>22119</td>\n",
       "      <td>Since 92-Gravo vídeos para Internet 📸@RiikAndr...</td>\n",
       "      <td>013</td>\n",
       "      <td>@PetzOficial vocês abrem amanhã?</td>\n",
       "      <td>2022-01-01 01:45:03+00:00</td>\n",
       "      <td>0</td>\n",
       "      <td>1</td>\n",
       "      <td>0</td>\n",
       "      <td>0</td>\n",
       "      <td>abr amanhã</td>\n",
       "    </tr>\n",
       "    <tr>\n",
       "      <th>3</th>\n",
       "      <td>3</td>\n",
       "      <td>179667218</td>\n",
       "      <td>Rebeccamtp</td>\n",
       "      <td>529</td>\n",
       "      <td>36353</td>\n",
       "      <td>crente. nordestina. mãe de pets. tiro foto. te...</td>\n",
       "      <td>Paraíba, Brasil</td>\n",
       "      <td>atendimento da @PetzOficial só piora</td>\n",
       "      <td>2021-12-31 15:59:26+00:00</td>\n",
       "      <td>0</td>\n",
       "      <td>1</td>\n",
       "      <td>1</td>\n",
       "      <td>0</td>\n",
       "      <td>atend pior</td>\n",
       "    </tr>\n",
       "    <tr>\n",
       "      <th>4</th>\n",
       "      <td>4</td>\n",
       "      <td>772027307645083648</td>\n",
       "      <td>Guilhermegrosso</td>\n",
       "      <td>70</td>\n",
       "      <td>1378</td>\n",
       "      <td>NaN</td>\n",
       "      <td>Encantado, Rio de Janeiro</td>\n",
       "      <td>@PetzOficial 83142475</td>\n",
       "      <td>2021-12-31 13:44:32+00:00</td>\n",
       "      <td>0</td>\n",
       "      <td>4</td>\n",
       "      <td>0</td>\n",
       "      <td>0</td>\n",
       "      <td></td>\n",
       "    </tr>\n",
       "  </tbody>\n",
       "</table>\n",
       "</div>"
      ],
      "text/plain": [
       "   Unnamed: 0            author_id         username  author_followers  \\\n",
       "0           0            235147237       labergamim               595   \n",
       "1           1  1020019844610248706  aguidaferreira4               125   \n",
       "2           2             40477476      RiikAndrade              1589   \n",
       "3           3            179667218       Rebeccamtp               529   \n",
       "4           4   772027307645083648  Guilhermegrosso                70   \n",
       "\n",
       "   author_tweets                                 author_description  \\\n",
       "0          48349                                                NaN   \n",
       "1           2340                                                  🚩   \n",
       "2          22119  Since 92-Gravo vídeos para Internet 📸@RiikAndr...   \n",
       "3          36353  crente. nordestina. mãe de pets. tiro foto. te...   \n",
       "4           1378                                                NaN   \n",
       "\n",
       "             author_location  \\\n",
       "0              Michigan, USA   \n",
       "1                  São Paulo   \n",
       "2                        013   \n",
       "3            Paraíba, Brasil   \n",
       "4  Encantado, Rio de Janeiro   \n",
       "\n",
       "                                                text  \\\n",
       "0  @PetzOficial que lixo de atendimento.. pedido ...   \n",
       "1  @PetzOficial @PetzOficial  não entrega a COMID...   \n",
       "2                   @PetzOficial vocês abrem amanhã?   \n",
       "3               atendimento da @PetzOficial só piora   \n",
       "4                              @PetzOficial 83142475   \n",
       "\n",
       "                  created_at  retweets  replies  likes  quote_count  \\\n",
       "0  2022-01-01 13:52:24+00:00         0        4      0            0   \n",
       "1  2022-01-01 04:36:27+00:00         0        2      4            0   \n",
       "2  2022-01-01 01:45:03+00:00         0        1      0            0   \n",
       "3  2021-12-31 15:59:26+00:00         0        1      1            0   \n",
       "4  2021-12-31 13:44:32+00:00         0        4      0            0   \n",
       "\n",
       "                                       text_tratados  \n",
       "0  lix atend ped pag previs entreg pra segund nad...  \n",
       "1  entreg com bich praz aind fic enrol atend torm...  \n",
       "2                                         abr amanhã  \n",
       "3                                         atend pior  \n",
       "4                                                     "
      ]
     },
     "execution_count": 24,
     "metadata": {},
     "output_type": "execute_result"
    }
   ],
   "source": [
    "dados.head()"
   ]
  },
  {
   "cell_type": "markdown",
   "metadata": {},
   "source": [
    "# Data Mining"
   ]
  },
  {
   "attachments": {},
   "cell_type": "markdown",
   "metadata": {},
   "source": [
    "##### Logistic Regression"
   ]
  },
  {
   "cell_type": "code",
   "execution_count": 25,
   "metadata": {},
   "outputs": [
    {
     "data": {
      "text/plain": [
       "Pipeline(steps=[('tfidf', TfidfVectorizer()),\n",
       "                ('classifier', LogisticRegression())])"
      ]
     },
     "execution_count": 25,
     "metadata": {},
     "output_type": "execute_result"
    }
   ],
   "source": [
    "# Save RL_Model to file in the current working directory\n",
    "joblib_file = \"joblib_lr_Model.pkl\"  \n",
    "# joblib.dump(pipe_lr, joblib_file)\n",
    "\n",
    "# Load from file\n",
    "\n",
    "joblib_lr_model = joblib.load(joblib_file)\n",
    "joblib_lr_model"
   ]
  },
  {
   "cell_type": "code",
   "execution_count": 26,
   "metadata": {},
   "outputs": [],
   "source": [
    "dados[\"sentimentos\"] = joblib_lr_model.predict(dados[\"text_tratados\"])"
   ]
  },
  {
   "cell_type": "code",
   "execution_count": 27,
   "metadata": {},
   "outputs": [
    {
     "data": {
      "text/html": [
       "<div>\n",
       "<style scoped>\n",
       "    .dataframe tbody tr th:only-of-type {\n",
       "        vertical-align: middle;\n",
       "    }\n",
       "\n",
       "    .dataframe tbody tr th {\n",
       "        vertical-align: top;\n",
       "    }\n",
       "\n",
       "    .dataframe thead th {\n",
       "        text-align: right;\n",
       "    }\n",
       "</style>\n",
       "<table border=\"1\" class=\"dataframe\">\n",
       "  <thead>\n",
       "    <tr style=\"text-align: right;\">\n",
       "      <th></th>\n",
       "      <th>Unnamed: 0</th>\n",
       "      <th>author_id</th>\n",
       "      <th>username</th>\n",
       "      <th>author_followers</th>\n",
       "      <th>author_tweets</th>\n",
       "      <th>author_description</th>\n",
       "      <th>author_location</th>\n",
       "      <th>text</th>\n",
       "      <th>created_at</th>\n",
       "      <th>retweets</th>\n",
       "      <th>replies</th>\n",
       "      <th>likes</th>\n",
       "      <th>quote_count</th>\n",
       "      <th>text_tratados</th>\n",
       "      <th>sentimentos</th>\n",
       "      <th>sentimentos_nome</th>\n",
       "    </tr>\n",
       "  </thead>\n",
       "  <tbody>\n",
       "    <tr>\n",
       "      <th>0</th>\n",
       "      <td>0</td>\n",
       "      <td>235147237</td>\n",
       "      <td>labergamim</td>\n",
       "      <td>595</td>\n",
       "      <td>48349</td>\n",
       "      <td>NaN</td>\n",
       "      <td>Michigan, USA</td>\n",
       "      <td>@PetzOficial que lixo de atendimento.. pedido ...</td>\n",
       "      <td>2022-01-01 13:52:24+00:00</td>\n",
       "      <td>0</td>\n",
       "      <td>4</td>\n",
       "      <td>0</td>\n",
       "      <td>0</td>\n",
       "      <td>lix atend ped pag previs entreg pra segund nad...</td>\n",
       "      <td>0</td>\n",
       "      <td>Positivo</td>\n",
       "    </tr>\n",
       "    <tr>\n",
       "      <th>1</th>\n",
       "      <td>1</td>\n",
       "      <td>1020019844610248706</td>\n",
       "      <td>aguidaferreira4</td>\n",
       "      <td>125</td>\n",
       "      <td>2340</td>\n",
       "      <td>🚩</td>\n",
       "      <td>São Paulo</td>\n",
       "      <td>@PetzOficial @PetzOficial  não entrega a COMID...</td>\n",
       "      <td>2022-01-01 04:36:27+00:00</td>\n",
       "      <td>0</td>\n",
       "      <td>2</td>\n",
       "      <td>4</td>\n",
       "      <td>0</td>\n",
       "      <td>entreg com bich praz aind fic enrol atend torm...</td>\n",
       "      <td>0</td>\n",
       "      <td>Positivo</td>\n",
       "    </tr>\n",
       "    <tr>\n",
       "      <th>2</th>\n",
       "      <td>2</td>\n",
       "      <td>40477476</td>\n",
       "      <td>RiikAndrade</td>\n",
       "      <td>1589</td>\n",
       "      <td>22119</td>\n",
       "      <td>Since 92-Gravo vídeos para Internet 📸@RiikAndr...</td>\n",
       "      <td>013</td>\n",
       "      <td>@PetzOficial vocês abrem amanhã?</td>\n",
       "      <td>2022-01-01 01:45:03+00:00</td>\n",
       "      <td>0</td>\n",
       "      <td>1</td>\n",
       "      <td>0</td>\n",
       "      <td>0</td>\n",
       "      <td>abr amanhã</td>\n",
       "      <td>0</td>\n",
       "      <td>Positivo</td>\n",
       "    </tr>\n",
       "    <tr>\n",
       "      <th>3</th>\n",
       "      <td>3</td>\n",
       "      <td>179667218</td>\n",
       "      <td>Rebeccamtp</td>\n",
       "      <td>529</td>\n",
       "      <td>36353</td>\n",
       "      <td>crente. nordestina. mãe de pets. tiro foto. te...</td>\n",
       "      <td>Paraíba, Brasil</td>\n",
       "      <td>atendimento da @PetzOficial só piora</td>\n",
       "      <td>2021-12-31 15:59:26+00:00</td>\n",
       "      <td>0</td>\n",
       "      <td>1</td>\n",
       "      <td>1</td>\n",
       "      <td>0</td>\n",
       "      <td>atend pior</td>\n",
       "      <td>0</td>\n",
       "      <td>Positivo</td>\n",
       "    </tr>\n",
       "    <tr>\n",
       "      <th>4</th>\n",
       "      <td>4</td>\n",
       "      <td>772027307645083648</td>\n",
       "      <td>Guilhermegrosso</td>\n",
       "      <td>70</td>\n",
       "      <td>1378</td>\n",
       "      <td>NaN</td>\n",
       "      <td>Encantado, Rio de Janeiro</td>\n",
       "      <td>@PetzOficial 83142475</td>\n",
       "      <td>2021-12-31 13:44:32+00:00</td>\n",
       "      <td>0</td>\n",
       "      <td>4</td>\n",
       "      <td>0</td>\n",
       "      <td>0</td>\n",
       "      <td></td>\n",
       "      <td>0</td>\n",
       "      <td>Positivo</td>\n",
       "    </tr>\n",
       "  </tbody>\n",
       "</table>\n",
       "</div>"
      ],
      "text/plain": [
       "   Unnamed: 0            author_id         username  author_followers  \\\n",
       "0           0            235147237       labergamim               595   \n",
       "1           1  1020019844610248706  aguidaferreira4               125   \n",
       "2           2             40477476      RiikAndrade              1589   \n",
       "3           3            179667218       Rebeccamtp               529   \n",
       "4           4   772027307645083648  Guilhermegrosso                70   \n",
       "\n",
       "   author_tweets                                 author_description  \\\n",
       "0          48349                                                NaN   \n",
       "1           2340                                                  🚩   \n",
       "2          22119  Since 92-Gravo vídeos para Internet 📸@RiikAndr...   \n",
       "3          36353  crente. nordestina. mãe de pets. tiro foto. te...   \n",
       "4           1378                                                NaN   \n",
       "\n",
       "             author_location  \\\n",
       "0              Michigan, USA   \n",
       "1                  São Paulo   \n",
       "2                        013   \n",
       "3            Paraíba, Brasil   \n",
       "4  Encantado, Rio de Janeiro   \n",
       "\n",
       "                                                text  \\\n",
       "0  @PetzOficial que lixo de atendimento.. pedido ...   \n",
       "1  @PetzOficial @PetzOficial  não entrega a COMID...   \n",
       "2                   @PetzOficial vocês abrem amanhã?   \n",
       "3               atendimento da @PetzOficial só piora   \n",
       "4                              @PetzOficial 83142475   \n",
       "\n",
       "                  created_at  retweets  replies  likes  quote_count  \\\n",
       "0  2022-01-01 13:52:24+00:00         0        4      0            0   \n",
       "1  2022-01-01 04:36:27+00:00         0        2      4            0   \n",
       "2  2022-01-01 01:45:03+00:00         0        1      0            0   \n",
       "3  2021-12-31 15:59:26+00:00         0        1      1            0   \n",
       "4  2021-12-31 13:44:32+00:00         0        4      0            0   \n",
       "\n",
       "                                       text_tratados  sentimentos  \\\n",
       "0  lix atend ped pag previs entreg pra segund nad...            0   \n",
       "1  entreg com bich praz aind fic enrol atend torm...            0   \n",
       "2                                         abr amanhã            0   \n",
       "3                                         atend pior            0   \n",
       "4                                                               0   \n",
       "\n",
       "  sentimentos_nome  \n",
       "0         Positivo  \n",
       "1         Positivo  \n",
       "2         Positivo  \n",
       "3         Positivo  \n",
       "4         Positivo  "
      ]
     },
     "execution_count": 27,
     "metadata": {},
     "output_type": "execute_result"
    }
   ],
   "source": [
    "dados[\"sentimentos_nome\"] = [\"Positivo\" if sentimento == 0 else \"Negativo\" for sentimento in dados[\"sentimentos\"]]\n",
    "dados.head()"
   ]
  },
  {
   "attachments": {},
   "cell_type": "markdown",
   "metadata": {},
   "source": [
    "##### Deep Learning: LSTM."
   ]
  },
  {
   "cell_type": "code",
   "execution_count": 34,
   "metadata": {},
   "outputs": [],
   "source": [
    "# preparar tokenizer\n",
    "tweets = list(dados[\"text_tratados\"])\n",
    "tokenizer = Tokenizer()\n",
    "tokenizer.fit_on_texts(tweets)"
   ]
  },
  {
   "cell_type": "code",
   "execution_count": 35,
   "metadata": {},
   "outputs": [
    {
     "name": "stdout",
     "output_type": "stream",
     "text": [
      "Found 10213 unique tokens.\n"
     ]
    }
   ],
   "source": [
    "word_index = tokenizer.word_index\n",
    "print('Found %s unique tokens.' % len(word_index))"
   ]
  },
  {
   "cell_type": "code",
   "execution_count": 36,
   "metadata": {},
   "outputs": [],
   "source": [
    "# integer codificar os documentos\n",
    "sequences = tokenizer.texts_to_sequences(tweets)"
   ]
  },
  {
   "cell_type": "code",
   "execution_count": 47,
   "metadata": {},
   "outputs": [],
   "source": [
    "# preencher documentos com um comprimento máximo de 47 palavras, igual no treinamento do modelo\n",
    "X = pad_sequences(sequences, maxlen=47)"
   ]
  },
  {
   "cell_type": "code",
   "execution_count": 48,
   "metadata": {},
   "outputs": [
    {
     "data": {
      "text/plain": [
       "(17015, 47)"
      ]
     },
     "execution_count": 48,
     "metadata": {},
     "output_type": "execute_result"
    }
   ],
   "source": [
    "X.shape"
   ]
  },
  {
   "cell_type": "code",
   "execution_count": 49,
   "metadata": {},
   "outputs": [],
   "source": [
    "model = load_model('lstm.h5')\n",
    "model.load_weights(\"./LSTM_outputs/weights.05.hdf5\")"
   ]
  },
  {
   "cell_type": "code",
   "execution_count": 50,
   "metadata": {},
   "outputs": [
    {
     "name": "stdout",
     "output_type": "stream",
     "text": [
      "532/532 [==============================] - 10s 17ms/step\n"
     ]
    }
   ],
   "source": [
    "y_probs = model.predict(X)"
   ]
  },
  {
   "cell_type": "code",
   "execution_count": 44,
   "metadata": {},
   "outputs": [],
   "source": [
    "# Turn probabilities into an interger prediction\n",
    "y_hat = []\n",
    "for prob in y_probs:\n",
    "    y_hat.append(np.argmax(prob))"
   ]
  },
  {
   "cell_type": "code",
   "execution_count": 45,
   "metadata": {},
   "outputs": [],
   "source": [
    "dados[\"assuntos\"] = y_hat\n",
    "# create a dictionary to map numbers to corresponding strings\n",
    "mapping = {0: 'Atendimento', 1: 'Entrega', 2: 'Outro', 3: 'Produto'}\n",
    "\n",
    "# apply the mapping to the 'numbers' column of the DataFrame\n",
    "dados['assuntos_nome'] = dados['assuntos'].map(mapping)"
   ]
  },
  {
   "cell_type": "code",
   "execution_count": 46,
   "metadata": {},
   "outputs": [
    {
     "data": {
      "text/html": [
       "<div>\n",
       "<style scoped>\n",
       "    .dataframe tbody tr th:only-of-type {\n",
       "        vertical-align: middle;\n",
       "    }\n",
       "\n",
       "    .dataframe tbody tr th {\n",
       "        vertical-align: top;\n",
       "    }\n",
       "\n",
       "    .dataframe thead th {\n",
       "        text-align: right;\n",
       "    }\n",
       "</style>\n",
       "<table border=\"1\" class=\"dataframe\">\n",
       "  <thead>\n",
       "    <tr style=\"text-align: right;\">\n",
       "      <th></th>\n",
       "      <th>Unnamed: 0</th>\n",
       "      <th>author_id</th>\n",
       "      <th>username</th>\n",
       "      <th>author_followers</th>\n",
       "      <th>author_tweets</th>\n",
       "      <th>author_description</th>\n",
       "      <th>author_location</th>\n",
       "      <th>text</th>\n",
       "      <th>created_at</th>\n",
       "      <th>retweets</th>\n",
       "      <th>replies</th>\n",
       "      <th>likes</th>\n",
       "      <th>quote_count</th>\n",
       "      <th>text_tratados</th>\n",
       "      <th>sentimentos</th>\n",
       "      <th>sentimentos_nome</th>\n",
       "      <th>assuntos</th>\n",
       "      <th>assuntos_nome</th>\n",
       "    </tr>\n",
       "  </thead>\n",
       "  <tbody>\n",
       "    <tr>\n",
       "      <th>0</th>\n",
       "      <td>0</td>\n",
       "      <td>235147237</td>\n",
       "      <td>labergamim</td>\n",
       "      <td>595</td>\n",
       "      <td>48349</td>\n",
       "      <td>NaN</td>\n",
       "      <td>Michigan, USA</td>\n",
       "      <td>@PetzOficial que lixo de atendimento.. pedido ...</td>\n",
       "      <td>2022-01-01 13:52:24+00:00</td>\n",
       "      <td>0</td>\n",
       "      <td>4</td>\n",
       "      <td>0</td>\n",
       "      <td>0</td>\n",
       "      <td>lix atend ped pag previs entreg pra segund nad...</td>\n",
       "      <td>0</td>\n",
       "      <td>Positivo</td>\n",
       "      <td>1</td>\n",
       "      <td>Entrega</td>\n",
       "    </tr>\n",
       "    <tr>\n",
       "      <th>1</th>\n",
       "      <td>1</td>\n",
       "      <td>1020019844610248706</td>\n",
       "      <td>aguidaferreira4</td>\n",
       "      <td>125</td>\n",
       "      <td>2340</td>\n",
       "      <td>🚩</td>\n",
       "      <td>São Paulo</td>\n",
       "      <td>@PetzOficial @PetzOficial  não entrega a COMID...</td>\n",
       "      <td>2022-01-01 04:36:27+00:00</td>\n",
       "      <td>0</td>\n",
       "      <td>2</td>\n",
       "      <td>4</td>\n",
       "      <td>0</td>\n",
       "      <td>entreg com bich praz aind fic enrol atend torm...</td>\n",
       "      <td>0</td>\n",
       "      <td>Positivo</td>\n",
       "      <td>1</td>\n",
       "      <td>Entrega</td>\n",
       "    </tr>\n",
       "    <tr>\n",
       "      <th>2</th>\n",
       "      <td>2</td>\n",
       "      <td>40477476</td>\n",
       "      <td>RiikAndrade</td>\n",
       "      <td>1589</td>\n",
       "      <td>22119</td>\n",
       "      <td>Since 92-Gravo vídeos para Internet 📸@RiikAndr...</td>\n",
       "      <td>013</td>\n",
       "      <td>@PetzOficial vocês abrem amanhã?</td>\n",
       "      <td>2022-01-01 01:45:03+00:00</td>\n",
       "      <td>0</td>\n",
       "      <td>1</td>\n",
       "      <td>0</td>\n",
       "      <td>0</td>\n",
       "      <td>abr amanhã</td>\n",
       "      <td>0</td>\n",
       "      <td>Positivo</td>\n",
       "      <td>2</td>\n",
       "      <td>Outro</td>\n",
       "    </tr>\n",
       "    <tr>\n",
       "      <th>3</th>\n",
       "      <td>3</td>\n",
       "      <td>179667218</td>\n",
       "      <td>Rebeccamtp</td>\n",
       "      <td>529</td>\n",
       "      <td>36353</td>\n",
       "      <td>crente. nordestina. mãe de pets. tiro foto. te...</td>\n",
       "      <td>Paraíba, Brasil</td>\n",
       "      <td>atendimento da @PetzOficial só piora</td>\n",
       "      <td>2021-12-31 15:59:26+00:00</td>\n",
       "      <td>0</td>\n",
       "      <td>1</td>\n",
       "      <td>1</td>\n",
       "      <td>0</td>\n",
       "      <td>atend pior</td>\n",
       "      <td>0</td>\n",
       "      <td>Positivo</td>\n",
       "      <td>0</td>\n",
       "      <td>Atendimento</td>\n",
       "    </tr>\n",
       "    <tr>\n",
       "      <th>4</th>\n",
       "      <td>4</td>\n",
       "      <td>772027307645083648</td>\n",
       "      <td>Guilhermegrosso</td>\n",
       "      <td>70</td>\n",
       "      <td>1378</td>\n",
       "      <td>NaN</td>\n",
       "      <td>Encantado, Rio de Janeiro</td>\n",
       "      <td>@PetzOficial 83142475</td>\n",
       "      <td>2021-12-31 13:44:32+00:00</td>\n",
       "      <td>0</td>\n",
       "      <td>4</td>\n",
       "      <td>0</td>\n",
       "      <td>0</td>\n",
       "      <td></td>\n",
       "      <td>0</td>\n",
       "      <td>Positivo</td>\n",
       "      <td>2</td>\n",
       "      <td>Outro</td>\n",
       "    </tr>\n",
       "  </tbody>\n",
       "</table>\n",
       "</div>"
      ],
      "text/plain": [
       "   Unnamed: 0            author_id         username  author_followers  \\\n",
       "0           0            235147237       labergamim               595   \n",
       "1           1  1020019844610248706  aguidaferreira4               125   \n",
       "2           2             40477476      RiikAndrade              1589   \n",
       "3           3            179667218       Rebeccamtp               529   \n",
       "4           4   772027307645083648  Guilhermegrosso                70   \n",
       "\n",
       "   author_tweets                                 author_description  \\\n",
       "0          48349                                                NaN   \n",
       "1           2340                                                  🚩   \n",
       "2          22119  Since 92-Gravo vídeos para Internet 📸@RiikAndr...   \n",
       "3          36353  crente. nordestina. mãe de pets. tiro foto. te...   \n",
       "4           1378                                                NaN   \n",
       "\n",
       "             author_location  \\\n",
       "0              Michigan, USA   \n",
       "1                  São Paulo   \n",
       "2                        013   \n",
       "3            Paraíba, Brasil   \n",
       "4  Encantado, Rio de Janeiro   \n",
       "\n",
       "                                                text  \\\n",
       "0  @PetzOficial que lixo de atendimento.. pedido ...   \n",
       "1  @PetzOficial @PetzOficial  não entrega a COMID...   \n",
       "2                   @PetzOficial vocês abrem amanhã?   \n",
       "3               atendimento da @PetzOficial só piora   \n",
       "4                              @PetzOficial 83142475   \n",
       "\n",
       "                  created_at  retweets  replies  likes  quote_count  \\\n",
       "0  2022-01-01 13:52:24+00:00         0        4      0            0   \n",
       "1  2022-01-01 04:36:27+00:00         0        2      4            0   \n",
       "2  2022-01-01 01:45:03+00:00         0        1      0            0   \n",
       "3  2021-12-31 15:59:26+00:00         0        1      1            0   \n",
       "4  2021-12-31 13:44:32+00:00         0        4      0            0   \n",
       "\n",
       "                                       text_tratados  sentimentos  \\\n",
       "0  lix atend ped pag previs entreg pra segund nad...            0   \n",
       "1  entreg com bich praz aind fic enrol atend torm...            0   \n",
       "2                                         abr amanhã            0   \n",
       "3                                         atend pior            0   \n",
       "4                                                               0   \n",
       "\n",
       "  sentimentos_nome  assuntos assuntos_nome  \n",
       "0         Positivo         1       Entrega  \n",
       "1         Positivo         1       Entrega  \n",
       "2         Positivo         2         Outro  \n",
       "3         Positivo         0   Atendimento  \n",
       "4         Positivo         2         Outro  "
      ]
     },
     "execution_count": 46,
     "metadata": {},
     "output_type": "execute_result"
    }
   ],
   "source": [
    "dados.head()"
   ]
  },
  {
   "cell_type": "code",
   "execution_count": null,
   "metadata": {},
   "outputs": [],
   "source": []
  }
 ],
 "metadata": {
  "colab": {
   "collapsed_sections": [],
   "provenance": [
    {
     "file_id": "120sPHGf29WNwGCpm9kdqIs4Lij4muQXC",
     "timestamp": 1665528115690
    }
   ]
  },
  "kernelspec": {
   "display_name": "base",
   "language": "python",
   "name": "python3"
  },
  "language_info": {
   "codemirror_mode": {
    "name": "ipython",
    "version": 3
   },
   "file_extension": ".py",
   "mimetype": "text/x-python",
   "name": "python",
   "nbconvert_exporter": "python",
   "pygments_lexer": "ipython3",
   "version": "3.9.15"
  },
  "vscode": {
   "interpreter": {
    "hash": "a7e5e0eaa77a28125227fb7ae19e78585bc0f4691d77dafd52dbfc5225ddb4e5"
   }
  }
 },
 "nbformat": 4,
 "nbformat_minor": 1
}
