{
 "cells": [
  {
   "cell_type": "code",
   "execution_count": 1,
   "metadata": {},
   "outputs": [],
   "source": [
    "import pandas as pd\n",
    "import matplotlib.pyplot as plt\n",
    "import numpy as np\n",
    "import math\n",
    "import re\n",
    "from sklearn import preprocessing\n",
    "from sklearn.preprocessing import LabelEncoder\n",
    "import seaborn as sns\n",
    "from keras.datasets import imdb\n",
    "from keras.models import Sequential\n",
    "from keras.layers import Dense, SimpleRNN, Embedding\n",
    "from keras.layers import LSTM\n",
    "from keras.preprocessing.text import Tokenizer\n",
    "from keras.preprocessing import sequence\n",
    "from keras.utils import pad_sequences\n",
    "from tensorflow.python.client import device_lib\n",
    "from keras.constraints import maxnorm\n",
    "from keras.layers import Dropout\n",
    "import time\n",
    "import nltk\n",
    "import warnings\n",
    "warnings.filterwarnings(\"ignore\")\n",
    "\n",
    "from sklearn.metrics import confusion_matrix, classification_report, accuracy_score\n",
    "import transformers\n",
    "from transformers import DistilBertTokenizer, TFDistilBertModel, DistilBertConfig\n",
    "import tensorflow as tf\n",
    "import warnings\n",
    "from transformers import logging as hf_logging\n",
    "from tqdm import tqdm \n",
    "\n",
    "from tensorflow.keras.callbacks import ModelCheckpoint, ReduceLROnPlateau, EarlyStopping"
   ]
  },
  {
   "cell_type": "code",
   "execution_count": 2,
   "metadata": {},
   "outputs": [],
   "source": [
    "df = pd.read_excel(\"C:/Users/jllce/Downloads/classificacao_assuntos.xlsx\")"
   ]
  },
  {
   "cell_type": "code",
   "execution_count": 3,
   "metadata": {},
   "outputs": [
    {
     "data": {
      "text/plain": [
       "tweets    0\n",
       "label     0\n",
       "dtype: int64"
      ]
     },
     "execution_count": 3,
     "metadata": {},
     "output_type": "execute_result"
    }
   ],
   "source": [
    "df.isnull().sum()"
   ]
  },
  {
   "cell_type": "code",
   "execution_count": 4,
   "metadata": {},
   "outputs": [],
   "source": [
    "# Se tiver valores nulos, usar o código abaixo\n",
    "\n",
    "# df = df[~df['label'].isnull()]\n",
    "# df"
   ]
  },
  {
   "cell_type": "code",
   "execution_count": 5,
   "metadata": {},
   "outputs": [
    {
     "data": {
      "text/plain": [
       "Outro          8385\n",
       "Entrega        4819\n",
       "Produto        2961\n",
       "Atendimento    1944\n",
       "Name: label, dtype: int64"
      ]
     },
     "execution_count": 5,
     "metadata": {},
     "output_type": "execute_result"
    }
   ],
   "source": [
    "df[\"label\"].value_counts()"
   ]
  },
  {
   "cell_type": "code",
   "execution_count": 6,
   "metadata": {},
   "outputs": [
    {
     "data": {
      "text/plain": [
       "Outro          0.463029\n",
       "Entrega        0.266111\n",
       "Produto        0.163510\n",
       "Atendimento    0.107350\n",
       "Name: label, dtype: float64"
      ]
     },
     "execution_count": 6,
     "metadata": {},
     "output_type": "execute_result"
    }
   ],
   "source": [
    "df[\"label\"].value_counts(normalize=True)"
   ]
  },
  {
   "cell_type": "code",
   "execution_count": 7,
   "metadata": {},
   "outputs": [],
   "source": [
    "def cleanTxt(text):\n",
    "  import re\n",
    "  text = text.lower()\n",
    "  text = re.sub(r\"@([a-zA-Z0-9_]{1,50})\",'',str(text)) \n",
    "  text = re.sub(r'(?:\\@|https?\\://)\\S+','',text)\n",
    "  text = re.sub(r'\\d+','', text)\n",
    "  text = re.sub(r\"[-()\\\"#/;:<>{}-~=|.?,]\",\"\",text)\n",
    "  return text\n",
    "\n",
    "def removeEmojis(text):\n",
    "  emoji_pattern = re.compile(\"[\"\n",
    "        u\"\\U0001F600-\\U0001F64F\"\n",
    "        u\"\\U0001F300-\\U0001F5FF\"\n",
    "        u\"\\U0001F680-\\U0001F6FF\"\n",
    "        u\"\\U0001F1E0-\\U0001F1FF\"\n",
    "        u\"\\U00002500-\\U00002BEF\"\n",
    "        u\"\\U00002702-\\U000027B0\"\n",
    "        u\"\\U00002702-\\U000027B0\"\n",
    "        u\"\\U000024C2-\\U0001F251\"\n",
    "        u\"\\U0001f926-\\U0001f937\"\n",
    "        u\"\\U00010000-\\U0010ffff\"\n",
    "        u\"\\u2640-\\u2642\"\n",
    "        u\"\\u2600-\\u2B55\"\n",
    "        u\"\\u200d\"\n",
    "        u\"\\u23cf\"\n",
    "        u\"\\u23e9\"\n",
    "        u\"\\u231a\"\n",
    "        u\"\\ufe0f\"\n",
    "        u\"\\u3030\"\n",
    "        \"]+\", re.UNICODE)\n",
    "  text = emoji_pattern.sub(r'', text)\n",
    "  return text\n",
    "\n",
    "def removeStopWords(text):\n",
    "    stemmer = nltk.stem.RSLPStemmer()\n",
    "    stopwords = set(nltk.corpus.stopwords.words('portuguese'))\n",
    "    words = [stemmer.stem(i) for i in text.split() if not i in stopwords]\n",
    "    return (\" \".join(words))\n",
    "\n",
    "\n",
    "df[\"tweets\"] = df[\"tweets\"].apply(cleanTxt)\n",
    "df[\"tweets\"] = df[\"tweets\"].apply(removeEmojis)\n",
    "df[\"tweets\"] = df[\"tweets\"].apply(removeStopWords)"
   ]
  },
  {
   "cell_type": "code",
   "execution_count": 8,
   "metadata": {},
   "outputs": [
    {
     "data": {
      "text/plain": [
       "0"
      ]
     },
     "execution_count": 8,
     "metadata": {},
     "output_type": "execute_result"
    }
   ],
   "source": [
    "#Verificando novamente se houve tweets nulos após tratamento\n",
    "df[\"tweets\"].isnull().sum()"
   ]
  },
  {
   "cell_type": "code",
   "execution_count": 9,
   "metadata": {},
   "outputs": [],
   "source": [
    "le = LabelEncoder()\n",
    "df['label_num'] = le.fit_transform(df[\"label\"])"
   ]
  },
  {
   "cell_type": "code",
   "execution_count": 10,
   "metadata": {},
   "outputs": [
    {
     "name": "stdout",
     "output_type": "stream",
     "text": [
      "0 Atendimento\n",
      "1 Entrega\n",
      "2 Outro\n",
      "3 Produto\n"
     ]
    }
   ],
   "source": [
    "label_dict = (df[['label','label_num']].drop_duplicates()\n",
    "              .sort_values(by='label_num')\n",
    "              .reset_index(drop=True)['label']\n",
    "              .to_dict())\n",
    "\n",
    "for index, key in label_dict.items():\n",
    "    print(index, key)"
   ]
  },
  {
   "cell_type": "code",
   "execution_count": 11,
   "metadata": {},
   "outputs": [],
   "source": [
    "from sklearn.model_selection import train_test_split\n",
    "train_df, test_df = train_test_split(df, test_size=0.3, random_state=42)"
   ]
  },
  {
   "cell_type": "code",
   "execution_count": 12,
   "metadata": {},
   "outputs": [
    {
     "name": "stdout",
     "output_type": "stream",
     "text": [
      "8873 training examples\n",
      "3803 validation examples\n"
     ]
    }
   ],
   "source": [
    "# Splitting the data\n",
    "\n",
    "# 30% of the training data as validation data\n",
    "\n",
    "num_train_samples = int(train_df.shape[0] * 0.7)\n",
    "\n",
    "x_train = train_df['tweets'][:num_train_samples]\n",
    "y_train = train_df['label_num'][:num_train_samples]\n",
    "x_val = train_df['tweets'][num_train_samples:]\n",
    "y_val = train_df['label_num'][num_train_samples:]\n",
    "\n",
    "\n",
    "### Checking\n",
    "assert(len(x_train) + len(x_val) == train_df.shape[0])\n",
    "\n",
    "print(f\"{len(x_train)} training examples\\n{len(x_val)} validation examples\")"
   ]
  },
  {
   "cell_type": "code",
   "execution_count": 13,
   "metadata": {},
   "outputs": [
    {
     "name": "stdout",
     "output_type": "stream",
     "text": [
      "5433 testing examples\n"
     ]
    }
   ],
   "source": [
    "x_test = test_df['tweets']\n",
    "y_test = test_df['label_num']\n",
    "print(f\"{len(x_test)} testing examples\")"
   ]
  },
  {
   "cell_type": "code",
   "execution_count": 14,
   "metadata": {},
   "outputs": [],
   "source": [
    "MODEL_NAME = 'distilbert-base-cased'\n",
    "tokenizer = DistilBertTokenizer.from_pretrained(MODEL_NAME) # Loading the tokenizer"
   ]
  },
  {
   "cell_type": "code",
   "execution_count": 15,
   "metadata": {},
   "outputs": [
    {
     "name": "stdout",
     "output_type": "stream",
     "text": [
      "The maximum amount of tokens in the dataset is 124\n"
     ]
    }
   ],
   "source": [
    "# Finding the max token sequence in the training set\n",
    "\n",
    "max_val = 0\n",
    "for sent in (x_train.tolist() + x_train.tolist() + x_val.tolist()):\n",
    "    try:\n",
    "        sent_tok_len = len(tokenizer.tokenize(sent))\n",
    "        max_val = sent_tok_len if (sent_tok_len > max_val) else max_val\n",
    "    except:\n",
    "        pass\n",
    "    \n",
    "print(f\"The maximum amount of tokens in the dataset is {max_val}\")"
   ]
  },
  {
   "cell_type": "code",
   "execution_count": 16,
   "metadata": {},
   "outputs": [],
   "source": [
    "# I will set the max length and input for the deep learning model to 126\n",
    "# (Max token length + 2 for special characters [CLS] and [SEP])\n",
    "\n",
    "MAX_LENGTH = max_val + 2\n",
    "\n",
    "tokenizer = DistilBertTokenizer.from_pretrained(MODEL_NAME,  \n",
    "                                                add_special_tokens=True,\n",
    "                                                max_length=MAX_LENGTH, \n",
    "                                                pad_to_max_length=True)\n",
    "\n",
    "def tokenize(sentences, tokenizer):\n",
    "    input_ids, input_masks, input_segments = [], [], []\n",
    "    for sentence in tqdm(sentences):\n",
    "        inputs = tokenizer.encode_plus(sentence, \n",
    "                                       add_special_tokens=True, \n",
    "                                       max_length=MAX_LENGTH, \n",
    "                                       pad_to_max_length=True, \n",
    "                                       return_attention_mask=True, \n",
    "                                       return_token_type_ids=True, \n",
    "                                       truncation=True)\n",
    "        input_ids.append(inputs['input_ids'])\n",
    "        input_masks.append(inputs['attention_mask'])\n",
    "        input_segments.append(inputs['token_type_ids'])        \n",
    "        \n",
    "    return np.asarray(input_ids, dtype='int32'), np.asarray(input_masks, dtype='int32')"
   ]
  },
  {
   "cell_type": "code",
   "execution_count": 17,
   "metadata": {},
   "outputs": [
    {
     "name": "stderr",
     "output_type": "stream",
     "text": [
      "100%|██████████| 8873/8873 [00:04<00:00, 2047.74it/s]\n",
      "100%|██████████| 5433/5433 [00:02<00:00, 2120.40it/s]\n",
      "100%|██████████| 3803/3803 [00:01<00:00, 2188.98it/s]\n"
     ]
    }
   ],
   "source": [
    "X_train = tokenize(x_train, tokenizer)\n",
    "X_test = tokenize(x_test, tokenizer)\n",
    "X_val = tokenize(x_val, tokenizer)"
   ]
  },
  {
   "cell_type": "code",
   "execution_count": 31,
   "metadata": {},
   "outputs": [
    {
     "name": "stdout",
     "output_type": "stream",
     "text": [
      "Atendimento \n",
      "\n",
      "faz péss atend relaç ped diz tod entreg gat precis are agor nada! \n",
      "\n",
      "ID's\tInput Tokens\n",
      "101\t[CLS]\n",
      "175\tf\n",
      "10961\t##az\n",
      "185\tp\n",
      "10051\t##és\n",
      "1116\t##s\n",
      "8756\tate\n",
      "3276\t##nd\n",
      "1231\tre\n",
      "1742\t##la\n",
      "28201\t##ç\n",
      "185\tp\n",
      "1174\t##ed\n",
      "4267\tdi\n",
      "1584\t##z\n",
      "1106\tto\n",
      "1181\t##d\n",
      "4035\ten\n",
      "7877\t##tre\n",
      "1403\t##g\n",
      "176\tg\n",
      "2980\t##at\n",
      "3073\tpre\n",
      "21349\t##cis\n",
      "1132\tare\n",
      "2403\tago\n",
      "1197\t##r\n",
      "9468\tna\n",
      "1810\t##da\n",
      "106\t!\n",
      "102\t[SEP]\n"
     ]
    }
   ],
   "source": [
    "# Looking at entry\n",
    "\n",
    "index_num = 4\n",
    "\n",
    "print(train_df.loc[index_num]['label'], '\\n')\n",
    "\n",
    "print(x_train[index_num], '\\n')\n",
    "\n",
    "temp_tokens = tokenizer.tokenize(x_train[index_num])\n",
    "temp_ids = tokenizer.encode(x_train[index_num])\n",
    "\n",
    "print('ID\\'s', 'Input Tokens', sep='\\t')\n",
    "for i in range(len(temp_ids)):\n",
    "    if i == 0:\n",
    "        print(temp_ids[i], '[CLS]', sep='\\t')\n",
    "        continue\n",
    "    if i == len(temp_ids)-1:\n",
    "        print(temp_ids[i], '[SEP]', sep='\\t')\n",
    "        break\n",
    "    print(temp_ids[i], temp_tokens[i-1], sep='\\t')"
   ]
  },
  {
   "cell_type": "code",
   "execution_count": 19,
   "metadata": {},
   "outputs": [
    {
     "name": "stderr",
     "output_type": "stream",
     "text": [
      "Some layers from the model checkpoint at distilbert-base-cased were not used when initializing TFDistilBertModel: ['vocab_projector', 'activation_13', 'vocab_transform', 'vocab_layer_norm']\n",
      "- This IS expected if you are initializing TFDistilBertModel from the checkpoint of a model trained on another task or with another architecture (e.g. initializing a BertForSequenceClassification model from a BertForPreTraining model).\n",
      "- This IS NOT expected if you are initializing TFDistilBertModel from the checkpoint of a model that you expect to be exactly identical (initializing a BertForSequenceClassification model from a BertForSequenceClassification model).\n",
      "All the layers of TFDistilBertModel were initialized from the model checkpoint at distilbert-base-cased.\n",
      "If your task is similar to the task the model of the checkpoint was trained on, you can already use TFDistilBertModel for predictions without further training.\n"
     ]
    },
    {
     "name": "stdout",
     "output_type": "stream",
     "text": [
      "WARNING:tensorflow:From c:\\Users\\jllce\\anaconda3\\lib\\site-packages\\tensorflow\\python\\autograph\\pyct\\static_analysis\\liveness.py:83: Analyzer.lamba_check (from tensorflow.python.autograph.pyct.static_analysis.liveness) is deprecated and will be removed after 2023-09-23.\n",
      "Instructions for updating:\n",
      "Lambda fuctions will be no more assumed to be used in the statement where they are used, or at least in the same block. https://github.com/tensorflow/tensorflow/issues/56089\n",
      "Model: \"model\"\n",
      "__________________________________________________________________________________________________\n",
      " Layer (type)                   Output Shape         Param #     Connected to                     \n",
      "==================================================================================================\n",
      " input_token (InputLayer)       [(None, 126)]        0           []                               \n",
      "                                                                                                  \n",
      " masked_token (InputLayer)      [(None, 126)]        0           []                               \n",
      "                                                                                                  \n",
      " tf_distil_bert_model (TFDistil  TFBaseModelOutput(l  65190912   ['input_token[0][0]',            \n",
      " BertModel)                     ast_hidden_state=(N               'masked_token[0][0]']           \n",
      "                                one, 126, 768),                                                   \n",
      "                                 hidden_states=((No                                               \n",
      "                                ne, 126, 768),                                                    \n",
      "                                 (None, 126, 768),                                                \n",
      "                                 (None, 126, 768),                                                \n",
      "                                 (None, 126, 768),                                                \n",
      "                                 (None, 126, 768),                                                \n",
      "                                 (None, 126, 768),                                                \n",
      "                                 (None, 126, 768)),                                               \n",
      "                                 attentions=((None,                                               \n",
      "                                 12, None, 126),                                                  \n",
      "                                 (None, 12, None, 1                                               \n",
      "                                26),                                                              \n",
      "                                 (None, 12, None, 1                                               \n",
      "                                26),                                                              \n",
      "                                 (None, 12, None, 1                                               \n",
      "                                26),                                                              \n",
      "                                 (None, 12, None, 1                                               \n",
      "                                26),                                                              \n",
      "                                 (None, 12, None, 1                                               \n",
      "                                26)))                                                             \n",
      "                                                                                                  \n",
      " bidirectional (Bidirectional)  (None, 126, 256)     918528      ['tf_distil_bert_model[0][13]']  \n",
      "                                                                                                  \n",
      " global_max_pooling1d (GlobalMa  (None, 256)         0           ['bidirectional[0][0]']          \n",
      " xPooling1D)                                                                                      \n",
      "                                                                                                  \n",
      " dense (Dense)                  (None, 64)           16448       ['global_max_pooling1d[0][0]']   \n",
      "                                                                                                  \n",
      " dropout_19 (Dropout)           (None, 64)           0           ['dense[0][0]']                  \n",
      "                                                                                                  \n",
      " dense_1 (Dense)                (None, 4)            260         ['dropout_19[0][0]']             \n",
      "                                                                                                  \n",
      "==================================================================================================\n",
      "Total params: 66,126,148\n",
      "Trainable params: 935,236\n",
      "Non-trainable params: 65,190,912\n",
      "__________________________________________________________________________________________________\n"
     ]
    }
   ],
   "source": [
    "# Creating the model\n",
    "\n",
    "config = DistilBertConfig.from_pretrained(MODEL_NAME, output_hidden_states=True, output_attentions=True)\n",
    "DistilBERT = TFDistilBertModel.from_pretrained(MODEL_NAME, config=config)\n",
    "\n",
    "input_ids_in = tf.keras.layers.Input(shape=(MAX_LENGTH,), name='input_token', dtype='int32')\n",
    "input_masks_in = tf.keras.layers.Input(shape=(MAX_LENGTH,), name='masked_token', dtype='int32') \n",
    "\n",
    "embedding_layer = DistilBERT(input_ids = input_ids_in, attention_mask = input_masks_in)[0]\n",
    "X = tf.keras.layers.Bidirectional(tf.keras.layers.LSTM(128, return_sequences=True))(embedding_layer)\n",
    "X = tf.keras.layers.GlobalMaxPool1D()(X)\n",
    "X = tf.keras.layers.Dense(64, activation='relu')(X)\n",
    "X = tf.keras.layers.Dropout(0.2)(X)\n",
    "X = tf.keras.layers.Dense(4, activation='softmax')(X)\n",
    "\n",
    "model = tf.keras.Model(inputs=[input_ids_in, input_masks_in], outputs = X)\n",
    "\n",
    "for layer in model.layers[:3]:\n",
    "    layer.trainable = False\n",
    "\n",
    "model.summary()"
   ]
  },
  {
   "cell_type": "code",
   "execution_count": 20,
   "metadata": {},
   "outputs": [],
   "source": [
    "# Creating a output directory to store the models weights\n",
    "\n",
    "output_dir = './model1_outputs'\n",
    "if not os.path.exists(output_dir): ### If the file directory doesn't already exists,\n",
    "    os.makedirs(output_dir) ### Make it please"
   ]
  },
  {
   "cell_type": "code",
   "execution_count": 21,
   "metadata": {},
   "outputs": [],
   "source": [
    "# Callbacks\n",
    "\n",
    "model_checkpoint = ModelCheckpoint(filepath=output_dir+'/weights.{epoch:02d}.hdf5',\n",
    "                                  save_weights_only=True)\n",
    "\n",
    "early_stopping = EarlyStopping(patience=2, # Stop after 2 epochs of no improvement\n",
    "                               monitor='val_loss', # Look at validation_loss\n",
    "                               min_delta=0, # After 0 change\n",
    "                               mode='min', # Stop when quantity has stopped decreasing\n",
    "                               restore_best_weights=False, # Don't Restore the best weights\n",
    "                               verbose=1) \n",
    "\n",
    "reduce_lr = ReduceLROnPlateau(monitor='val_loss', # Look at validation loss\n",
    "                              min_lr=0.000001, # Lower bound of learning rate\n",
    "                              patience=1, # Reduce after 1 with little change\n",
    "                              mode='min', # Stop when quantity has stopped decreasing\n",
    "                              factor=0.1, # Reduce by a factor of 1/10\n",
    "                              min_delta=0.01, # Minimumn change needed\n",
    "                              verbose=1)"
   ]
  },
  {
   "cell_type": "code",
   "execution_count": 22,
   "metadata": {},
   "outputs": [
    {
     "name": "stdout",
     "output_type": "stream",
     "text": [
      "Epoch 1/10\n",
      "555/555 [==============================] - 3437s 6s/step - loss: 0.7679 - accuracy: 0.7117 - val_loss: 0.6038 - val_accuracy: 0.7794 - lr: 0.0010\n",
      "Epoch 2/10\n",
      "555/555 [==============================] - 3412s 6s/step - loss: 0.5796 - accuracy: 0.7933 - val_loss: 0.5456 - val_accuracy: 0.7978 - lr: 0.0010\n",
      "Epoch 3/10\n",
      "555/555 [==============================] - 2685s 5s/step - loss: 0.5122 - accuracy: 0.8129 - val_loss: 0.5319 - val_accuracy: 0.8078 - lr: 0.0010\n",
      "Epoch 4/10\n",
      "555/555 [==============================] - 2521s 5s/step - loss: 0.4769 - accuracy: 0.8262 - val_loss: 0.5216 - val_accuracy: 0.8073 - lr: 0.0010\n",
      "Epoch 5/10\n",
      "555/555 [==============================] - ETA: 0s - loss: 0.4444 - accuracy: 0.8371\n",
      "Epoch 5: ReduceLROnPlateau reducing learning rate to 0.00010000000474974513.\n",
      "555/555 [==============================] - 2549s 5s/step - loss: 0.4444 - accuracy: 0.8371 - val_loss: 0.5237 - val_accuracy: 0.8088 - lr: 0.0010\n",
      "Epoch 6/10\n",
      "555/555 [==============================] - 2636s 5s/step - loss: 0.3699 - accuracy: 0.8659 - val_loss: 0.5111 - val_accuracy: 0.8128 - lr: 1.0000e-04\n",
      "Epoch 7/10\n",
      "555/555 [==============================] - ETA: 0s - loss: 0.3454 - accuracy: 0.8738\n",
      "Epoch 7: ReduceLROnPlateau reducing learning rate to 1.0000000474974514e-05.\n",
      "555/555 [==============================] - 2599s 5s/step - loss: 0.3454 - accuracy: 0.8738 - val_loss: 0.5149 - val_accuracy: 0.8117 - lr: 1.0000e-04\n",
      "Epoch 8/10\n",
      "555/555 [==============================] - ETA: 0s - loss: 0.3312 - accuracy: 0.8799\n",
      "Epoch 8: ReduceLROnPlateau reducing learning rate to 1.0000000656873453e-06.\n",
      "555/555 [==============================] - 2538s 5s/step - loss: 0.3312 - accuracy: 0.8799 - val_loss: 0.5112 - val_accuracy: 0.8125 - lr: 1.0000e-05\n",
      "Epoch 8: early stopping\n"
     ]
    }
   ],
   "source": [
    "# Compile and Train\n",
    "\n",
    "model.compile(loss='sparse_categorical_crossentropy', optimizer='adam', metrics=['accuracy'])\n",
    "\n",
    "history = model.fit(X_train, \n",
    "                    y_train, \n",
    "                    epochs = 10,\n",
    "                    batch_size=16, \n",
    "                    validation_data=(X_val, y_val), \n",
    "                    callbacks=[model_checkpoint, early_stopping, reduce_lr])"
   ]
  },
  {
   "cell_type": "code",
   "execution_count": 23,
   "metadata": {},
   "outputs": [
    {
     "name": "stdout",
     "output_type": "stream",
     "text": [
      "Lowest Validation Loss: epoch 6\n",
      "Highest Validation Accuracy: epoch 6\n"
     ]
    },
    {
     "data": {
      "image/png": "[encoded data removed]",
      "text/plain": [
       "<Figure size 1200x500 with 2 Axes>"
      ]
     },
     "metadata": {},
     "output_type": "display_data"
    }
   ],
   "source": [
    "# Plotting the training accuracy and loss\n",
    "def plot_history(history):\n",
    "    acc = history.history['accuracy']\n",
    "    val_acc = history.history['val_accuracy']\n",
    "    loss = history.history['loss']\n",
    "    val_loss = history.history['val_loss']\n",
    "    x = range(1, len(acc) + 1)\n",
    "\n",
    "    plt.figure(figsize=(12, 5))\n",
    "    plt.subplot(1, 2, 1)\n",
    "    plt.plot(x, acc, 'b', label='Training acc')\n",
    "    plt.plot(x, val_acc, 'r', label='Validation acc')\n",
    "    plt.title('Training and validation accuracy')\n",
    "    plt.legend()\n",
    "    plt.subplot(1, 2, 2)\n",
    "    plt.plot(x, loss, 'b', label='Training loss')\n",
    "    plt.plot(x, val_loss, 'r', label='Validation loss')\n",
    "    plt.title('Training and validation loss')\n",
    "    plt.legend()\n",
    "    print(\"Lowest Validation Loss: epoch {}\".format(np.argmin(val_loss)+1))\n",
    "    print(\"Highest Validation Accuracy: epoch {}\".format(np.argmax(val_acc)+1))\n",
    "\n",
    "plot_history(history)"
   ]
  },
  {
   "cell_type": "code",
   "execution_count": 24,
   "metadata": {},
   "outputs": [],
   "source": [
    "# Loading the model with the best validation accuracy\n",
    "\n",
    "def get_min_val_loss_epoch(history):\n",
    "    return \"0\"+str(np.argmin(history.history['val_loss'])+1)\n",
    "\n",
    "def get_max_val_acc_epoch(history):\n",
    "    return \"0\"+str(np.argmax(history.history['val_accuracy'])+1)"
   ]
  },
  {
   "cell_type": "code",
   "execution_count": 25,
   "metadata": {},
   "outputs": [],
   "source": [
    "epoch_num = get_max_val_acc_epoch(history)\n",
    "model.load_weights(output_dir+\"/weights.\"+epoch_num+\".hdf5\") # Load in model weights"
   ]
  },
  {
   "cell_type": "code",
   "execution_count": 26,
   "metadata": {},
   "outputs": [
    {
     "name": "stdout",
     "output_type": "stream",
     "text": [
      "170/170 [==============================] - 873s 5s/step\n"
     ]
    }
   ],
   "source": [
    "# Making inference on the test data\n",
    "y_test_probs = model.predict(X_test)\n",
    "\n",
    "# Turn probabilities into an interger prediction\n",
    "y_hat = []\n",
    "for prob in y_test_probs:\n",
    "    y_hat.append(np.argmax(prob))"
   ]
  },
  {
   "cell_type": "code",
   "execution_count": 27,
   "metadata": {},
   "outputs": [],
   "source": [
    "labels_4 = ['Atendimento','Entrega','Outro','Produto'] \n",
    "\n",
    "def print_cf1(y_test, y_hat):\n",
    "    cm = confusion_matrix(y_test, y_hat)\n",
    "    sns.set(font_scale = 1.4, color_codes=True, palette=\"deep\")\n",
    "    sns.heatmap(pd.DataFrame(cm, index=labels_4,columns=[0,1,2,3]), \n",
    "                annot = True,\n",
    "                annot_kws = {\"size\":16},\n",
    "                fmt=\"d\",\n",
    "                cmap=\"YlGnBu\")\n",
    "    plt.title(\"Confusion Matrix\")\n",
    "    plt.xlabel(\"Predicted Value\")\n",
    "    plt.xticks([0,1,2,3], labels_4, rotation=45)\n",
    "    plt.ylabel(\"True Value\")\n",
    "    plt.show()"
   ]
  },
  {
   "cell_type": "code",
   "execution_count": 28,
   "metadata": {},
   "outputs": [
    {
     "name": "stdout",
     "output_type": "stream",
     "text": [
      "Accuracy: 0.8170439904288607\n"
     ]
    },
    {
     "data": {
      "image/png": "[encoded data removed]",
      "text/plain": [
       "<Figure size 640x480 with 2 Axes>"
      ]
     },
     "metadata": {},
     "output_type": "display_data"
    }
   ],
   "source": [
    "# Results\n",
    "\n",
    "print(\"Accuracy:\", accuracy_score(y_test, y_hat))\n",
    "print_cf1(y_test, y_hat)"
   ]
  },
  {
   "cell_type": "code",
   "execution_count": 29,
   "metadata": {},
   "outputs": [
    {
     "name": "stdout",
     "output_type": "stream",
     "text": [
      "              precision    recall  f1-score   support\n",
      "\n",
      " Atendimento       0.77      0.65      0.71       612\n",
      "     Entrega       0.87      0.86      0.87      1432\n",
      "       Outro       0.83      0.88      0.86      2520\n",
      "     Produto       0.69      0.66      0.68       869\n",
      "\n",
      "    accuracy                           0.82      5433\n",
      "   macro avg       0.79      0.77      0.78      5433\n",
      "weighted avg       0.82      0.82      0.82      5433\n",
      "\n"
     ]
    }
   ],
   "source": [
    "print(classification_report(y_test, y_hat, target_names=labels_4))"
   ]
  },
  {
   "cell_type": "code",
   "execution_count": null,
   "metadata": {},
   "outputs": [],
   "source": []
  }
 ],
 "metadata": {
  "kernelspec": {
   "display_name": "base",
   "language": "python",
   "name": "python3"
  },
  "language_info": {
   "codemirror_mode": {
    "name": "ipython",
    "version": 3
   },
   "file_extension": ".py",
   "mimetype": "text/x-python",
   "name": "python",
   "nbconvert_exporter": "python",
   "pygments_lexer": "ipython3",
   "version": "3.9.15"
  },
  "orig_nbformat": 4,
  "vscode": {
   "interpreter": {
    "hash": "a7e5e0eaa77a28125227fb7ae19e78585bc0f4691d77dafd52dbfc5225ddb4e5"
   }
  }
 },
 "nbformat": 4,
 "nbformat_minor": 2
}
