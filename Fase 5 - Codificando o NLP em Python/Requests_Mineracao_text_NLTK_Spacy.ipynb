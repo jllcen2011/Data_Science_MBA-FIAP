{
 "cells": [
  {
   "cell_type": "code",
   "execution_count": 35,
   "metadata": {},
   "outputs": [],
   "source": [
    "import requests #pra capturar a info\n",
    "from bs4 import BeautifulSoup #pra colocar no formato xml\n",
    "import sys #pra usar num except\n",
    "import traceback #pra trzer uma formataçao de erro diferenciada\n",
    "import urllib\n",
    "import spacy #esses dois abaixo pra poder pre-processar o texto\n",
    "import nltk\n",
    "from nltk import word_tokenize\n",
    "from nltk.corpus import stopwords\n",
    "from nltk.stem.porter import *\n",
    "from nltk.probability import FreqDist\n",
    "import re #é o regex\n",
    "from wordcloud import WordCloud\n",
    "from matplotlib import pyplot as plt\n",
    "from collections import Counter"
   ]
  },
  {
   "cell_type": "code",
   "execution_count": 36,
   "metadata": {},
   "outputs": [],
   "source": [
    "def get_text (url): \n",
    "    buf = []\n",
    "\n",
    "    try:\n",
    "        soup = BeautifulSoup(requests.get(url).text, \"html.parser\") #vai pegar o text no site e deixar no formato \n",
    "                                                        #parecido com xml, onde vou usar um parser do tipo html. \n",
    "\n",
    "        for p in soup.find_all(\"p\"): #daí, dentro do soup, eu vou fazer uma busca por tags \"p\" e add \n",
    "            buf.append(p.get_text()) # esse texto no buf\n",
    "\n",
    "        return \"\\n\".join(buf) #fazer um join pra pegar cada elemento dessa lista e transformar num só string\n",
    "    \n",
    "    except:\n",
    "        print(traceback.format_exc()) #se nao der certo, ele sai do código e dá uma formatação específica\n",
    "        sys.exit(-1)"
   ]
  },
  {
   "cell_type": "code",
   "execution_count": 60,
   "metadata": {},
   "outputs": [
    {
     "name": "stdout",
     "output_type": "stream",
     "text": [
      "live\n",
      "russia's war in ukraine\n",
      "live\n",
      "americans kidnapped in mexico\n",
      "live\n",
      "louisville police report\n",
      "live\n",
      "what's moving markets today\n",
      "by aditi sangal, amy woodyatt, simone mccarthy, tara subramaniam and maureen chowdhury, cnn\n",
      "our live coverage has ended. read more about today’s developments in the posts below.\n",
      "from cnn's yulia kesaieva\n",
      "ukrainian president volodymyr zelensky claimed his country’s military has destroyed an important russian ammunition depot where moscow kept s-300 missiles it fired on the city of kharkiv.\n",
      " “good thing mlrs (multiple launch rocket systems). thank you, our heroes,” he concluded.\n",
      "the ukrainian president went on to promise retribution for the russian shelling of several ukrainian cities and towns.\n",
      "  \n",
      "from cnn's yulia kesaieva\n",
      "ukrainian president volodymyr zelenksy said he looks forward to working with incoming british prime minister liz truss, while at the same time thanking the uk’s outgoing leader, her predecessor, boris johnson, during his nightly address. \n",
      "“and i believe that together we will be able to do a lot more to protect our nations and to thwart all russian destructive efforts,\" he added. \n",
      "zelensky’s warm welcome for truss came after bidding farewell to outgoing prime minister boris johnson, with whom he had spoken earlier on monday. \n",
      "“it is usually said that there is no friendship in politics, but boris is the case when you understand each other with half a word, when friendship exists, when it is strong and when it really strengthens both our states,” zelensky said. “starting with the first minutes of russia's full-scale war against ukraine and europe, boris has been with us. his first and most important question has always been: \"how else can i help?\"\n",
      "“i want to emphasize: even before feb. 24, we always felt that britain was together with ukraine,” he added. “today i thanked boris on behalf of all ukrainians, and i am sure that this is truly a multi-million ukrainian \"thank you\"\n",
      "from cnn's yulia kesaieva and vasco cotovio\n",
      "\n",
      "\n",
      "ukrainian president volodymyr zelensky has accused russia of intentionally deteriorating the situation around zaporizhzhia nuclear plant, amid a visit by the international atomic energy agency (iaea).\n",
      "a spokesperson for the iaea told cnn earlier on monday that the transmission line connecting the zaporizhzhia nuclear power plant to the ukrainian energy grid had been intentionally disconnected due to a fire. \n",
      "the spokesperson also said the line had not suffered any damage and would be reconnected as soon as the fire was extinguished. ukraine blamed russia for the shelling, which, it said, caused the fire.\n",
      "“russia is only interested in keeping the situation at its worst for the longest time,” he added, explaining this was the second time the zaporizhzhia nuclear power plant had been disconnected from the ukrainian grid, bringing it “one step away from a radiation disaster.”\n",
      "“this can only be amended by enhancing sanctions, only by officially recognizing russia as a terrorist state — at all levels,” zelensky concluded. “this requires an international response — starting with the un to every normal state.”\n",
      "from cnn's sharon braithwaite in london  \n",
      "\n",
      "\n",
      "more than six months into its war in ukraine, russia \"has yet to achieve any of its strategic objectives\" in its invasion, uk defense secretary ben wallace said on monday.\n",
      "russia \"continues to lose significant equipment and personnel\" in the war, he added, saying that the losses will have a lasting impact on moscow's future combat effectiveness.\n",
      "the defense secretary accused putin of \"weaponizing\" energy and urged his fellow members of parliament to communicate the state of affairs to their voters. \n",
      "\"it is important, i think, we communicate to our constituents that some of the deeply uncomfortable times are facing us all are driven by effectively a totalitarian and a regime in russia that is deliberately setting out to harm us and trying to test us about whether we will sacrifice our values for our energy costs,\" he said, \n",
      "wallace also urged unity across europe over the winter. \n",
      "“if we don’t stand together, we don’t deal with it now, these threats won’t go away on their own,\" he said. \"we shouldn’t forget that this is – sadly – but it is an opportunity to diversify our supply, and it will be better for the long run for everyone as well.\"\n",
      "from cnn’s vasco cotovio and yulia kesaieva\n",
      "ukraine says it has struck a base used by russia’s federal security service (fsb) in kamianka-dniprovska of the zaporizhzhia region, the ukraine's defense intelligence division said on monday.\n",
      "russian forces were also using one of the buildings to store ballots for an eventual referendum, according to the defense intelligence.\n",
      "open-source intelligence suggests an explosion did happen in kamianka-dniprovska, but cnn cannot independently verify ukrainian claims that the site was used as an fsb base or that ballots for a referendum were indeed stored on location. \n",
      "russia has not commented on the incident.\n",
      "from cnn's yulia kesaieva\n",
      "\n",
      "\n",
      "the ukrainian military says it repelled multiple russian offensives throughout the day and was able to push moscow’s armies back near kramatorsk in eastern ukraine, its general staff said in a situational update on monday evening.\n",
      "“our defenders successfully repelled enemy offensive attempts in the areas of the settlements of bilohorivka, hryhorivka, pokrovske, bakhmutske, lozove, spartak, soledar, zaitseve and semihiria,” the general staff said. “in the kramatorsk direction, they had tactical success and knocked the enemy out of the positions he had previously occupied.”\n",
      "according to the general staff, the russian military carried out 40 attacks using multiple launch rocket systems and 25 airstrikes. \n",
      "the ukrainian military went on to claim success in specific strikes using long-range artillery in kherson and kharkiv.\n",
      "“the successful actions of the defense forces led to the disabling of crossings in the kherson area and once again nullified the aggressor's attempts to resume the transfer of troops across the dnipro river,” the general staff added.\n",
      "from cnn's gayle harrington\n",
      "\n",
      "\n",
      "the president of the european commission, ursula von der leyen, says the european union is preparing plans for a cap on russian pipeline gas. in a tweet, she also stated that the eu commission is preparing proposals to help vulnerable households and businesses to cope with high energy prices.\n",
      "energy ministers from eu countries are holding an emergency meeting in brussels on friday, september 9 to discuss a response to the rising gas prices. \n",
      "earlier on monday, russia blamed the disruption to gas supplies in europe through nord stream 1 on western sanctions saying they would resume if those sanctions were lifted. \n",
      "von der leyen accused russian president putin of \"using energy as a weapon by cutting supply and manipulating our energy markets.\" \n",
      "from cnn's yulia kesaieva, olga voitovych and vasco cotovio\n",
      "the last operating reactor at the zaporizhzhia nuclear power plant has been disconnected from the ukrainian grid, the country’s nuclear agency energoatom said on monday, saying it was the result of a fire caused by russian shelling. \n",
      "“as a result, power unit no. 6 was unloaded and disconnected from the grid, which currently supplies the znpp's own needs,\" the agency said in its statement.\n",
      "energoatom is working on restoring the connection, a spokesperson told cnn on monday. \n",
      "“there is a chance to restore the power transmission to the ukrainian grid,” the spokesperson added, saying he could not detail timings as the situation remained tense. \n",
      "the spokesperson noted that the situation was not considered an emergency. \n",
      "“the power unit no.6 is still working and cooling all the rest of nuclear reactors. so basically it maintains the power of the plant itself,” the spokesperson explained. “when the generators turn on, usually automatically, this situation would be considered emergency. for now, it is not.”\n",
      "\n",
      "the russian controlled military-civilian administration of the city of enerhodar, where the power plant is located, would not say whether the power plant had been disconnected from the ukrainian grid, but said the situation at the plant was normal.\n",
      "the energoatom spokesperson also said disconnecting the plant from the ukrainian grid would not make connecting the plant to the russian grid any easier, due to the damage to transmission lines.\n",
      " \n",
      "please enable javascript for a better experience.\n"
     ]
    }
   ],
   "source": [
    "text = get_text(\"https://edition.cnn.com/europe/live-news/russia-ukraine-war-news-09-05-22/index.html\")\n",
    "text = text.lower()\n",
    "print(text)"
   ]
  },
  {
   "cell_type": "code",
   "execution_count": 38,
   "metadata": {},
   "outputs": [
    {
     "name": "stdout",
     "output_type": "stream",
     "text": [
      "Hello, World \n",
      " Hello, World\n"
     ]
    }
   ],
   "source": [
    "# !python -m spacy download en_core_web_sm\n",
    "nlp = spacy.load(\"en_core_web_sm\")\n",
    "x = \"Hello, World\"\n",
    "y = nlp(x)\n",
    "print(x,\"\\n\",y)"
   ]
  },
  {
   "cell_type": "code",
   "execution_count": 39,
   "metadata": {},
   "outputs": [
    {
     "name": "stdout",
     "output_type": "stream",
     "text": [
      "<class 'str'> \n",
      " <class 'spacy.tokens.doc.Doc'>\n"
     ]
    }
   ],
   "source": [
    "print(type(x), \"\\n\", type(y))\n",
    "\n",
    "#reparar que o spacy transforma a string em tokens. Entao n se está mais trabalhando com str."
   ]
  },
  {
   "cell_type": "code",
   "execution_count": 40,
   "metadata": {},
   "outputs": [],
   "source": [
    "def preprocess_spacy(string):\n",
    "    #Deixar apenas elementos alfanuméricos\n",
    "    string = re.sub(r\"[^a-zA-Z0-9]+\", \" \", string)\n",
    "\n",
    "    #tokenizar\n",
    "    words = nlp(string)\n",
    "\n",
    "    #remover stopwords. Lembrando que estamos no spacy. A list comprehension no NLTK seria um pouco diferente.\n",
    "    #Vira meio que um atributo (.is_stop, .lemma_, etc.)\n",
    "    filtered_words = [word for word in words if not word.is_stop]\n",
    "\n",
    "    #aplicar a lematização (que diferente da stematização, vai reduzir as variações de uma palavra\n",
    "    # a uma palavra existente e neutra. A stematização reduz a palavra a um radical invariável)\n",
    "    lemma_words = [word.lemma_ for word in filtered_words]\n",
    "\n",
    "    return lemma_words\n",
    "\n"
   ]
  },
  {
   "cell_type": "code",
   "execution_count": 41,
   "metadata": {},
   "outputs": [],
   "source": [
    "#Tentando fazer o mesmo, só que com o NLTK:\n",
    "from nltk.stem import WordNetLemmatizer\n",
    "# nltk.download('omw-1.4')\n",
    "sw = set(stopwords.words(\"english\")) #estou criando uma lista com as stopwords em ingles. o set() me garante\n",
    "#que essa lista tenha palavras únicas, pois pode ser que quando eu puxe a lista das stopwords, tenha palavras\n",
    "#repetidas, afinal é alguem incluindo stopwords nela toda hora no mundo.\n",
    "lemma = WordNetLemmatizer() #estou instanciando a classe de lematização"
   ]
  },
  {
   "cell_type": "code",
   "execution_count": 42,
   "metadata": {},
   "outputs": [],
   "source": [
    "def preprocess_nltk(string):\n",
    "    #Deixar apenas elementos alfanuméricos\n",
    "    string = re.sub(r\"[^a-zA-Z0-9]+\", \" \", string)\n",
    "\n",
    "    #palavras em minusculo\n",
    "    string = string.lower()\n",
    "\n",
    "    #tokenizar\n",
    "    words = word_tokenize(string)\n",
    "\n",
    "    #remover stopwords.\n",
    "    filtered_words = [word for word in words if word not in sw]\n",
    "\n",
    "    #aplicar a lematização\n",
    "    lemma_words = [lemma.lemmatize(word) for word in filtered_words]\n",
    "\n",
    "\n",
    "    return lemma_words"
   ]
  },
  {
   "cell_type": "code",
   "execution_count": 55,
   "metadata": {},
   "outputs": [],
   "source": [
    "text_spacy = preprocess_spacy(text)\n",
    "text_nltk = preprocess_nltk(text) "
   ]
  },
  {
   "cell_type": "code",
   "execution_count": 56,
   "metadata": {},
   "outputs": [
    {
     "name": "stdout",
     "output_type": "stream",
     "text": [
      "['live', 'russia', 's', 'war', 'ukraine', 'live', 'americans', 'kidnap', 'mexico', 'live', 'louisville', 'police', 'report', 'live', 's', 'move', 'market', 'today', 'aditi', 'sangal', 'amy', 'woodyatt', 'simone', 'mccarthy', 'tara', 'subramaniam', 'maureen', 'chowdhury', 'cnn', 'live', 'coverage', 'end', 'read', 'today', 's', 'development', 'post', 'cnn', 's', 'yulia', 'kesaieva', 'ukrainian', 'president', 'volodymyr', 'zelensky', 'claim', 'country', 's', 'military', 'destroy', 'important', 'russian', 'ammunition', 'depot', 'moscow', 'keep', 's', '300', 'missile', 'fire', 'city', 'kharkiv', 'good', 'thing', 'mlrs', 'multiple', 'launch', 'rocket', 'system', 'thank', 'hero', 'conclude', 'ukrainian', 'president', 'go', 'promise', 'retribution', 'russian', 'shelling', 'ukrainian', 'city', 'town', 'cnn', 's', 'yulia', 'kesaieva', 'ukrainian', 'president', 'volodymyr', 'zelenksy', 'say', 'look', 'forward', 'work', 'incoming', 'british', 'prime', 'minister', 'liz', 'trus', 'time', 'thank', 'uk', 's', 'outgoing', 'leader', 'predecessor', 'boris', 'johnson', 'nightly', 'address', 'believe', 'able', 'lot', 'protect', 'nation', 'thwart', 'russian', 'destructive', 'effort', 'add', 'zelensky', 's', 'warm', 'welcome', 'truss', 'come', 'bid', 'farewell', 'outgoing', 'prime', 'minister', 'boris', 'johnson', 'speak', 'early', 'monday', 'usually', 'say', 'friendship', 'politic', 'boris', 'case', 'understand', 'half', 'word', 'friendship', 'exist', 'strong', 'strengthen', 'state', 'zelensky', 'say', 'start', 'minute', 'russia', 's', 'scale', 'war', 'ukraine', 'europe', 'boris', 'important', 'question', 'help', 'want', 'emphasize', 'feb', '24', 'feel', 'britain', 'ukraine', 'add', 'today', 'thank', 'boris', 'behalf', 'ukrainian', 'sure', 'truly', 'multi', 'million', 'ukrainian', 'thank', 'cnn', 's', 'yulia', 'kesaieva', 'vasco', 'cotovio', 'ukrainian', 'president', 'volodymyr', 'zelensky', 'accuse', 'russia', 'intentionally', 'deteriorate', 'situation', 'zaporizhzhia', 'nuclear', 'plant', 'amid', 'visit', 'international', 'atomic', 'energy', 'agency', 'iaea', 'spokesperson', 'iaea', 'tell', 'cnn', 'early', 'monday', 'transmission', 'line', 'connect', 'zaporizhzhia', 'nuclear', 'power', 'plant', 'ukrainian', 'energy', 'grid', 'intentionally', 'disconnect', 'fire', 'spokesperson', 'say', 'line', 'suffer', 'damage', 'reconnecte', 'soon', 'fire', 'extinguish', 'ukraine', 'blame', 'russia', 'shelling', 'say', 'cause', 'fire', 'russia', 'interested', 'keep', 'situation', 'bad', 'long', 'time', 'add', 'explain', 'second', 'time', 'zaporizhzhia', 'nuclear', 'power', 'plant', 'disconnect', 'ukrainian', 'grid', 'bring', 'step', 'away', 'radiation', 'disaster', 'amend', 'enhance', 'sanction', 'officially', 'recognize', 'russia', 'terrorist', 'state', 'level', 'zelensky', 'conclude', 'require', 'international', 'response', 'start', 'un', 'normal', 'state', 'cnn', 's', 'sharon', 'braithwaite', 'london', 'month', 'war', 'ukraine', 'russia', 'achieve', 'strategic', 'objective', 'invasion', 'uk', 'defense', 'secretary', 'ben', 'wallace', 'say', 'monday', 'russia', 'continue', 'lose', 'significant', 'equipment', 'personnel', 'war', 'add', 'say', 'loss', 'lasting', 'impact', 'moscow', 's', 'future', 'combat', 'effectiveness', 'defense', 'secretary', 'accuse', 'putin', 'weaponize', 'energy', 'urge', 'fellow', 'member', 'parliament', 'communicate', 'state', 'affair', 'voter', 'important', 'think', 'communicate', 'constituent', 'deeply', 'uncomfortable', 'time', 'face', 'drive', 'effectively', 'totalitarian', 'regime', 'russia', 'deliberately', 'set', 'harm', 'try', 'test', 'sacrifice', 'value', 'energy', 'cost', 'say', 'wallace', 'urge', 'unity', 'europe', 'winter', 'don', 't', 'stand', 'don', 't', 'deal', 'threat', 'win', 't', 'away', 'say', 'shouldn', 't', 'forget', 'sadly', 'opportunity', 'diversify', 'supply', 'well', 'long', 'run', 'cnn', 's', 'vasco', 'cotovio', 'yulia', 'kesaieva', 'ukraine', 'say', 'strike', 'base', 'russia', 's', 'federal', 'security', 'service', 'fsb', 'kamianka', 'dniprovska', 'zaporizhzhia', 'region', 'ukraine', 's', 'defense', 'intelligence', 'division', 'say', 'monday', 'russian', 'force', 'building', 'store', 'ballot', 'eventual', 'referendum', 'accord', 'defense', 'intelligence', 'open', 'source', 'intelligence', 'suggest', 'explosion', 'happen', 'kamianka', 'dniprovska', 'cnn', 'independently', 'verify', 'ukrainian', 'claim', 'site', 'fsb', 'base', 'ballot', 'referendum', 'store', 'location', 'russia', 'comment', 'incident', 'cnn', 's', 'yulia', 'kesaieva', 'ukrainian', 'military', 'say', 'repel', 'multiple', 'russian', 'offensive', 'day', 'able', 'push', 'moscow', 's', 'army', 'near', 'kramatorsk', 'eastern', 'ukraine', 'general', 'staff', 'say', 'situational', 'update', 'monday', 'evening', 'defender', 'successfully', 'repel', 'enemy', 'offensive', 'attempt', 'area', 'settlement', 'bilohorivka', 'hryhorivka', 'pokrovske', 'bakhmutske', 'lozove', 'spartak', 'soledar', 'zaitseve', 'semihiria', 'general', 'staff', 'say', 'kramatorsk', 'direction', 'tactical', 'success', 'knock', 'enemy', 'position', 'previously', 'occupy', 'accord', 'general', 'staff', 'russian', 'military', 'carry', '40', 'attack', 'multiple', 'launch', 'rocket', 'system', '25', 'airstrike', 'ukrainian', 'military', 'go', 'claim', 'success', 'specific', 'strike', 'long', 'range', 'artillery', 'kherson', 'kharkiv', 'successful', 'action', 'defense', 'force', 'lead', 'disabling', 'crossing', 'kherson', 'area', 'nullify', 'aggressor', 's', 'attempt', 'resume', 'transfer', 'troop', 'dnipro', 'river', 'general', 'staff', 'add', 'cnn', 's', 'gayle', 'harrington', 'president', 'european', 'commission', 'ursula', 'von', 'der', 'leyen', 'say', 'european', 'union', 'prepare', 'plan', 'cap', 'russian', 'pipeline', 'gas', 'tweet', 'state', 'eu', 'commission', 'prepare', 'proposal', 'help', 'vulnerable', 'household', 'business', 'cope', 'high', 'energy', 'price', 'energy', 'minister', 'eu', 'country', 'hold', 'emergency', 'meeting', 'brussels', 'friday', 'september', '9', 'discuss', 'response', 'rise', 'gas', 'price', 'early', 'monday', 'russia', 'blame', 'disruption', 'gas', 'supply', 'europe', 'nord', 'stream', '1', 'western', 'sanction', 'say', 'resume', 'sanction', 'lift', 'von', 'der', 'leyen', 'accuse', 'russian', 'president', 'putin', 'energy', 'weapon', 'cut', 'supply', 'manipulate', 'energy', 'market', 'cnn', 's', 'yulia', 'kesaieva', 'olga', 'voitovych', 'vasco', 'cotovio', 'operating', 'reactor', 'zaporizhzhia', 'nuclear', 'power', 'plant', 'disconnect', 'ukrainian', 'grid', 'country', 's', 'nuclear', 'agency', 'energoatom', 'say', 'monday', 'say', 'result', 'fire', 'cause', 'russian', 'shell', 'result', 'power', 'unit', '6', 'unload', 'disconnect', 'grid', 'currently', 'supply', 'znpp', 's', 'need', 'agency', 'say', 'statement', 'energoatom', 'work', 'restore', 'connection', 'spokesperson', 'tell', 'cnn', 'monday', 'chance', 'restore', 'power', 'transmission', 'ukrainian', 'grid', 'spokesperson', 'add', 'say', 'detail', 'timing', 'situation', 'remain', 'tense', 'spokesperson', 'note', 'situation', 'consider', 'emergency', 'power', 'unit', '6', 'work', 'cool', 'rest', 'nuclear', 'reactor', 'basically', 'maintain', 'power', 'plant', 'spokesperson', 'explain', 'generator', 'turn', 'usually', 'automatically', 'situation', 'consider', 'emergency', 'russian', 'control', 'military', 'civilian', 'administration', 'city', 'enerhodar', 'power', 'plant', 'locate', 'power', 'plant', 'disconnect', 'ukrainian', 'grid', 'say', 'situation', 'plant', 'normal', 'energoatom', 'spokesperson', 'say', 'disconnect', 'plant', 'ukrainian', 'grid', 'connect', 'plant', 'russian', 'grid', 'easier', 'damage', 'transmission', 'line', 'enable', 'javascript', 'well', 'experience']\n"
     ]
    }
   ],
   "source": [
    "print(text_spacy)"
   ]
  },
  {
   "cell_type": "code",
   "execution_count": 57,
   "metadata": {},
   "outputs": [
    {
     "name": "stdout",
     "output_type": "stream",
     "text": [
      "['live', 'russia', 'war', 'ukraine', 'live', 'american', 'kidnapped', 'mexico', 'live', 'louisville', 'police', 'report', 'live', 'moving', 'market', 'today', 'aditi', 'sangal', 'amy', 'woodyatt', 'simone', 'mccarthy', 'tara', 'subramaniam', 'maureen', 'chowdhury', 'cnn', 'live', 'coverage', 'ended', 'read', 'today', 'development', 'post', 'cnn', 'yulia', 'kesaieva', 'ukrainian', 'president', 'volodymyr', 'zelensky', 'claimed', 'country', 'military', 'destroyed', 'important', 'russian', 'ammunition', 'depot', 'moscow', 'kept', '300', 'missile', 'fired', 'city', 'kharkiv', 'good', 'thing', 'mlrs', 'multiple', 'launch', 'rocket', 'system', 'thank', 'hero', 'concluded', 'ukrainian', 'president', 'went', 'promise', 'retribution', 'russian', 'shelling', 'several', 'ukrainian', 'city', 'town', 'cnn', 'yulia', 'kesaieva', 'ukrainian', 'president', 'volodymyr', 'zelenksy', 'said', 'look', 'forward', 'working', 'incoming', 'british', 'prime', 'minister', 'liz', 'truss', 'time', 'thanking', 'uk', 'outgoing', 'leader', 'predecessor', 'boris', 'johnson', 'nightly', 'address', 'believe', 'together', 'able', 'lot', 'protect', 'nation', 'thwart', 'russian', 'destructive', 'effort', 'added', 'zelensky', 'warm', 'welcome', 'truss', 'came', 'bidding', 'farewell', 'outgoing', 'prime', 'minister', 'boris', 'johnson', 'spoken', 'earlier', 'monday', 'usually', 'said', 'friendship', 'politics', 'boris', 'case', 'understand', 'half', 'word', 'friendship', 'exists', 'strong', 'really', 'strengthens', 'state', 'zelensky', 'said', 'starting', 'first', 'minute', 'russia', 'full', 'scale', 'war', 'ukraine', 'europe', 'boris', 'u', 'first', 'important', 'question', 'always', 'else', 'help', 'want', 'emphasize', 'even', 'feb', '24', 'always', 'felt', 'britain', 'together', 'ukraine', 'added', 'today', 'thanked', 'boris', 'behalf', 'ukrainian', 'sure', 'truly', 'multi', 'million', 'ukrainian', 'thank', 'cnn', 'yulia', 'kesaieva', 'vasco', 'cotovio', 'ukrainian', 'president', 'volodymyr', 'zelensky', 'accused', 'russia', 'intentionally', 'deteriorating', 'situation', 'around', 'zaporizhzhia', 'nuclear', 'plant', 'amid', 'visit', 'international', 'atomic', 'energy', 'agency', 'iaea', 'spokesperson', 'iaea', 'told', 'cnn', 'earlier', 'monday', 'transmission', 'line', 'connecting', 'zaporizhzhia', 'nuclear', 'power', 'plant', 'ukrainian', 'energy', 'grid', 'intentionally', 'disconnected', 'due', 'fire', 'spokesperson', 'also', 'said', 'line', 'suffered', 'damage', 'would', 'reconnected', 'soon', 'fire', 'extinguished', 'ukraine', 'blamed', 'russia', 'shelling', 'said', 'caused', 'fire', 'russia', 'interested', 'keeping', 'situation', 'worst', 'longest', 'time', 'added', 'explaining', 'second', 'time', 'zaporizhzhia', 'nuclear', 'power', 'plant', 'disconnected', 'ukrainian', 'grid', 'bringing', 'one', 'step', 'away', 'radiation', 'disaster', 'amended', 'enhancing', 'sanction', 'officially', 'recognizing', 'russia', 'terrorist', 'state', 'level', 'zelensky', 'concluded', 'requires', 'international', 'response', 'starting', 'un', 'every', 'normal', 'state', 'cnn', 'sharon', 'braithwaite', 'london', 'six', 'month', 'war', 'ukraine', 'russia', 'yet', 'achieve', 'strategic', 'objective', 'invasion', 'uk', 'defense', 'secretary', 'ben', 'wallace', 'said', 'monday', 'russia', 'continues', 'lose', 'significant', 'equipment', 'personnel', 'war', 'added', 'saying', 'loss', 'lasting', 'impact', 'moscow', 'future', 'combat', 'effectiveness', 'defense', 'secretary', 'accused', 'putin', 'weaponizing', 'energy', 'urged', 'fellow', 'member', 'parliament', 'communicate', 'state', 'affair', 'voter', 'important', 'think', 'communicate', 'constituent', 'deeply', 'uncomfortable', 'time', 'facing', 'u', 'driven', 'effectively', 'totalitarian', 'regime', 'russia', 'deliberately', 'setting', 'harm', 'u', 'trying', 'test', 'u', 'whether', 'sacrifice', 'value', 'energy', 'cost', 'said', 'wallace', 'also', 'urged', 'unity', 'across', 'europe', 'winter', 'stand', 'together', 'deal', 'threat', 'go', 'away', 'said', 'forget', 'sadly', 'opportunity', 'diversify', 'supply', 'better', 'long', 'run', 'everyone', 'well', 'cnn', 'vasco', 'cotovio', 'yulia', 'kesaieva', 'ukraine', 'say', 'struck', 'base', 'used', 'russia', 'federal', 'security', 'service', 'fsb', 'kamianka', 'dniprovska', 'zaporizhzhia', 'region', 'ukraine', 'defense', 'intelligence', 'division', 'said', 'monday', 'russian', 'force', 'also', 'using', 'one', 'building', 'store', 'ballot', 'eventual', 'referendum', 'according', 'defense', 'intelligence', 'open', 'source', 'intelligence', 'suggests', 'explosion', 'happen', 'kamianka', 'dniprovska', 'cnn', 'independently', 'verify', 'ukrainian', 'claim', 'site', 'used', 'fsb', 'base', 'ballot', 'referendum', 'indeed', 'stored', 'location', 'russia', 'commented', 'incident', 'cnn', 'yulia', 'kesaieva', 'ukrainian', 'military', 'say', 'repelled', 'multiple', 'russian', 'offensive', 'throughout', 'day', 'able', 'push', 'moscow', 'army', 'back', 'near', 'kramatorsk', 'eastern', 'ukraine', 'general', 'staff', 'said', 'situational', 'update', 'monday', 'evening', 'defender', 'successfully', 'repelled', 'enemy', 'offensive', 'attempt', 'area', 'settlement', 'bilohorivka', 'hryhorivka', 'pokrovske', 'bakhmutske', 'lozove', 'spartak', 'soledar', 'zaitseve', 'semihiria', 'general', 'staff', 'said', 'kramatorsk', 'direction', 'tactical', 'success', 'knocked', 'enemy', 'position', 'previously', 'occupied', 'according', 'general', 'staff', 'russian', 'military', 'carried', '40', 'attack', 'using', 'multiple', 'launch', 'rocket', 'system', '25', 'airstrikes', 'ukrainian', 'military', 'went', 'claim', 'success', 'specific', 'strike', 'using', 'long', 'range', 'artillery', 'kherson', 'kharkiv', 'successful', 'action', 'defense', 'force', 'led', 'disabling', 'crossing', 'kherson', 'area', 'nullified', 'aggressor', 'attempt', 'resume', 'transfer', 'troop', 'across', 'dnipro', 'river', 'general', 'staff', 'added', 'cnn', 'gayle', 'harrington', 'president', 'european', 'commission', 'ursula', 'von', 'der', 'leyen', 'say', 'european', 'union', 'preparing', 'plan', 'cap', 'russian', 'pipeline', 'gas', 'tweet', 'also', 'stated', 'eu', 'commission', 'preparing', 'proposal', 'help', 'vulnerable', 'household', 'business', 'cope', 'high', 'energy', 'price', 'energy', 'minister', 'eu', 'country', 'holding', 'emergency', 'meeting', 'brussels', 'friday', 'september', '9', 'discus', 'response', 'rising', 'gas', 'price', 'earlier', 'monday', 'russia', 'blamed', 'disruption', 'gas', 'supply', 'europe', 'nord', 'stream', '1', 'western', 'sanction', 'saying', 'would', 'resume', 'sanction', 'lifted', 'von', 'der', 'leyen', 'accused', 'russian', 'president', 'putin', 'using', 'energy', 'weapon', 'cutting', 'supply', 'manipulating', 'energy', 'market', 'cnn', 'yulia', 'kesaieva', 'olga', 'voitovych', 'vasco', 'cotovio', 'last', 'operating', 'reactor', 'zaporizhzhia', 'nuclear', 'power', 'plant', 'disconnected', 'ukrainian', 'grid', 'country', 'nuclear', 'agency', 'energoatom', 'said', 'monday', 'saying', 'result', 'fire', 'caused', 'russian', 'shelling', 'result', 'power', 'unit', '6', 'unloaded', 'disconnected', 'grid', 'currently', 'supply', 'znpp', 'need', 'agency', 'said', 'statement', 'energoatom', 'working', 'restoring', 'connection', 'spokesperson', 'told', 'cnn', 'monday', 'chance', 'restore', 'power', 'transmission', 'ukrainian', 'grid', 'spokesperson', 'added', 'saying', 'could', 'detail', 'timing', 'situation', 'remained', 'tense', 'spokesperson', 'noted', 'situation', 'considered', 'emergency', 'power', 'unit', '6', 'still', 'working', 'cooling', 'rest', 'nuclear', 'reactor', 'basically', 'maintains', 'power', 'plant', 'spokesperson', 'explained', 'generator', 'turn', 'usually', 'automatically', 'situation', 'would', 'considered', 'emergency', 'russian', 'controlled', 'military', 'civilian', 'administration', 'city', 'enerhodar', 'power', 'plant', 'located', 'would', 'say', 'whether', 'power', 'plant', 'disconnected', 'ukrainian', 'grid', 'said', 'situation', 'plant', 'normal', 'energoatom', 'spokesperson', 'also', 'said', 'disconnecting', 'plant', 'ukrainian', 'grid', 'would', 'make', 'connecting', 'plant', 'russian', 'grid', 'easier', 'due', 'damage', 'transmission', 'line', 'please', 'enable', 'javascript', 'better', 'experience']\n"
     ]
    }
   ],
   "source": [
    "print(text_nltk)"
   ]
  },
  {
   "cell_type": "code",
   "execution_count": 58,
   "metadata": {},
   "outputs": [
    {
     "data": {
      "text/plain": [
       "'live russia s war ukraine live americans kidnap mexico live louisville police report live s move market today aditi sangal amy woodyatt simone mccarthy tara subramaniam maureen chowdhury cnn live coverage end read today s development post cnn s yulia kesaieva ukrainian president volodymyr zelensky claim country s military destroy important russian ammunition depot moscow keep s 300 missile fire city kharkiv good thing mlrs multiple launch rocket system thank hero conclude ukrainian president go promise retribution russian shelling ukrainian city town cnn s yulia kesaieva ukrainian president volodymyr zelenksy say look forward work incoming british prime minister liz trus time thank uk s outgoing leader predecessor boris johnson nightly address believe able lot protect nation thwart russian destructive effort add zelensky s warm welcome truss come bid farewell outgoing prime minister boris johnson speak early monday usually say friendship politic boris case understand half word friendship exist strong strengthen state zelensky say start minute russia s scale war ukraine europe boris important question help want emphasize feb 24 feel britain ukraine add today thank boris behalf ukrainian sure truly multi million ukrainian thank cnn s yulia kesaieva vasco cotovio ukrainian president volodymyr zelensky accuse russia intentionally deteriorate situation zaporizhzhia nuclear plant amid visit international atomic energy agency iaea spokesperson iaea tell cnn early monday transmission line connect zaporizhzhia nuclear power plant ukrainian energy grid intentionally disconnect fire spokesperson say line suffer damage reconnecte soon fire extinguish ukraine blame russia shelling say cause fire russia interested keep situation bad long time add explain second time zaporizhzhia nuclear power plant disconnect ukrainian grid bring step away radiation disaster amend enhance sanction officially recognize russia terrorist state level zelensky conclude require international response start un normal state cnn s sharon braithwaite london month war ukraine russia achieve strategic objective invasion uk defense secretary ben wallace say monday russia continue lose significant equipment personnel war add say loss lasting impact moscow s future combat effectiveness defense secretary accuse putin weaponize energy urge fellow member parliament communicate state affair voter important think communicate constituent deeply uncomfortable time face drive effectively totalitarian regime russia deliberately set harm try test sacrifice value energy cost say wallace urge unity europe winter don t stand don t deal threat win t away say shouldn t forget sadly opportunity diversify supply well long run cnn s vasco cotovio yulia kesaieva ukraine say strike base russia s federal security service fsb kamianka dniprovska zaporizhzhia region ukraine s defense intelligence division say monday russian force building store ballot eventual referendum accord defense intelligence open source intelligence suggest explosion happen kamianka dniprovska cnn independently verify ukrainian claim site fsb base ballot referendum store location russia comment incident cnn s yulia kesaieva ukrainian military say repel multiple russian offensive day able push moscow s army near kramatorsk eastern ukraine general staff say situational update monday evening defender successfully repel enemy offensive attempt area settlement bilohorivka hryhorivka pokrovske bakhmutske lozove spartak soledar zaitseve semihiria general staff say kramatorsk direction tactical success knock enemy position previously occupy accord general staff russian military carry 40 attack multiple launch rocket system 25 airstrike ukrainian military go claim success specific strike long range artillery kherson kharkiv successful action defense force lead disabling crossing kherson area nullify aggressor s attempt resume transfer troop dnipro river general staff add cnn s gayle harrington president european commission ursula von der leyen say european union prepare plan cap russian pipeline gas tweet state eu commission prepare proposal help vulnerable household business cope high energy price energy minister eu country hold emergency meeting brussels friday september 9 discuss response rise gas price early monday russia blame disruption gas supply europe nord stream 1 western sanction say resume sanction lift von der leyen accuse russian president putin energy weapon cut supply manipulate energy market cnn s yulia kesaieva olga voitovych vasco cotovio operating reactor zaporizhzhia nuclear power plant disconnect ukrainian grid country s nuclear agency energoatom say monday say result fire cause russian shell result power unit 6 unload disconnect grid currently supply znpp s need agency say statement energoatom work restore connection spokesperson tell cnn monday chance restore power transmission ukrainian grid spokesperson add say detail timing situation remain tense spokesperson note situation consider emergency power unit 6 work cool rest nuclear reactor basically maintain power plant spokesperson explain generator turn usually automatically situation consider emergency russian control military civilian administration city enerhodar power plant locate power plant disconnect ukrainian grid say situation plant normal energoatom spokesperson say disconnect plant ukrainian grid connect plant russian grid easier damage transmission line enable javascript well experience'"
      ]
     },
     "execution_count": 58,
     "metadata": {},
     "output_type": "execute_result"
    }
   ],
   "source": [
    "text_spacy_2 = \" \".join(text_spacy)\n",
    "text_spacy_2"
   ]
  },
  {
   "cell_type": "code",
   "execution_count": 59,
   "metadata": {},
   "outputs": [
    {
     "data": {
      "text/plain": [
       "'live russia war ukraine live american kidnapped mexico live louisville police report live moving market today aditi sangal amy woodyatt simone mccarthy tara subramaniam maureen chowdhury cnn live coverage ended read today development post cnn yulia kesaieva ukrainian president volodymyr zelensky claimed country military destroyed important russian ammunition depot moscow kept 300 missile fired city kharkiv good thing mlrs multiple launch rocket system thank hero concluded ukrainian president went promise retribution russian shelling several ukrainian city town cnn yulia kesaieva ukrainian president volodymyr zelenksy said look forward working incoming british prime minister liz truss time thanking uk outgoing leader predecessor boris johnson nightly address believe together able lot protect nation thwart russian destructive effort added zelensky warm welcome truss came bidding farewell outgoing prime minister boris johnson spoken earlier monday usually said friendship politics boris case understand half word friendship exists strong really strengthens state zelensky said starting first minute russia full scale war ukraine europe boris u first important question always else help want emphasize even feb 24 always felt britain together ukraine added today thanked boris behalf ukrainian sure truly multi million ukrainian thank cnn yulia kesaieva vasco cotovio ukrainian president volodymyr zelensky accused russia intentionally deteriorating situation around zaporizhzhia nuclear plant amid visit international atomic energy agency iaea spokesperson iaea told cnn earlier monday transmission line connecting zaporizhzhia nuclear power plant ukrainian energy grid intentionally disconnected due fire spokesperson also said line suffered damage would reconnected soon fire extinguished ukraine blamed russia shelling said caused fire russia interested keeping situation worst longest time added explaining second time zaporizhzhia nuclear power plant disconnected ukrainian grid bringing one step away radiation disaster amended enhancing sanction officially recognizing russia terrorist state level zelensky concluded requires international response starting un every normal state cnn sharon braithwaite london six month war ukraine russia yet achieve strategic objective invasion uk defense secretary ben wallace said monday russia continues lose significant equipment personnel war added saying loss lasting impact moscow future combat effectiveness defense secretary accused putin weaponizing energy urged fellow member parliament communicate state affair voter important think communicate constituent deeply uncomfortable time facing u driven effectively totalitarian regime russia deliberately setting harm u trying test u whether sacrifice value energy cost said wallace also urged unity across europe winter stand together deal threat go away said forget sadly opportunity diversify supply better long run everyone well cnn vasco cotovio yulia kesaieva ukraine say struck base used russia federal security service fsb kamianka dniprovska zaporizhzhia region ukraine defense intelligence division said monday russian force also using one building store ballot eventual referendum according defense intelligence open source intelligence suggests explosion happen kamianka dniprovska cnn independently verify ukrainian claim site used fsb base ballot referendum indeed stored location russia commented incident cnn yulia kesaieva ukrainian military say repelled multiple russian offensive throughout day able push moscow army back near kramatorsk eastern ukraine general staff said situational update monday evening defender successfully repelled enemy offensive attempt area settlement bilohorivka hryhorivka pokrovske bakhmutske lozove spartak soledar zaitseve semihiria general staff said kramatorsk direction tactical success knocked enemy position previously occupied according general staff russian military carried 40 attack using multiple launch rocket system 25 airstrikes ukrainian military went claim success specific strike using long range artillery kherson kharkiv successful action defense force led disabling crossing kherson area nullified aggressor attempt resume transfer troop across dnipro river general staff added cnn gayle harrington president european commission ursula von der leyen say european union preparing plan cap russian pipeline gas tweet also stated eu commission preparing proposal help vulnerable household business cope high energy price energy minister eu country holding emergency meeting brussels friday september 9 discus response rising gas price earlier monday russia blamed disruption gas supply europe nord stream 1 western sanction saying would resume sanction lifted von der leyen accused russian president putin using energy weapon cutting supply manipulating energy market cnn yulia kesaieva olga voitovych vasco cotovio last operating reactor zaporizhzhia nuclear power plant disconnected ukrainian grid country nuclear agency energoatom said monday saying result fire caused russian shelling result power unit 6 unloaded disconnected grid currently supply znpp need agency said statement energoatom working restoring connection spokesperson told cnn monday chance restore power transmission ukrainian grid spokesperson added saying could detail timing situation remained tense spokesperson noted situation considered emergency power unit 6 still working cooling rest nuclear reactor basically maintains power plant spokesperson explained generator turn usually automatically situation would considered emergency russian controlled military civilian administration city enerhodar power plant located would say whether power plant disconnected ukrainian grid said situation plant normal energoatom spokesperson also said disconnecting plant ukrainian grid would make connecting plant russian grid easier due damage transmission line please enable javascript better experience'"
      ]
     },
     "execution_count": 59,
     "metadata": {},
     "output_type": "execute_result"
    }
   ],
   "source": [
    "text_nltk_2 = \" \".join(text_nltk)\n",
    "text_nltk_2"
   ]
  },
  {
   "cell_type": "code",
   "execution_count": null,
   "metadata": {},
   "outputs": [],
   "source": []
  }
 ],
 "metadata": {
  "kernelspec": {
   "display_name": "base",
   "language": "python",
   "name": "python3"
  },
  "language_info": {
   "codemirror_mode": {
    "name": "ipython",
    "version": 3
   },
   "file_extension": ".py",
   "mimetype": "text/x-python",
   "name": "python",
   "nbconvert_exporter": "python",
   "pygments_lexer": "ipython3",
   "version": "3.9.15"
  },
  "orig_nbformat": 4
 },
 "nbformat": 4,
 "nbformat_minor": 2
}
