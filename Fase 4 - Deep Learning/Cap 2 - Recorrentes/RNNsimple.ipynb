{
 "cells": [
  {
   "cell_type": "code",
   "execution_count": 1,
   "metadata": {},
   "outputs": [],
   "source": [
    "from pandas import read_csv\n",
    "import matplotlib.pyplot as plt\n",
    "import numpy as np\n",
    "import math\n",
    "from sklearn.preprocessing import MinMaxScaler\n",
    "from sklearn.metrics import mean_squared_error\n",
    "from tensorflow.keras.models import Sequential\n",
    "from tensorflow.keras.layers import Dense, SimpleRNN"
   ]
  },
  {
   "cell_type": "code",
   "execution_count": 2,
   "metadata": {},
   "outputs": [],
   "source": [
    "# Essa função irá trazer 3 valores pra mim: os dados de treino, de teste e os dados propriamente dito.\n",
    "def get_train_test(url, split_percent=0.8): # split_percent define a proporção das amostras de treino/teste\n",
    "    df = read_csv(url, usecols=[1], engine='python')    #colocar em dataframe os dados\n",
    "    data = np.array(df.values.astype(\"float32\"))        #pegar os valores deles e colocar no tipo float\n",
    "    scaler = MinMaxScaler(feature_range=(0,1))          # normalizar esses dados\n",
    "    data = scaler.fit_transform(data).flatten()         \n",
    "    n=len(data)\n",
    "    # Aqui vai ocorrer a divisão do dataset em treino e teste\n",
    "    split = int(n*split_percent)\n",
    "    train_data = data[range(split)]\n",
    "    test_data = data[split:]\n",
    "    return train_data, test_data, data\n"
   ]
  },
  {
   "cell_type": "code",
   "execution_count": 3,
   "metadata": {},
   "outputs": [],
   "source": [
    "# Função para preparar os input (variáveis independentes (X) e dependente (Y))\n",
    "def get_XY(dat, time_steps):\n",
    "    Y_ind = np.arange(time_steps, len(dat), time_steps)\n",
    "    Y = dat[Y_ind]\n",
    "    rows_x = len(Y)\n",
    "    X = dat[range(time_steps*rows_x)]\n",
    "    X = np.reshape(X, (rows_x, time_steps, 1))\n",
    "    return X, Y"
   ]
  },
  {
   "cell_type": "code",
   "execution_count": 5,
   "metadata": {},
   "outputs": [],
   "source": [
    "# Função para criar o modelo de deep learning RNN\n",
    "# Basicamente, pelo .add, serão adicionadas 2 camadas:\n",
    "# 1) uma SimpleRNN, que vai fazer o papel recursivo, recebendo quantas camadas de RNN ele vai ter, o\n",
    "#  tamanho do shape dos dados que to passando e o tipo de ativação.\n",
    "# 2) uma camada densa (de saída), que vai depender tambem do quanto especifique de dense_units e do tipo de ativação\n",
    "# No compilador, eu vou usar o erro quadrado médio como função de custo e o otimizador padrão Adam\n",
    "def create_RNN(hidden_units, dense_units, input_shape, activation):\n",
    "    model = Sequential()\n",
    "    model.add(SimpleRNN(hidden_units, input_shape = input_shape, activation = activation[0]))\n",
    "    model.add(Dense(units = dense_units, activation = activation[1])) #ou seja, dentro da lista acvation, o 1°\n",
    "    model.compile(loss=\"mean_squared_error\", optimizer = \"adam\")      #vai pra Simple e o 2° vai pra dense\n",
    "    return model"
   ]
  },
  {
   "cell_type": "code",
   "execution_count": 6,
   "metadata": {},
   "outputs": [],
   "source": [
    "# Função auxiliar que vai printar o erro, por meio do erro quadrado médio.\n",
    "def print_error(trainY, testY, train_predict, test_predict):\n",
    "    # Erro das predições\n",
    "    train_rmse = math.sqrt(mean_squared_error(trainY, train_predict))\n",
    "    test_rmse = math.sqrt(mean_squared_error(testY, test_predict))\n",
    "    # Print do RMSE\n",
    "    print(\"Train RMSE: %.3f RMSE\" % (train_rmse))\n",
    "    print(\"Test RMSE: %.3f RMSE\" % (test_rmse))\n",
    "\n",
    "# Função auxiliar pra plotar os resultados\n",
    "def plot_result(trainY, testY, train_predict, test_predict):\n",
    "    actual = np.append(trainY, testY)\n",
    "    predictions = np.append(train_predict, test_predict)\n",
    "    rows = len(actual)\n",
    "    plt.figure(figsize=(15,6), dpi=80)\n",
    "    plt.plot(range(rows), actual)\n",
    "    plt.plot(range(rows), predictions)\n",
    "    plt.axvline(x=len(trainY), color=\"r\")\n",
    "    plt.legend(['Actual', \"Predictions\"])\n",
    "    plt.xlabel(\"Observation number after given time steps\")\n",
    "    plt.ylabel(\"Sunspots scaled\")\n",
    "    plt.title(\"Actual and Predicted Values. The Red Line Separates The Training and Test Examples\")"
   ]
  },
  {
   "cell_type": "code",
   "execution_count": 8,
   "metadata": {},
   "outputs": [],
   "source": [
    "# Aqui começa o trabalho. Trazer a base de dados\n",
    "sunspots_url = \"https://raw.githubusercontent.com/jbrownlee/Datasets/master/monthly-sunspots.csv\""
   ]
  },
  {
   "cell_type": "code",
   "execution_count": 9,
   "metadata": {},
   "outputs": [],
   "source": [
    "time_steps = 12"
   ]
  },
  {
   "cell_type": "code",
   "execution_count": 10,
   "metadata": {},
   "outputs": [],
   "source": [
    "#aqui abaixo é o retorno da função criada lá em cima, em que informo apenas a URL e ele devole essas 3 info\n",
    "train_data, test_data, data = get_train_test(sunspots_url) "
   ]
  },
  {
   "cell_type": "code",
   "execution_count": 12,
   "metadata": {},
   "outputs": [],
   "source": [
    "#pegando os dados de treino e teste de X e Y \n",
    "trainX, trainY = get_XY(train_data, time_steps)\n",
    "testX, testY = get_XY(test_data, time_steps)"
   ]
  },
  {
   "cell_type": "code",
   "execution_count": null,
   "metadata": {},
   "outputs": [],
   "source": [
    "#Criando o modelo e treinando ele\n",
    "# Serão 3 camadas ocultas\n",
    "# a camada densa (de saída) será 1 só\n",
    "# shape (12,1)\n",
    "# função de ativação (activation 0 e 1) são do tipo tangente hiperbólica\n",
    "# serão 20 épocas: é a etapa de treinamento e validação dos dados do meu modelo de rede neural. E\n",
    "# cada época ele vai treinando novamente. Como é uma recde recorrente, o output não é só a saída simplesmente, mas\n",
    "# também \n",
    "\n"
   ]
  }
 ],
 "metadata": {
  "kernelspec": {
   "display_name": "base",
   "language": "python",
   "name": "python3"
  },
  "language_info": {
   "codemirror_mode": {
    "name": "ipython",
    "version": 3
   },
   "file_extension": ".py",
   "mimetype": "text/x-python",
   "name": "python",
   "nbconvert_exporter": "python",
   "pygments_lexer": "ipython3",
   "version": "3.9.15"
  },
  "orig_nbformat": 4,
  "vscode": {
   "interpreter": {
    "hash": "a7e5e0eaa77a28125227fb7ae19e78585bc0f4691d77dafd52dbfc5225ddb4e5"
   }
  }
 },
 "nbformat": 4,
 "nbformat_minor": 2
}
