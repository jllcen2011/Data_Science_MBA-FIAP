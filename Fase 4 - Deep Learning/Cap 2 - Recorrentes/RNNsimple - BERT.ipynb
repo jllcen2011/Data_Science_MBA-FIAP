{
 "cells": [
  {
   "cell_type": "code",
   "execution_count": 145,
   "metadata": {},
   "outputs": [],
   "source": [
    "import pandas as pd\n",
    "import matplotlib.pyplot as plt\n",
    "import numpy as np\n",
    "import math\n",
    "import re\n",
    "from sklearn import preprocessing\n",
    "from sklearn.preprocessing import LabelEncoder\n",
    "from keras.datasets import imdb\n",
    "from keras.models import Sequential\n",
    "from keras.layers import Dense, SimpleRNN, Embedding\n",
    "from keras.layers import LSTM\n",
    "from keras.preprocessing.text import Tokenizer\n",
    "from keras.preprocessing import sequence\n",
    "from keras.utils import pad_sequences\n",
    "from tensorflow.python.client import device_lib\n",
    "from keras.constraints import maxnorm\n",
    "from keras.layers import Dropout\n",
    "import time\n",
    "import nltk\n",
    "import warnings\n",
    "warnings.filterwarnings(\"ignore\")\n",
    "\n",
    "from sklearn.metrics import confusion_matrix, classification_report, accuracy_score\n",
    "import transformers\n",
    "from transformers import DistilBertTokenizer, TFDistilBertModel, DistilBertConfig\n",
    "import tensorflow as tf\n",
    "import warnings\n",
    "from transformers import logging as hf_logging\n",
    "from tqdm import tqdm \n",
    "\n",
    "from tensorflow.keras.callbacks import ModelCheckpoint, ReduceLROnPlateau, EarlyStopping"
   ]
  },
  {
   "cell_type": "code",
   "execution_count": 135,
   "metadata": {},
   "outputs": [],
   "source": [
    "df = pd.read_excel(\"C:/Users/jllce/Downloads/classificacao_assuntos.xlsx\")"
   ]
  },
  {
   "cell_type": "code",
   "execution_count": 136,
   "metadata": {},
   "outputs": [
    {
     "data": {
      "text/plain": [
       "tweets    0\n",
       "label     0\n",
       "dtype: int64"
      ]
     },
     "execution_count": 136,
     "metadata": {},
     "output_type": "execute_result"
    }
   ],
   "source": [
    "df.isnull().sum()"
   ]
  },
  {
   "cell_type": "code",
   "execution_count": 137,
   "metadata": {},
   "outputs": [],
   "source": [
    "# Se tiver valores nulos, usar o código abaixo\n",
    "\n",
    "# df = df[~df['label'].isnull()]\n",
    "# df"
   ]
  },
  {
   "cell_type": "code",
   "execution_count": 138,
   "metadata": {},
   "outputs": [
    {
     "data": {
      "text/plain": [
       "Outro          8385\n",
       "Entrega        4819\n",
       "Produto        2961\n",
       "Atendimento    1944\n",
       "Name: label, dtype: int64"
      ]
     },
     "execution_count": 138,
     "metadata": {},
     "output_type": "execute_result"
    }
   ],
   "source": [
    "df[\"label\"].value_counts()"
   ]
  },
  {
   "cell_type": "code",
   "execution_count": 139,
   "metadata": {},
   "outputs": [
    {
     "data": {
      "text/plain": [
       "Outro          0.463029\n",
       "Entrega        0.266111\n",
       "Produto        0.163510\n",
       "Atendimento    0.107350\n",
       "Name: label, dtype: float64"
      ]
     },
     "execution_count": 139,
     "metadata": {},
     "output_type": "execute_result"
    }
   ],
   "source": [
    "df[\"label\"].value_counts(normalize=True)"
   ]
  },
  {
   "cell_type": "code",
   "execution_count": 140,
   "metadata": {},
   "outputs": [
    {
     "data": {
      "text/plain": [
       "Outro          2180\n",
       "Entrega        2120\n",
       "Produto        2073\n",
       "Atendimento    1944\n",
       "Name: label, dtype: int64"
      ]
     },
     "execution_count": 140,
     "metadata": {},
     "output_type": "execute_result"
    }
   ],
   "source": [
    "dfO = df[df[\"label\"] == \"Outro\"].sample(frac = 0.26)\n",
    "dfE = df[df[\"label\"] == \"Entrega\"].sample(frac = 0.44)\n",
    "dfP = df[df[\"label\"] == \"Produto\"].sample(frac = 0.70)\n",
    "\n",
    "df = pd.concat([dfO, dfE, dfP, df[df[\"label\"] == \"Atendimento\"]])\n",
    "df[\"label\"].value_counts()"
   ]
  },
  {
   "cell_type": "code",
   "execution_count": 141,
   "metadata": {},
   "outputs": [
    {
     "data": {
      "text/plain": [
       "Outro          0.262114\n",
       "Entrega        0.254900\n",
       "Produto        0.249249\n",
       "Atendimento    0.233738\n",
       "Name: label, dtype: float64"
      ]
     },
     "execution_count": 141,
     "metadata": {},
     "output_type": "execute_result"
    }
   ],
   "source": [
    "df[\"label\"].value_counts(normalize=True)"
   ]
  },
  {
   "cell_type": "code",
   "execution_count": 143,
   "metadata": {},
   "outputs": [],
   "source": [
    "def cleanTxt(text):\n",
    "  import re\n",
    "  text = text.lower()\n",
    "  text = re.sub(r\"@([a-zA-Z0-9_]{1,50})\",'',str(text)) \n",
    "  text = re.sub(r'(?:\\@|https?\\://)\\S+','',text)\n",
    "  text = re.sub(r'\\d+','', text)\n",
    "  text = re.sub(r\"[-()\\\"#/;:<>{}-~=|.?,]\",\"\",text)\n",
    "  return text\n",
    "\n",
    "def removeEmojis(text):\n",
    "  emoji_pattern = re.compile(\"[\"\n",
    "        u\"\\U0001F600-\\U0001F64F\"\n",
    "        u\"\\U0001F300-\\U0001F5FF\"\n",
    "        u\"\\U0001F680-\\U0001F6FF\"\n",
    "        u\"\\U0001F1E0-\\U0001F1FF\"\n",
    "        u\"\\U00002500-\\U00002BEF\"\n",
    "        u\"\\U00002702-\\U000027B0\"\n",
    "        u\"\\U00002702-\\U000027B0\"\n",
    "        u\"\\U000024C2-\\U0001F251\"\n",
    "        u\"\\U0001f926-\\U0001f937\"\n",
    "        u\"\\U00010000-\\U0010ffff\"\n",
    "        u\"\\u2640-\\u2642\"\n",
    "        u\"\\u2600-\\u2B55\"\n",
    "        u\"\\u200d\"\n",
    "        u\"\\u23cf\"\n",
    "        u\"\\u23e9\"\n",
    "        u\"\\u231a\"\n",
    "        u\"\\ufe0f\"\n",
    "        u\"\\u3030\"\n",
    "        \"]+\", re.UNICODE)\n",
    "  text = emoji_pattern.sub(r'', text)\n",
    "  return text\n",
    "\n",
    "def removeStopWords(text):\n",
    "    stemmer = nltk.stem.RSLPStemmer()\n",
    "    stopwords = set(nltk.corpus.stopwords.words('portuguese'))\n",
    "    words = [stemmer.stem(i) for i in text.split() if not i in stopwords]\n",
    "    return (\" \".join(words))\n",
    "\n",
    "\n",
    "df[\"tweets\"] = df[\"tweets\"].apply(cleanTxt)\n",
    "df[\"tweets\"] = df[\"tweets\"].apply(removeEmojis)\n",
    "df[\"tweets\"] = df[\"tweets\"].apply(removeStopWords)\n",
    "# tweets = list(tweets_tratados)"
   ]
  },
  {
   "cell_type": "code",
   "execution_count": 144,
   "metadata": {},
   "outputs": [
    {
     "data": {
      "text/plain": [
       "0"
      ]
     },
     "execution_count": 144,
     "metadata": {},
     "output_type": "execute_result"
    }
   ],
   "source": [
    "#Verificando novamente se houve tweets nulos após tratamento\n",
    "df[\"tweets\"].isnull().sum()"
   ]
  },
  {
   "cell_type": "code",
   "execution_count": 146,
   "metadata": {},
   "outputs": [],
   "source": [
    "le = LabelEncoder()\n",
    "df['label_num'] = le.fit_transform(df[\"label\"])"
   ]
  },
  {
   "cell_type": "code",
   "execution_count": 147,
   "metadata": {},
   "outputs": [
    {
     "name": "stdout",
     "output_type": "stream",
     "text": [
      "0 Atendimento\n",
      "1 Entrega\n",
      "2 Outro\n",
      "3 Produto\n"
     ]
    }
   ],
   "source": [
    "label_dict = (df[['label','label_num']].drop_duplicates()\n",
    "              .sort_values(by='label_num')\n",
    "              .reset_index(drop=True)['label']\n",
    "              .to_dict())\n",
    "\n",
    "for index, key in label_dict.items():\n",
    "    print(index, key)"
   ]
  },
  {
   "cell_type": "code",
   "execution_count": 151,
   "metadata": {},
   "outputs": [],
   "source": [
    "from sklearn.model_selection import train_test_split\n",
    "train_df, test_df = train_test_split(df, test_size=0.2, random_state=42)"
   ]
  },
  {
   "cell_type": "code",
   "execution_count": 153,
   "metadata": {},
   "outputs": [
    {
     "name": "stdout",
     "output_type": "stream",
     "text": [
      "4657 training examples\n",
      "1996 validation examples\n"
     ]
    }
   ],
   "source": [
    "# Splitting the data\n",
    "\n",
    "# I will take 30% of the training data as validation data\n",
    "\n",
    "num_train_samples = int(train_df.shape[0] * 0.7)\n",
    "\n",
    "X_train = train_df['tweets'][:num_train_samples]\n",
    "y_train = train_df['label_num'][:num_train_samples]\n",
    "X_val = train_df['tweets'][num_train_samples:]\n",
    "y_val = train_df['label_num'][num_train_samples:]\n",
    "\n",
    "\n",
    "### Checando\n",
    "assert(len(X_train) + len(X_val) == train_df.shape[0])\n",
    "\n",
    "print(f\"{len(X_train)} training examples\\n{len(X_val)} validation examples\")"
   ]
  },
  {
   "cell_type": "code",
   "execution_count": 154,
   "metadata": {},
   "outputs": [
    {
     "name": "stdout",
     "output_type": "stream",
     "text": [
      "1664 testing examples\n"
     ]
    }
   ],
   "source": [
    "X_test = test_df['tweets']\n",
    "y_test = test_df['label_num']\n",
    "print(f\"{len(X_test)} testing examples\")"
   ]
  },
  {
   "cell_type": "code",
   "execution_count": 156,
   "metadata": {},
   "outputs": [],
   "source": [
    "MODEL_NAME = 'distilbert-base-cased'\n",
    "tokenizer = DistilBertTokenizer.from_pretrained(MODEL_NAME) # Loading the tokenizer"
   ]
  },
  {
   "cell_type": "code",
   "execution_count": 157,
   "metadata": {},
   "outputs": [
    {
     "name": "stdout",
     "output_type": "stream",
     "text": [
      "The maximum amount of tokens in the dataset is 124\n"
     ]
    }
   ],
   "source": [
    "# Finding the max token sequence in the training set\n",
    "\n",
    "max_val = 0\n",
    "for sent in (X_train.tolist() + X_train.tolist() + X_val.tolist()):\n",
    "    try:\n",
    "        sent_tok_len = len(tokenizer.tokenize(sent))\n",
    "        max_val = sent_tok_len if (sent_tok_len > max_val) else max_val\n",
    "    except:\n",
    "        pass\n",
    "    \n",
    "print(f\"The maximum amount of tokens in the dataset is {max_val}\")"
   ]
  },
  {
   "cell_type": "code",
   "execution_count": 158,
   "metadata": {},
   "outputs": [],
   "source": [
    "# I will set the max length and input for the deep learning model to 126\n",
    "# (Max token length + 2 for special characters [CLS] and [SEP])\n",
    "\n",
    "MAX_LENGTH = max_val + 2\n",
    "\n",
    "tokenizer = DistilBertTokenizer.from_pretrained(MODEL_NAME,  \n",
    "                                                add_special_tokens=True,\n",
    "                                                max_length=MAX_LENGTH, \n",
    "                                                pad_to_max_length=True)\n",
    "\n",
    "def tokenize(sentences, tokenizer):\n",
    "    input_ids, input_masks, input_segments = [], [], []\n",
    "    for sentence in tqdm(sentences):\n",
    "        inputs = tokenizer.encode_plus(sentence, \n",
    "                                       add_special_tokens=True, \n",
    "                                       max_length=MAX_LENGTH, \n",
    "                                       pad_to_max_length=True, \n",
    "                                       return_attention_mask=True, \n",
    "                                       return_token_type_ids=True, \n",
    "                                       truncation=True)\n",
    "        input_ids.append(inputs['input_ids'])\n",
    "        input_masks.append(inputs['attention_mask'])\n",
    "        input_segments.append(inputs['token_type_ids'])        \n",
    "        \n",
    "    return np.asarray(input_ids, dtype='int32'), np.asarray(input_masks, dtype='int32')"
   ]
  },
  {
   "cell_type": "code",
   "execution_count": 159,
   "metadata": {},
   "outputs": [
    {
     "name": "stderr",
     "output_type": "stream",
     "text": [
      "100%|██████████| 4657/4657 [00:02<00:00, 1558.04it/s]\n",
      "100%|██████████| 1664/1664 [00:01<00:00, 1549.17it/s]\n",
      "100%|██████████| 1996/1996 [00:01<00:00, 1240.76it/s]\n"
     ]
    }
   ],
   "source": [
    "X_train = tokenize(X_train, tokenizer)\n",
    "X_test = tokenize(X_test, tokenizer)\n",
    "X_val = tokenize(X_val, tokenizer)"
   ]
  },
  {
   "cell_type": "code",
   "execution_count": null,
   "metadata": {},
   "outputs": [],
   "source": [
    "# Looking at entry\n",
    "\n",
    "index_num = 5\n",
    "\n",
    "print(train_df.loc[index_num]['Sentiment'], '\\n')\n",
    "\n",
    "print(x_train[index_num], '\\n')\n",
    "\n",
    "temp_tokens = tokenizer.tokenize(x_train[index_num])\n",
    "temp_ids = tokenizer.encode(x_train[index_num])\n",
    "\n",
    "print('ID\\'s', 'Input Tokens', sep='\\t')\n",
    "for i in range(len(temp_ids)):\n",
    "    if i == 0:\n",
    "        print(temp_ids[i], '[CLS]', sep='\\t')\n",
    "        continue\n",
    "    if i == len(temp_ids)-1:\n",
    "        print(temp_ids[i], '[SEP]', sep='\\t')\n",
    "        break\n",
    "    print(temp_ids[i], temp_tokens[i-1], sep='\\t')"
   ]
  },
  {
   "cell_type": "code",
   "execution_count": 25,
   "metadata": {},
   "outputs": [
    {
     "data": {
      "application/vnd.jupyter.widget-view+json": {
       "model_id": "42d31dfdcb5a4815aff9a80f4eaa15ca",
       "version_major": 2,
       "version_minor": 0
      },
      "text/plain": [
       "Downloading:   0%|          | 0.00/354M [00:00<?, ?B/s]"
      ]
     },
     "metadata": {},
     "output_type": "display_data"
    },
    {
     "name": "stderr",
     "output_type": "stream",
     "text": [
      "Some layers from the model checkpoint at distilbert-base-cased were not used when initializing TFDistilBertModel: ['vocab_projector', 'vocab_layer_norm', 'vocab_transform', 'activation_13']\n",
      "- This IS expected if you are initializing TFDistilBertModel from the checkpoint of a model trained on another task or with another architecture (e.g. initializing a BertForSequenceClassification model from a BertForPreTraining model).\n",
      "- This IS NOT expected if you are initializing TFDistilBertModel from the checkpoint of a model that you expect to be exactly identical (initializing a BertForSequenceClassification model from a BertForSequenceClassification model).\n",
      "All the layers of TFDistilBertModel were initialized from the model checkpoint at distilbert-base-cased.\n",
      "If your task is similar to the task the model of the checkpoint was trained on, you can already use TFDistilBertModel for predictions without further training.\n"
     ]
    },
    {
     "name": "stdout",
     "output_type": "stream",
     "text": [
      "WARNING:tensorflow:From c:\\Users\\jllce\\anaconda3\\lib\\site-packages\\tensorflow\\python\\autograph\\pyct\\static_analysis\\liveness.py:83: Analyzer.lamba_check (from tensorflow.python.autograph.pyct.static_analysis.liveness) is deprecated and will be removed after 2023-09-23.\n",
      "Instructions for updating:\n",
      "Lambda fuctions will be no more assumed to be used in the statement where they are used, or at least in the same block. https://github.com/tensorflow/tensorflow/issues/56089\n",
      "Model: \"model\"\n",
      "__________________________________________________________________________________________________\n",
      " Layer (type)                   Output Shape         Param #     Connected to                     \n",
      "==================================================================================================\n",
      " input_token (InputLayer)       [(None, 106)]        0           []                               \n",
      "                                                                                                  \n",
      " masked_token (InputLayer)      [(None, 106)]        0           []                               \n",
      "                                                                                                  \n",
      " tf_distil_bert_model (TFDistil  TFBaseModelOutput(l  65190912   ['input_token[0][0]',            \n",
      " BertModel)                     ast_hidden_state=(N               'masked_token[0][0]']           \n",
      "                                one, 106, 768),                                                   \n",
      "                                 hidden_states=((No                                               \n",
      "                                ne, 106, 768),                                                    \n",
      "                                 (None, 106, 768),                                                \n",
      "                                 (None, 106, 768),                                                \n",
      "                                 (None, 106, 768),                                                \n",
      "                                 (None, 106, 768),                                                \n",
      "                                 (None, 106, 768),                                                \n",
      "                                 (None, 106, 768)),                                               \n",
      "                                 attentions=((None,                                               \n",
      "                                 12, None, 106),                                                  \n",
      "                                 (None, 12, None, 1                                               \n",
      "                                06),                                                              \n",
      "                                 (None, 12, None, 1                                               \n",
      "                                06),                                                              \n",
      "                                 (None, 12, None, 1                                               \n",
      "                                06),                                                              \n",
      "                                 (None, 12, None, 1                                               \n",
      "                                06),                                                              \n",
      "                                 (None, 12, None, 1                                               \n",
      "                                06)))                                                             \n",
      "                                                                                                  \n",
      " bidirectional (Bidirectional)  (None, 106, 256)     918528      ['tf_distil_bert_model[0][13]']  \n",
      "                                                                                                  \n",
      " global_max_pooling1d (GlobalMa  (None, 256)         0           ['bidirectional[0][0]']          \n",
      " xPooling1D)                                                                                      \n",
      "                                                                                                  \n",
      " dense (Dense)                  (None, 64)           16448       ['global_max_pooling1d[0][0]']   \n",
      "                                                                                                  \n",
      " dropout_19 (Dropout)           (None, 64)           0           ['dense[0][0]']                  \n",
      "                                                                                                  \n",
      " dense_1 (Dense)                (None, 4)            260         ['dropout_19[0][0]']             \n",
      "                                                                                                  \n",
      "==================================================================================================\n",
      "Total params: 66,126,148\n",
      "Trainable params: 935,236\n",
      "Non-trainable params: 65,190,912\n",
      "__________________________________________________________________________________________________\n"
     ]
    }
   ],
   "source": [
    "# Creating the model\n",
    "\n",
    "config = DistilBertConfig.from_pretrained(MODEL_NAME, output_hidden_states=True, output_attentions=True)\n",
    "DistilBERT = TFDistilBertModel.from_pretrained(MODEL_NAME, config=config)\n",
    "\n",
    "input_ids_in = tf.keras.layers.Input(shape=(MAX_LENGTH,), name='input_token', dtype='int32')\n",
    "input_masks_in = tf.keras.layers.Input(shape=(MAX_LENGTH,), name='masked_token', dtype='int32') \n",
    "\n",
    "embedding_layer = DistilBERT(input_ids = input_ids_in, attention_mask = input_masks_in)[0]\n",
    "X = tf.keras.layers.Bidirectional(tf.keras.layers.LSTM(128, return_sequences=True))(embedding_layer)\n",
    "X = tf.keras.layers.GlobalMaxPool1D()(X)\n",
    "X = tf.keras.layers.Dense(64, activation='relu')(X)\n",
    "X = tf.keras.layers.Dropout(0.2)(X)\n",
    "X = tf.keras.layers.Dense(4, activation='softmax')(X)\n",
    "\n",
    "model = tf.keras.Model(inputs=[input_ids_in, input_masks_in], outputs = X)\n",
    "\n",
    "for layer in model.layers[:3]:\n",
    "    layer.trainable = False\n",
    "\n",
    "model.summary()"
   ]
  },
  {
   "cell_type": "code",
   "execution_count": 26,
   "metadata": {},
   "outputs": [],
   "source": [
    "# Creating a output directory to store the models weights\n",
    "\n",
    "output_dir = './model1_outputs'\n",
    "if not os.path.exists(output_dir): ### If the file directory doesn't already exists,\n",
    "    os.makedirs(output_dir) ### Make it please"
   ]
  },
  {
   "cell_type": "code",
   "execution_count": 28,
   "metadata": {},
   "outputs": [],
   "source": [
    "# Callbacks\n",
    "\n",
    "model_checkpoint = ModelCheckpoint(filepath=output_dir+'/weights.{epoch:02d}.hdf5',\n",
    "                                  save_weights_only=True)\n",
    "\n",
    "early_stopping = EarlyStopping(patience=3, # Stop after 3 epochs of no improvement\n",
    "                               monitor='val_loss', # Look at validation_loss\n",
    "                               min_delta=0, # After 0 change\n",
    "                               mode='min', # Stop when quantity has stopped decreasing\n",
    "                               restore_best_weights=False, # Don't Restore the best weights\n",
    "                               verbose=1) \n",
    "\n",
    "reduce_lr = ReduceLROnPlateau(monitor='val_loss', # Look at validation loss\n",
    "                              min_lr=0.000001, # Lower bound of learning rate\n",
    "                              patience=1, # Reduce after 1 with little change\n",
    "                              mode='min', # Stop when quantity has stopped decreasing\n",
    "                              factor=0.1, # Reduce by a factor of 1/10\n",
    "                              min_delta=0.01, # Minimumn change needed\n",
    "                              verbose=1)"
   ]
  },
  {
   "cell_type": "code",
   "execution_count": null,
   "metadata": {},
   "outputs": [],
   "source": [
    "# Compile and Train\n"
   ]
  },
  {
   "cell_type": "code",
   "execution_count": 338,
   "metadata": {},
   "outputs": [],
   "source": [
    "# preparar tokenizer\n",
    "tokenizer = Tokenizer()\n",
    "tokenizer.fit_on_texts(tweets)"
   ]
  },
  {
   "cell_type": "code",
   "execution_count": 339,
   "metadata": {},
   "outputs": [
    {
     "name": "stdout",
     "output_type": "stream",
     "text": [
      "Found 7771 unique tokens.\n"
     ]
    }
   ],
   "source": [
    "word_index = tokenizer.word_index\n",
    "print('Found %s unique tokens.' % len(word_index))"
   ]
  },
  {
   "cell_type": "code",
   "execution_count": 340,
   "metadata": {},
   "outputs": [],
   "source": [
    "# integer codificar os documentos\n",
    "sequences = tokenizer.texts_to_sequences(tweets)"
   ]
  },
  {
   "cell_type": "code",
   "execution_count": 341,
   "metadata": {},
   "outputs": [],
   "source": [
    "# preencher documentos com um comprimento máximo de 28 palavras\n",
    "maxlen = 47\n",
    "X = pad_sequences(sequences, maxlen=maxlen)"
   ]
  },
  {
   "cell_type": "code",
   "execution_count": 342,
   "metadata": {},
   "outputs": [
    {
     "data": {
      "text/plain": [
       "(8317, 47)"
      ]
     },
     "execution_count": 342,
     "metadata": {},
     "output_type": "execute_result"
    }
   ],
   "source": [
    "X.shape"
   ]
  },
  {
   "cell_type": "code",
   "execution_count": 343,
   "metadata": {},
   "outputs": [],
   "source": [
    "from sklearn.model_selection import train_test_split\n",
    "X_train, X_test, y_train, y_test = train_test_split(tweets, y, test_size=0.3, random_state=42)"
   ]
  },
  {
   "cell_type": "code",
   "execution_count": 344,
   "metadata": {},
   "outputs": [
    {
     "data": {
      "text/plain": [
       "((5821, 47), (2496, 47), (5821, 4), (2496, 4))"
      ]
     },
     "execution_count": 344,
     "metadata": {},
     "output_type": "execute_result"
    }
   ],
   "source": [
    "X_train.shape, X_test.shape, y_train.shape, y_test.shape"
   ]
  },
  {
   "cell_type": "code",
   "execution_count": 345,
   "metadata": {},
   "outputs": [],
   "source": [
    "# SimpleRNN\n",
    "vocab_size = len(word_index) + 1\n",
    "output_dim = 32\n",
    "maxlen = maxlen\n",
    "model = Sequential()\n",
    "model.add(Embedding(vocab_size, output_dim, input_length = maxlen, embeddings_constraint=maxnorm(3)))\n",
    "model.add(SimpleRNN(output_dim, return_sequences=True, kernel_constraint=maxnorm(3)))\n",
    "model.add(Dropout(0.2))\n",
    "model.add(SimpleRNN(output_dim, return_sequences=True, kernel_constraint=maxnorm(3)))\n",
    "model.add(Dropout(0.2))\n",
    "model.add(SimpleRNN(output_dim))\n",
    "model.add(Dense(4,activation='softmax'))\n",
    "model.compile(loss = 'categorical_crossentropy', optimizer='adam', metrics = ['accuracy'])"
   ]
  },
  {
   "cell_type": "code",
   "execution_count": 346,
   "metadata": {},
   "outputs": [
    {
     "name": "stdout",
     "output_type": "stream",
     "text": [
      "Model: \"sequential_14\"\n",
      "_________________________________________________________________\n",
      " Layer (type)                Output Shape              Param #   \n",
      "=================================================================\n",
      " embedding_14 (Embedding)    (None, 47, 32)            248704    \n",
      "                                                                 \n",
      " simple_rnn_21 (SimpleRNN)   (None, 47, 32)            2080      \n",
      "                                                                 \n",
      " dropout_28 (Dropout)        (None, 47, 32)            0         \n",
      "                                                                 \n",
      " simple_rnn_22 (SimpleRNN)   (None, 47, 32)            2080      \n",
      "                                                                 \n",
      " dropout_29 (Dropout)        (None, 47, 32)            0         \n",
      "                                                                 \n",
      " simple_rnn_23 (SimpleRNN)   (None, 32)                2080      \n",
      "                                                                 \n",
      " dense_14 (Dense)            (None, 4)                 132       \n",
      "                                                                 \n",
      "=================================================================\n",
      "Total params: 255,076\n",
      "Trainable params: 255,076\n",
      "Non-trainable params: 0\n",
      "_________________________________________________________________\n"
     ]
    }
   ],
   "source": [
    "model.summary()"
   ]
  },
  {
   "cell_type": "code",
   "execution_count": 347,
   "metadata": {},
   "outputs": [],
   "source": [
    "model.save('srnn.h5')"
   ]
  },
  {
   "cell_type": "code",
   "execution_count": 348,
   "metadata": {},
   "outputs": [
    {
     "name": "stdout",
     "output_type": "stream",
     "text": [
      "Epoch 1/10\n",
      "128/128 [==============================] - 9s 41ms/step - loss: 1.3042 - accuracy: 0.3829 - val_loss: 1.2177 - val_accuracy: 0.4299\n",
      "Epoch 2/10\n",
      "128/128 [==============================] - 5s 42ms/step - loss: 1.0376 - accuracy: 0.5550 - val_loss: 1.1202 - val_accuracy: 0.5037\n",
      "Epoch 3/10\n",
      "128/128 [==============================] - 4s 35ms/step - loss: 0.6751 - accuracy: 0.7565 - val_loss: 1.0856 - val_accuracy: 0.5741\n",
      "Epoch 4/10\n",
      "128/128 [==============================] - 5s 36ms/step - loss: 0.3797 - accuracy: 0.8795 - val_loss: 1.3205 - val_accuracy: 0.5398\n",
      "Epoch 5/10\n",
      "128/128 [==============================] - 5s 36ms/step - loss: 0.2112 - accuracy: 0.9381 - val_loss: 1.3907 - val_accuracy: 0.5810\n",
      "Epoch 6/10\n",
      "128/128 [==============================] - 5s 36ms/step - loss: 0.1940 - accuracy: 0.9406 - val_loss: 1.6710 - val_accuracy: 0.5089\n",
      "Epoch 7/10\n",
      "128/128 [==============================] - 5s 36ms/step - loss: 0.1438 - accuracy: 0.9588 - val_loss: 1.6192 - val_accuracy: 0.5461\n",
      "Epoch 8/10\n",
      "128/128 [==============================] - 5s 36ms/step - loss: 0.0832 - accuracy: 0.9764 - val_loss: 1.7653 - val_accuracy: 0.5449\n",
      "Epoch 9/10\n",
      "128/128 [==============================] - 5s 37ms/step - loss: 0.0654 - accuracy: 0.9818 - val_loss: 1.7560 - val_accuracy: 0.5547\n",
      "Epoch 10/10\n",
      "128/128 [==============================] - 5s 39ms/step - loss: 0.0522 - accuracy: 0.9845 - val_loss: 1.8567 - val_accuracy: 0.5501\n",
      "Accuracy: 56.37%\n",
      "Training duration(minutes): 0.8721845666567485\n"
     ]
    }
   ],
   "source": [
    "start = time.time()\n",
    "\n",
    "# Ajustar o modelo ao conjunto de treino\n",
    "rnn_hist = model.fit(X_train, y_train, epochs=10, validation_split=0.3)\n",
    "# Avaliação final do modelo\n",
    "scores = model.evaluate(X_test, y_test, verbose=0)\n",
    "print(\"Accuracy: %.2f%%\" % (scores[1]*100))\n",
    "warnings.filterwarnings(\"ignore\")\n",
    "\n",
    "end = time.time()\n",
    "total = (end-start)/60\n",
    "print('Training duration(minutes): {}'.format(total))"
   ]
  },
  {
   "cell_type": "code",
   "execution_count": 349,
   "metadata": {},
   "outputs": [],
   "source": [
    "model = Sequential()\n",
    "model.add(Embedding(vocab_size,output_dim, input_length = maxlen, embeddings_constraint=maxnorm(3)))\n",
    "model.add(LSTM(output_dim, return_sequences=True, kernel_constraint=maxnorm(3)))\n",
    "model.add(Dropout(0.2))\n",
    "model.add(LSTM(output_dim, return_sequences=True, kernel_constraint=maxnorm(3)))\n",
    "model.add(Dropout(0.2))\n",
    "model.add(LSTM(output_dim, kernel_constraint=maxnorm(3)))\n",
    "model.add(Dense(4,activation='softmax'))\n",
    "model.compile(loss = 'categorical_crossentropy', optimizer='adam', metrics = ['accuracy'])\n",
    "warnings.filterwarnings(\"ignore\")"
   ]
  },
  {
   "cell_type": "code",
   "execution_count": 350,
   "metadata": {},
   "outputs": [
    {
     "name": "stdout",
     "output_type": "stream",
     "text": [
      "Model: \"sequential_15\"\n",
      "_________________________________________________________________\n",
      " Layer (type)                Output Shape              Param #   \n",
      "=================================================================\n",
      " embedding_15 (Embedding)    (None, 47, 32)            248704    \n",
      "                                                                 \n",
      " lstm_21 (LSTM)              (None, 47, 32)            8320      \n",
      "                                                                 \n",
      " dropout_30 (Dropout)        (None, 47, 32)            0         \n",
      "                                                                 \n",
      " lstm_22 (LSTM)              (None, 47, 32)            8320      \n",
      "                                                                 \n",
      " dropout_31 (Dropout)        (None, 47, 32)            0         \n",
      "                                                                 \n",
      " lstm_23 (LSTM)              (None, 32)                8320      \n",
      "                                                                 \n",
      " dense_15 (Dense)            (None, 4)                 132       \n",
      "                                                                 \n",
      "=================================================================\n",
      "Total params: 273,796\n",
      "Trainable params: 273,796\n",
      "Non-trainable params: 0\n",
      "_________________________________________________________________\n"
     ]
    }
   ],
   "source": [
    "model.summary()"
   ]
  },
  {
   "cell_type": "code",
   "execution_count": 351,
   "metadata": {},
   "outputs": [],
   "source": [
    "model.save('lstm.h5')"
   ]
  },
  {
   "cell_type": "code",
   "execution_count": 352,
   "metadata": {},
   "outputs": [
    {
     "name": "stdout",
     "output_type": "stream",
     "text": [
      "Epoch 1/10\n",
      "128/128 [==============================] - 18s 81ms/step - loss: 1.2694 - accuracy: 0.3945 - val_loss: 1.0979 - val_accuracy: 0.5655\n",
      "Epoch 2/10\n",
      "128/128 [==============================] - 9s 71ms/step - loss: 0.8563 - accuracy: 0.6711 - val_loss: 0.7445 - val_accuracy: 0.7338\n",
      "Epoch 3/10\n",
      "128/128 [==============================] - 9s 68ms/step - loss: 0.5110 - accuracy: 0.8267 - val_loss: 0.7114 - val_accuracy: 0.7481\n",
      "Epoch 4/10\n",
      "128/128 [==============================] - 9s 69ms/step - loss: 0.3450 - accuracy: 0.8918 - val_loss: 0.7394 - val_accuracy: 0.7430\n",
      "Epoch 5/10\n",
      "128/128 [==============================] - 10s 78ms/step - loss: 0.2558 - accuracy: 0.9227 - val_loss: 0.8433 - val_accuracy: 0.7344\n",
      "Epoch 6/10\n",
      "128/128 [==============================] - 10s 81ms/step - loss: 0.2007 - accuracy: 0.9418 - val_loss: 0.8939 - val_accuracy: 0.7350\n",
      "Epoch 7/10\n",
      "128/128 [==============================] - 11s 89ms/step - loss: 0.1550 - accuracy: 0.9521 - val_loss: 0.9729 - val_accuracy: 0.7413\n",
      "Epoch 8/10\n",
      "128/128 [==============================] - 11s 86ms/step - loss: 0.1430 - accuracy: 0.9585 - val_loss: 1.0543 - val_accuracy: 0.7287\n",
      "Epoch 9/10\n",
      "128/128 [==============================] - 11s 87ms/step - loss: 0.1185 - accuracy: 0.9644 - val_loss: 1.1412 - val_accuracy: 0.7138\n",
      "Epoch 10/10\n",
      "128/128 [==============================] - 10s 77ms/step - loss: 0.1211 - accuracy: 0.9632 - val_loss: 1.0908 - val_accuracy: 0.7195\n",
      "Accuracy: 70.99%\n",
      "Training duration(minutes): 1.8333399732907614\n"
     ]
    }
   ],
   "source": [
    "start = time.time()\n",
    "# Ajustar o modelo ao conjunto de treino\n",
    "lstm_hist = model.fit(X_train, y_train, epochs=10, validation_split=0.3)\n",
    "# avaliação final do modelo\n",
    "warnings.filterwarnings(\"ignore\")\n",
    "scores = model.evaluate(X_test, y_test, verbose=0)\n",
    "print(\"Accuracy: %.2f%%\" % (scores[1]*100))\n",
    "warnings.filterwarnings(\"ignore\")\n",
    "end = time.time()\n",
    "total = (end-start)/60\n",
    "print('Training duration(minutes): {}'.format(total))"
   ]
  },
  {
   "cell_type": "code",
   "execution_count": 353,
   "metadata": {},
   "outputs": [
    {
     "data": {
      "image/png": "[encoded data removed]",
      "text/plain": [
       "<Figure size 640x480 with 1 Axes>"
      ]
     },
     "metadata": {},
     "output_type": "display_data"
    }
   ],
   "source": [
    "# SimpleRNN Result\n",
    "\n",
    "acc = rnn_hist.history['accuracy']\n",
    "val_acc = rnn_hist.history['val_accuracy']\n",
    "loss = rnn_hist.history['loss']\n",
    "val_loss = rnn_hist.history['val_loss']\n",
    "epochs = range(1, len(acc)+1)\n",
    "plt.plot(epochs, acc, 'r', label='Training acc')\n",
    "plt.plot(epochs, val_acc, 'b', label='Validation acc')\n",
    "plt.title('SimpleRNN: Training and validation accuracy')\n",
    "plt.xlabel('Epoch')\n",
    "plt.ylabel('Accuracy')\n",
    "plt.legend(loc='best')\n",
    "plt.show()"
   ]
  },
  {
   "cell_type": "code",
   "execution_count": 354,
   "metadata": {},
   "outputs": [
    {
     "data": {
      "image/png": "[encoded data removed]",
      "text/plain": [
       "<Figure size 640x480 with 1 Axes>"
      ]
     },
     "metadata": {},
     "output_type": "display_data"
    }
   ],
   "source": [
    "plt.plot(epochs, loss, 'r', label='Training loss')\n",
    "plt.plot(epochs, val_loss, 'b', label='Validation loss')\n",
    "plt.title('SimpleRNN: Training and validation loss')\n",
    "plt.xlabel('Epoch')\n",
    "plt.ylabel('Loss')\n",
    "plt.legend(loc='best')\n",
    "plt.show()"
   ]
  },
  {
   "cell_type": "code",
   "execution_count": 355,
   "metadata": {},
   "outputs": [
    {
     "data": {
      "image/png": "[encoded data removed]",
      "text/plain": [
       "<Figure size 640x480 with 1 Axes>"
      ]
     },
     "metadata": {},
     "output_type": "display_data"
    }
   ],
   "source": [
    "# LSTM Result\n",
    "\n",
    "acc = lstm_hist.history['accuracy']\n",
    "val_acc = lstm_hist.history['val_accuracy']\n",
    "loss = lstm_hist.history['loss']\n",
    "val_loss = lstm_hist.history['val_loss']\n",
    "epochs = range(1, len(acc)+1)\n",
    "_ = plt.plot(epochs, acc, 'r', label='Training acc')\n",
    "_ = plt.plot(epochs, val_acc, 'b', label='Validation acc')\n",
    "_ = plt.title('LSTM: Training and validation accuracy')\n",
    "_ = plt.xlabel('Epoch')\n",
    "_ = plt.ylabel('Accuracy')\n",
    "_ = plt.legend(loc='best')\n",
    "plt.show()"
   ]
  },
  {
   "cell_type": "code",
   "execution_count": 356,
   "metadata": {},
   "outputs": [
    {
     "data": {
      "image/png": "[encoded data removed]",
      "text/plain": [
       "<Figure size 640x480 with 1 Axes>"
      ]
     },
     "metadata": {},
     "output_type": "display_data"
    }
   ],
   "source": [
    "_ = plt.plot(epochs, loss, 'r', label='Training loss')\n",
    "_ = plt.plot(epochs, val_loss, 'b', label='Validation loss')\n",
    "_ = plt.title('LSTM: Training and validation loss')\n",
    "_ = plt.xlabel('Epoch')\n",
    "_ = plt.ylabel('Loss')\n",
    "_ = plt.legend(loc='best')\n",
    "plt.show()"
   ]
  },
  {
   "cell_type": "code",
   "execution_count": 357,
   "metadata": {},
   "outputs": [],
   "source": [
    "from keras.models import load_model\n",
    "lstm = load_model('lstm.h5')\n",
    "warnings.filterwarnings(\"ignore\")"
   ]
  },
  {
   "cell_type": "code",
   "execution_count": 358,
   "metadata": {},
   "outputs": [
    {
     "name": "stdout",
     "output_type": "stream",
     "text": [
      "Model: \"sequential_15\"\n",
      "_________________________________________________________________\n",
      " Layer (type)                Output Shape              Param #   \n",
      "=================================================================\n",
      " embedding_15 (Embedding)    (None, 47, 32)            248704    \n",
      "                                                                 \n",
      " lstm_21 (LSTM)              (None, 47, 32)            8320      \n",
      "                                                                 \n",
      " dropout_30 (Dropout)        (None, 47, 32)            0         \n",
      "                                                                 \n",
      " lstm_22 (LSTM)              (None, 47, 32)            8320      \n",
      "                                                                 \n",
      " dropout_31 (Dropout)        (None, 47, 32)            0         \n",
      "                                                                 \n",
      " lstm_23 (LSTM)              (None, 32)                8320      \n",
      "                                                                 \n",
      " dense_15 (Dense)            (None, 4)                 132       \n",
      "                                                                 \n",
      "=================================================================\n",
      "Total params: 273,796\n",
      "Trainable params: 273,796\n",
      "Non-trainable params: 0\n",
      "_________________________________________________________________\n"
     ]
    }
   ],
   "source": [
    "lstm.summary()"
   ]
  },
  {
   "cell_type": "code",
   "execution_count": 359,
   "metadata": {},
   "outputs": [
    {
     "name": "stdout",
     "output_type": "stream",
     "text": [
      "78/78 [==============================] - 3s 21ms/step\n"
     ]
    }
   ],
   "source": [
    "predictions = lstm.predict(X_test)"
   ]
  }
 ],
 "metadata": {
  "kernelspec": {
   "display_name": "base",
   "language": "python",
   "name": "python3"
  },
  "language_info": {
   "codemirror_mode": {
    "name": "ipython",
    "version": 3
   },
   "file_extension": ".py",
   "mimetype": "text/x-python",
   "name": "python",
   "nbconvert_exporter": "python",
   "pygments_lexer": "ipython3",
   "version": "3.9.15"
  },
  "orig_nbformat": 4,
  "vscode": {
   "interpreter": {
    "hash": "a7e5e0eaa77a28125227fb7ae19e78585bc0f4691d77dafd52dbfc5225ddb4e5"
   }
  }
 },
 "nbformat": 4,
 "nbformat_minor": 2
}
