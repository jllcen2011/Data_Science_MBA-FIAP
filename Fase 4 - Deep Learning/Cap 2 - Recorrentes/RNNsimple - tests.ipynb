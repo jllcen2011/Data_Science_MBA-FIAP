{
 "cells": [
  {
   "cell_type": "code",
   "execution_count": 78,
   "metadata": {},
   "outputs": [],
   "source": [
    "import pandas as pd\n",
    "import matplotlib.pyplot as plt\n",
    "import numpy as np\n",
    "import math\n",
    "import re\n",
    "from sklearn import preprocessing\n",
    "from keras.datasets import imdb\n",
    "from keras.models import Sequential\n",
    "from keras.layers import Dense, SimpleRNN, Embedding\n",
    "from keras.layers import LSTM\n",
    "from keras.preprocessing.text import Tokenizer\n",
    "from keras.preprocessing import sequence\n",
    "from keras.utils import pad_sequences\n",
    "from tensorflow.python.client import device_lib\n",
    "from keras.constraints import maxnorm\n",
    "from keras.layers import Dropout\n",
    "import time\n",
    "import nltk\n",
    "import warnings\n",
    "warnings.filterwarnings(\"ignore\")\n"
   ]
  },
  {
   "cell_type": "code",
   "execution_count": 79,
   "metadata": {},
   "outputs": [],
   "source": [
    "df = pd.read_excel(\"C:/Users/jllce/Downloads/classificacao_assuntos.xlsx\")"
   ]
  },
  {
   "cell_type": "code",
   "execution_count": 80,
   "metadata": {},
   "outputs": [
    {
     "data": {
      "text/plain": [
       "tweets    0\n",
       "label     0\n",
       "dtype: int64"
      ]
     },
     "execution_count": 80,
     "metadata": {},
     "output_type": "execute_result"
    }
   ],
   "source": [
    "df.isnull().sum()"
   ]
  },
  {
   "cell_type": "code",
   "execution_count": 81,
   "metadata": {},
   "outputs": [],
   "source": [
    "# Se tiver valores nulos, usar o código abaixo\n",
    "\n",
    "# df = df[~df['label'].isnull()]\n",
    "# df"
   ]
  },
  {
   "cell_type": "code",
   "execution_count": 82,
   "metadata": {},
   "outputs": [
    {
     "data": {
      "text/plain": [
       "Outro          8385\n",
       "Entrega        4819\n",
       "Produto        2961\n",
       "Atendimento    1944\n",
       "Name: label, dtype: int64"
      ]
     },
     "execution_count": 82,
     "metadata": {},
     "output_type": "execute_result"
    }
   ],
   "source": [
    "df[\"label\"].value_counts()"
   ]
  },
  {
   "cell_type": "code",
   "execution_count": 83,
   "metadata": {},
   "outputs": [
    {
     "data": {
      "text/plain": [
       "Outro          0.463029\n",
       "Entrega        0.266111\n",
       "Produto        0.163510\n",
       "Atendimento    0.107350\n",
       "Name: label, dtype: float64"
      ]
     },
     "execution_count": 83,
     "metadata": {},
     "output_type": "execute_result"
    }
   ],
   "source": [
    "df[\"label\"].value_counts(normalize=True)"
   ]
  },
  {
   "cell_type": "code",
   "execution_count": 84,
   "metadata": {},
   "outputs": [
    {
     "data": {
      "text/plain": [
       "Entrega        2169\n",
       "Outro          2096\n",
       "Produto        2073\n",
       "Atendimento    1944\n",
       "Name: label, dtype: int64"
      ]
     },
     "execution_count": 84,
     "metadata": {},
     "output_type": "execute_result"
    }
   ],
   "source": [
    "dfO = df[df[\"label\"] == \"Outro\"].sample(frac = 0.25)\n",
    "dfE = df[df[\"label\"] == \"Entrega\"].sample(frac = 0.45)\n",
    "dfP = df[df[\"label\"] == \"Produto\"].sample(frac = 0.70)\n",
    "\n",
    "df = pd.concat([dfO, dfE, dfP, df[df[\"label\"] == \"Atendimento\"]])\n",
    "df[\"label\"].value_counts()"
   ]
  },
  {
   "cell_type": "code",
   "execution_count": 85,
   "metadata": {},
   "outputs": [
    {
     "data": {
      "text/plain": [
       "Entrega        0.261893\n",
       "Outro          0.253079\n",
       "Produto        0.250302\n",
       "Atendimento    0.234726\n",
       "Name: label, dtype: float64"
      ]
     },
     "execution_count": 85,
     "metadata": {},
     "output_type": "execute_result"
    }
   ],
   "source": [
    "\n",
    "df[\"label\"].value_counts(normalize=True)"
   ]
  },
  {
   "cell_type": "code",
   "execution_count": 86,
   "metadata": {},
   "outputs": [],
   "source": [
    "df1 = df[\"tweets\"]\n",
    "df2 = df[\"label\"]"
   ]
  },
  {
   "cell_type": "code",
   "execution_count": 87,
   "metadata": {},
   "outputs": [],
   "source": [
    "def cleanTxt(text):\n",
    "  import re\n",
    "  text = text.lower()\n",
    "  text = re.sub(r\"@([a-zA-Z0-9_]{1,50})\",'',str(text)) \n",
    "  text = re.sub(r'(?:\\@|https?\\://)\\S+','',text)\n",
    "  text = re.sub(r'\\d+','', text)\n",
    "  text = re.sub(r\"[-()\\\"#/;:<>{}-~=|.?,]\",\"\",text)\n",
    "  return text\n",
    "\n",
    "def removeEmojis(text):\n",
    "  emoji_pattern = re.compile(\"[\"\n",
    "        u\"\\U0001F600-\\U0001F64F\"\n",
    "        u\"\\U0001F300-\\U0001F5FF\"\n",
    "        u\"\\U0001F680-\\U0001F6FF\"\n",
    "        u\"\\U0001F1E0-\\U0001F1FF\"\n",
    "        u\"\\U00002500-\\U00002BEF\"\n",
    "        u\"\\U00002702-\\U000027B0\"\n",
    "        u\"\\U00002702-\\U000027B0\"\n",
    "        u\"\\U000024C2-\\U0001F251\"\n",
    "        u\"\\U0001f926-\\U0001f937\"\n",
    "        u\"\\U00010000-\\U0010ffff\"\n",
    "        u\"\\u2640-\\u2642\"\n",
    "        u\"\\u2600-\\u2B55\"\n",
    "        u\"\\u200d\"\n",
    "        u\"\\u23cf\"\n",
    "        u\"\\u23e9\"\n",
    "        u\"\\u231a\"\n",
    "        u\"\\ufe0f\"\n",
    "        u\"\\u3030\"\n",
    "        \"]+\", re.UNICODE)\n",
    "  text = emoji_pattern.sub(r'', text)\n",
    "  return text\n",
    "\n",
    "def removeStopWords(text):\n",
    "    stemmer = nltk.stem.RSLPStemmer()\n",
    "    stopwords = set(nltk.corpus.stopwords.words('portuguese'))\n",
    "    words = [stemmer.stem(i) for i in text.split() if not i in stopwords]\n",
    "    return (\" \".join(words))\n",
    "\n",
    "\n",
    "tweets_tratados = df1.apply(cleanTxt)\n",
    "tweets_tratados = tweets_tratados.apply(removeEmojis)\n",
    "tweets_tratados = tweets_tratados.apply(removeStopWords)\n",
    "tweets = list(tweets_tratados)"
   ]
  },
  {
   "cell_type": "code",
   "execution_count": 88,
   "metadata": {},
   "outputs": [
    {
     "data": {
      "text/plain": [
       "0"
      ]
     },
     "execution_count": 88,
     "metadata": {},
     "output_type": "execute_result"
    }
   ],
   "source": [
    "#Verificando novamente se houve tweets nulos após tratamento\n",
    "tweets_tratados.isnull().sum()"
   ]
  },
  {
   "cell_type": "code",
   "execution_count": 89,
   "metadata": {},
   "outputs": [
    {
     "data": {
      "text/html": [
       "<div>\n",
       "<style scoped>\n",
       "    .dataframe tbody tr th:only-of-type {\n",
       "        vertical-align: middle;\n",
       "    }\n",
       "\n",
       "    .dataframe tbody tr th {\n",
       "        vertical-align: top;\n",
       "    }\n",
       "\n",
       "    .dataframe thead th {\n",
       "        text-align: right;\n",
       "    }\n",
       "</style>\n",
       "<table border=\"1\" class=\"dataframe\">\n",
       "  <thead>\n",
       "    <tr style=\"text-align: right;\">\n",
       "      <th></th>\n",
       "      <th>Label</th>\n",
       "    </tr>\n",
       "  </thead>\n",
       "  <tbody>\n",
       "    <tr>\n",
       "      <th>1002</th>\n",
       "      <td>2</td>\n",
       "    </tr>\n",
       "    <tr>\n",
       "      <th>15675</th>\n",
       "      <td>2</td>\n",
       "    </tr>\n",
       "    <tr>\n",
       "      <th>17453</th>\n",
       "      <td>2</td>\n",
       "    </tr>\n",
       "    <tr>\n",
       "      <th>15746</th>\n",
       "      <td>2</td>\n",
       "    </tr>\n",
       "    <tr>\n",
       "      <th>3094</th>\n",
       "      <td>2</td>\n",
       "    </tr>\n",
       "    <tr>\n",
       "      <th>...</th>\n",
       "      <td>...</td>\n",
       "    </tr>\n",
       "    <tr>\n",
       "      <th>18077</th>\n",
       "      <td>0</td>\n",
       "    </tr>\n",
       "    <tr>\n",
       "      <th>18081</th>\n",
       "      <td>0</td>\n",
       "    </tr>\n",
       "    <tr>\n",
       "      <th>18102</th>\n",
       "      <td>0</td>\n",
       "    </tr>\n",
       "    <tr>\n",
       "      <th>18103</th>\n",
       "      <td>0</td>\n",
       "    </tr>\n",
       "    <tr>\n",
       "      <th>18106</th>\n",
       "      <td>0</td>\n",
       "    </tr>\n",
       "  </tbody>\n",
       "</table>\n",
       "<p>8282 rows × 1 columns</p>\n",
       "</div>"
      ],
      "text/plain": [
       "       Label\n",
       "1002       2\n",
       "15675      2\n",
       "17453      2\n",
       "15746      2\n",
       "3094       2\n",
       "...      ...\n",
       "18077      0\n",
       "18081      0\n",
       "18102      0\n",
       "18103      0\n",
       "18106      0\n",
       "\n",
       "[8282 rows x 1 columns]"
      ]
     },
     "execution_count": 89,
     "metadata": {},
     "output_type": "execute_result"
    }
   ],
   "source": [
    "label_encoder = preprocessing.LabelEncoder()\n",
    "labels = pd.DataFrame(label_encoder.fit_transform(df2), columns=[\"Label\"], index = df.index)\n",
    "labels"
   ]
  },
  {
   "cell_type": "code",
   "execution_count": 90,
   "metadata": {},
   "outputs": [
    {
     "data": {
      "text/plain": [
       "Label\n",
       "1        2169\n",
       "2        2096\n",
       "3        2073\n",
       "0        1944\n",
       "dtype: int64"
      ]
     },
     "execution_count": 90,
     "metadata": {},
     "output_type": "execute_result"
    }
   ],
   "source": [
    "labels.value_counts()"
   ]
  },
  {
   "cell_type": "code",
   "execution_count": 91,
   "metadata": {},
   "outputs": [],
   "source": [
    "from keras.utils.np_utils import to_categorical\n",
    "y = to_categorical(labels)"
   ]
  },
  {
   "cell_type": "code",
   "execution_count": 92,
   "metadata": {},
   "outputs": [
    {
     "data": {
      "text/plain": [
       "(8282, 4)"
      ]
     },
     "execution_count": 92,
     "metadata": {},
     "output_type": "execute_result"
    }
   ],
   "source": [
    "y.shape"
   ]
  },
  {
   "cell_type": "code",
   "execution_count": 93,
   "metadata": {},
   "outputs": [],
   "source": [
    "# preparar tokenizer\n",
    "tokenizer = Tokenizer()\n",
    "tokenizer.fit_on_texts(tweets)"
   ]
  },
  {
   "cell_type": "code",
   "execution_count": 94,
   "metadata": {},
   "outputs": [
    {
     "name": "stdout",
     "output_type": "stream",
     "text": [
      "Found 7825 unique tokens.\n"
     ]
    }
   ],
   "source": [
    "word_index = tokenizer.word_index\n",
    "print('Found %s unique tokens.' % len(word_index))"
   ]
  },
  {
   "cell_type": "code",
   "execution_count": 95,
   "metadata": {},
   "outputs": [],
   "source": [
    "# integer codificar os documentos\n",
    "sequences = tokenizer.texts_to_sequences(tweets)"
   ]
  },
  {
   "cell_type": "code",
   "execution_count": 96,
   "metadata": {},
   "outputs": [],
   "source": [
    "# preencher documentos com um comprimento máximo de 28 palavras\n",
    "maxlen = 28\n",
    "X = pad_sequences(sequences, maxlen=maxlen)"
   ]
  },
  {
   "cell_type": "code",
   "execution_count": 97,
   "metadata": {},
   "outputs": [
    {
     "data": {
      "text/plain": [
       "(8282, 28)"
      ]
     },
     "execution_count": 97,
     "metadata": {},
     "output_type": "execute_result"
    }
   ],
   "source": [
    "X.shape"
   ]
  },
  {
   "cell_type": "code",
   "execution_count": 98,
   "metadata": {},
   "outputs": [],
   "source": [
    "from sklearn.model_selection import train_test_split\n",
    "X_train, X_test, y_train, y_test = train_test_split(X, y, test_size=0.3, random_state=42)"
   ]
  },
  {
   "cell_type": "code",
   "execution_count": 99,
   "metadata": {},
   "outputs": [
    {
     "data": {
      "text/plain": [
       "((5797, 28), (2485, 28), (5797, 4), (2485, 4))"
      ]
     },
     "execution_count": 99,
     "metadata": {},
     "output_type": "execute_result"
    }
   ],
   "source": [
    "X_train.shape, X_test.shape, y_train.shape, y_test.shape"
   ]
  },
  {
   "cell_type": "code",
   "execution_count": 100,
   "metadata": {},
   "outputs": [],
   "source": [
    "# SimpleRNN\n",
    "vocab_size = len(word_index) + 1\n",
    "output_dim = 32\n",
    "maxlen = maxlen\n",
    "model = Sequential()\n",
    "model.add(Embedding(vocab_size, output_dim, input_length = maxlen, embeddings_constraint=maxnorm(3)))\n",
    "model.add(SimpleRNN(output_dim, return_sequences=True, kernel_constraint=maxnorm(3)))\n",
    "model.add(Dropout(0.2))\n",
    "model.add(SimpleRNN(output_dim, return_sequences=True, kernel_constraint=maxnorm(3)))\n",
    "model.add(Dropout(0.2))\n",
    "model.add(SimpleRNN(output_dim))\n",
    "model.add(Dense(4,activation='softmax'))\n",
    "model.compile(loss = 'categorical_crossentropy', optimizer='adam', metrics = ['accuracy'])"
   ]
  },
  {
   "cell_type": "code",
   "execution_count": 101,
   "metadata": {},
   "outputs": [
    {
     "name": "stdout",
     "output_type": "stream",
     "text": [
      "Model: \"sequential_2\"\n",
      "_________________________________________________________________\n",
      " Layer (type)                Output Shape              Param #   \n",
      "=================================================================\n",
      " embedding_2 (Embedding)     (None, 28, 32)            250432    \n",
      "                                                                 \n",
      " simple_rnn_3 (SimpleRNN)    (None, 28, 32)            2080      \n",
      "                                                                 \n",
      " dropout_4 (Dropout)         (None, 28, 32)            0         \n",
      "                                                                 \n",
      " simple_rnn_4 (SimpleRNN)    (None, 28, 32)            2080      \n",
      "                                                                 \n",
      " dropout_5 (Dropout)         (None, 28, 32)            0         \n",
      "                                                                 \n",
      " simple_rnn_5 (SimpleRNN)    (None, 32)                2080      \n",
      "                                                                 \n",
      " dense_2 (Dense)             (None, 4)                 132       \n",
      "                                                                 \n",
      "=================================================================\n",
      "Total params: 256,804\n",
      "Trainable params: 256,804\n",
      "Non-trainable params: 0\n",
      "_________________________________________________________________\n"
     ]
    }
   ],
   "source": [
    "model.summary()"
   ]
  },
  {
   "cell_type": "code",
   "execution_count": 102,
   "metadata": {},
   "outputs": [],
   "source": [
    "model.save('srnn.h5')"
   ]
  },
  {
   "cell_type": "code",
   "execution_count": 103,
   "metadata": {},
   "outputs": [
    {
     "name": "stdout",
     "output_type": "stream",
     "text": [
      "Epoch 1/10\n",
      "127/127 [==============================] - 9s 31ms/step - loss: 1.3120 - accuracy: 0.3749 - val_loss: 1.2219 - val_accuracy: 0.4695\n",
      "Epoch 2/10\n",
      "127/127 [==============================] - 3s 26ms/step - loss: 0.9251 - accuracy: 0.6308 - val_loss: 1.0139 - val_accuracy: 0.5885\n",
      "Epoch 3/10\n",
      "127/127 [==============================] - 3s 26ms/step - loss: 0.4987 - accuracy: 0.8351 - val_loss: 0.9783 - val_accuracy: 0.6540\n",
      "Epoch 4/10\n",
      "127/127 [==============================] - 3s 24ms/step - loss: 0.2705 - accuracy: 0.9150 - val_loss: 1.0574 - val_accuracy: 0.6621\n",
      "Epoch 5/10\n",
      "127/127 [==============================] - 3s 26ms/step - loss: 0.1553 - accuracy: 0.9556 - val_loss: 1.1875 - val_accuracy: 0.6557\n",
      "Epoch 6/10\n",
      "127/127 [==============================] - 3s 26ms/step - loss: 0.1022 - accuracy: 0.9736 - val_loss: 1.2631 - val_accuracy: 0.6517\n",
      "Epoch 7/10\n",
      "127/127 [==============================] - 4s 31ms/step - loss: 0.0874 - accuracy: 0.9766 - val_loss: 1.4461 - val_accuracy: 0.6201\n",
      "Epoch 8/10\n",
      "127/127 [==============================] - 3s 27ms/step - loss: 0.0638 - accuracy: 0.9815 - val_loss: 1.4682 - val_accuracy: 0.6454\n",
      "Epoch 9/10\n",
      "127/127 [==============================] - 4s 29ms/step - loss: 0.0524 - accuracy: 0.9850 - val_loss: 1.5391 - val_accuracy: 0.6408\n",
      "Epoch 10/10\n",
      "127/127 [==============================] - 4s 29ms/step - loss: 0.0503 - accuracy: 0.9850 - val_loss: 1.5830 - val_accuracy: 0.6391\n",
      "Accuracy: 66.48%\n",
      "Training duration(minutes): 0.6797325094540914\n"
     ]
    }
   ],
   "source": [
    "start = time.time()\n",
    "\n",
    "# Ajustar o modelo ao conjunto de treino\n",
    "rnn_hist = model.fit(X_train, y_train, epochs=10, validation_split=0.3)\n",
    "# Avaliação final do modelo\n",
    "scores = model.evaluate(X_test, y_test, verbose=0)\n",
    "print(\"Accuracy: %.2f%%\" % (scores[1]*100))\n",
    "warnings.filterwarnings(\"ignore\")\n",
    "\n",
    "end = time.time()\n",
    "total = (end-start)/60\n",
    "print('Training duration(minutes): {}'.format(total))"
   ]
  },
  {
   "cell_type": "code",
   "execution_count": 104,
   "metadata": {},
   "outputs": [],
   "source": [
    "model = Sequential()\n",
    "model.add(Embedding(vocab_size,output_dim, input_length = maxlen, embeddings_constraint=maxnorm(3)))\n",
    "model.add(LSTM(output_dim, return_sequences=True, kernel_constraint=maxnorm(3)))\n",
    "model.add(Dropout(0.2))\n",
    "model.add(LSTM(output_dim, return_sequences=True, kernel_constraint=maxnorm(3)))\n",
    "model.add(Dropout(0.2))\n",
    "model.add(LSTM(output_dim, kernel_constraint=maxnorm(3)))\n",
    "model.add(Dense(4,activation='softmax'))\n",
    "model.compile(loss = 'categorical_crossentropy', optimizer='adam', metrics = ['accuracy'])\n",
    "warnings.filterwarnings(\"ignore\")"
   ]
  },
  {
   "cell_type": "code",
   "execution_count": 105,
   "metadata": {},
   "outputs": [
    {
     "name": "stdout",
     "output_type": "stream",
     "text": [
      "Model: \"sequential_3\"\n",
      "_________________________________________________________________\n",
      " Layer (type)                Output Shape              Param #   \n",
      "=================================================================\n",
      " embedding_3 (Embedding)     (None, 28, 32)            250432    \n",
      "                                                                 \n",
      " lstm_3 (LSTM)               (None, 28, 32)            8320      \n",
      "                                                                 \n",
      " dropout_6 (Dropout)         (None, 28, 32)            0         \n",
      "                                                                 \n",
      " lstm_4 (LSTM)               (None, 28, 32)            8320      \n",
      "                                                                 \n",
      " dropout_7 (Dropout)         (None, 28, 32)            0         \n",
      "                                                                 \n",
      " lstm_5 (LSTM)               (None, 32)                8320      \n",
      "                                                                 \n",
      " dense_3 (Dense)             (None, 4)                 132       \n",
      "                                                                 \n",
      "=================================================================\n",
      "Total params: 275,524\n",
      "Trainable params: 275,524\n",
      "Non-trainable params: 0\n",
      "_________________________________________________________________\n"
     ]
    }
   ],
   "source": [
    "model.summary()"
   ]
  },
  {
   "cell_type": "code",
   "execution_count": 106,
   "metadata": {},
   "outputs": [],
   "source": [
    "model.save('lstm.h5')"
   ]
  },
  {
   "cell_type": "code",
   "execution_count": 107,
   "metadata": {},
   "outputs": [
    {
     "name": "stdout",
     "output_type": "stream",
     "text": [
      "Epoch 1/10\n",
      "127/127 [==============================] - 14s 56ms/step - loss: 1.2594 - accuracy: 0.4060 - val_loss: 1.1174 - val_accuracy: 0.5310\n",
      "Epoch 2/10\n",
      "127/127 [==============================] - 7s 52ms/step - loss: 0.8633 - accuracy: 0.6667 - val_loss: 0.8902 - val_accuracy: 0.6603\n",
      "Epoch 3/10\n",
      "127/127 [==============================] - 6s 51ms/step - loss: 0.5687 - accuracy: 0.7962 - val_loss: 0.8333 - val_accuracy: 0.7000\n",
      "Epoch 4/10\n",
      "127/127 [==============================] - 7s 52ms/step - loss: 0.3827 - accuracy: 0.8780 - val_loss: 0.8548 - val_accuracy: 0.7075\n",
      "Epoch 5/10\n",
      "127/127 [==============================] - 6s 48ms/step - loss: 0.2725 - accuracy: 0.9187 - val_loss: 0.9910 - val_accuracy: 0.7103\n",
      "Epoch 6/10\n",
      "127/127 [==============================] - 6s 48ms/step - loss: 0.2013 - accuracy: 0.9384 - val_loss: 1.0995 - val_accuracy: 0.6954\n",
      "Epoch 7/10\n",
      "127/127 [==============================] - 6s 48ms/step - loss: 0.1737 - accuracy: 0.9502 - val_loss: 1.1325 - val_accuracy: 0.7034\n",
      "Epoch 8/10\n",
      "127/127 [==============================] - 7s 55ms/step - loss: 0.1406 - accuracy: 0.9611 - val_loss: 1.3002 - val_accuracy: 0.6816\n",
      "Epoch 9/10\n",
      "127/127 [==============================] - 7s 55ms/step - loss: 0.1382 - accuracy: 0.9591 - val_loss: 1.2969 - val_accuracy: 0.6874\n",
      "Epoch 10/10\n",
      "127/127 [==============================] - 6s 49ms/step - loss: 0.1273 - accuracy: 0.9628 - val_loss: 1.3435 - val_accuracy: 0.6833\n",
      "Accuracy: 70.87%\n",
      "Training duration(minutes): 1.2275843063990275\n"
     ]
    }
   ],
   "source": [
    "start = time.time()\n",
    "# Ajustar o modelo ao conjunto de treino\n",
    "lstm_hist = model.fit(X_train, y_train, epochs=10, validation_split=0.3)\n",
    "# avaliação final do modelo\n",
    "warnings.filterwarnings(\"ignore\")\n",
    "scores = model.evaluate(X_test, y_test, verbose=0)\n",
    "print(\"Accuracy: %.2f%%\" % (scores[1]*100))\n",
    "warnings.filterwarnings(\"ignore\")\n",
    "end = time.time()\n",
    "total = (end-start)/60\n",
    "print('Training duration(minutes): {}'.format(total))"
   ]
  },
  {
   "cell_type": "code",
   "execution_count": 108,
   "metadata": {},
   "outputs": [
    {
     "data": {
      "image/png": "[encoded data removed]",
      "text/plain": [
       "<Figure size 640x480 with 1 Axes>"
      ]
     },
     "metadata": {},
     "output_type": "display_data"
    }
   ],
   "source": [
    "# SimpleRNN Result\n",
    "\n",
    "acc = rnn_hist.history['accuracy']\n",
    "val_acc = rnn_hist.history['val_accuracy']\n",
    "loss = rnn_hist.history['loss']\n",
    "val_loss = rnn_hist.history['val_loss']\n",
    "epochs = range(1, len(acc)+1)\n",
    "plt.plot(epochs, acc, 'r', label='Training acc')\n",
    "plt.plot(epochs, val_acc, 'b', label='Validation acc')\n",
    "plt.title('SimpleRNN: Training and validation accuracy')\n",
    "plt.xlabel('Epoch')\n",
    "plt.ylabel('Accuracy')\n",
    "plt.legend(loc='best')\n",
    "plt.show()"
   ]
  },
  {
   "cell_type": "code",
   "execution_count": 109,
   "metadata": {},
   "outputs": [
    {
     "data": {
      "image/png": "[encoded data removed]",
      "text/plain": [
       "<Figure size 640x480 with 1 Axes>"
      ]
     },
     "metadata": {},
     "output_type": "display_data"
    }
   ],
   "source": [
    "plt.plot(epochs, loss, 'r', label='Training loss')\n",
    "plt.plot(epochs, val_loss, 'b', label='Validation loss')\n",
    "plt.title('SimpleRNN: Training and validation loss')\n",
    "plt.xlabel('Epoch')\n",
    "plt.ylabel('Loss')\n",
    "plt.legend(loc='best')\n",
    "plt.show()"
   ]
  },
  {
   "cell_type": "code",
   "execution_count": 110,
   "metadata": {},
   "outputs": [
    {
     "data": {
      "image/png": "[encoded data removed]",
      "text/plain": [
       "<Figure size 640x480 with 1 Axes>"
      ]
     },
     "metadata": {},
     "output_type": "display_data"
    }
   ],
   "source": [
    "# LSTM Result\n",
    "\n",
    "acc = lstm_hist.history['accuracy']\n",
    "val_acc = lstm_hist.history['val_accuracy']\n",
    "loss = lstm_hist.history['loss']\n",
    "val_loss = lstm_hist.history['val_loss']\n",
    "epochs = range(1, len(acc)+1)\n",
    "_ = plt.plot(epochs, acc, 'r', label='Training acc')\n",
    "_ = plt.plot(epochs, val_acc, 'b', label='Validation acc')\n",
    "_ = plt.title('LSTM: Training and validation accuracy')\n",
    "_ = plt.xlabel('Epoch')\n",
    "_ = plt.ylabel('Accuracy')\n",
    "_ = plt.legend(loc='best')\n",
    "plt.show()"
   ]
  },
  {
   "cell_type": "code",
   "execution_count": 111,
   "metadata": {},
   "outputs": [
    {
     "data": {
      "image/png": "[encoded data removed]",
      "text/plain": [
       "<Figure size 640x480 with 1 Axes>"
      ]
     },
     "metadata": {},
     "output_type": "display_data"
    }
   ],
   "source": [
    "_ = plt.plot(epochs, loss, 'r', label='Training loss')\n",
    "_ = plt.plot(epochs, val_loss, 'b', label='Validation loss')\n",
    "_ = plt.title('LSTM: Training and validation loss')\n",
    "_ = plt.xlabel('Epoch')\n",
    "_ = plt.ylabel('Loss')\n",
    "_ = plt.legend(loc='best')\n",
    "plt.show()"
   ]
  },
  {
   "cell_type": "code",
   "execution_count": 112,
   "metadata": {},
   "outputs": [],
   "source": [
    "from keras.models import load_model\n",
    "lstm = load_model('lstm.h5')\n",
    "warnings.filterwarnings(\"ignore\")"
   ]
  },
  {
   "cell_type": "code",
   "execution_count": 113,
   "metadata": {},
   "outputs": [
    {
     "name": "stdout",
     "output_type": "stream",
     "text": [
      "Model: \"sequential_3\"\n",
      "_________________________________________________________________\n",
      " Layer (type)                Output Shape              Param #   \n",
      "=================================================================\n",
      " embedding_3 (Embedding)     (None, 28, 32)            250432    \n",
      "                                                                 \n",
      " lstm_3 (LSTM)               (None, 28, 32)            8320      \n",
      "                                                                 \n",
      " dropout_6 (Dropout)         (None, 28, 32)            0         \n",
      "                                                                 \n",
      " lstm_4 (LSTM)               (None, 28, 32)            8320      \n",
      "                                                                 \n",
      " dropout_7 (Dropout)         (None, 28, 32)            0         \n",
      "                                                                 \n",
      " lstm_5 (LSTM)               (None, 32)                8320      \n",
      "                                                                 \n",
      " dense_3 (Dense)             (None, 4)                 132       \n",
      "                                                                 \n",
      "=================================================================\n",
      "Total params: 275,524\n",
      "Trainable params: 275,524\n",
      "Non-trainable params: 0\n",
      "_________________________________________________________________\n"
     ]
    }
   ],
   "source": [
    "lstm.summary()"
   ]
  },
  {
   "cell_type": "code",
   "execution_count": 114,
   "metadata": {},
   "outputs": [
    {
     "name": "stdout",
     "output_type": "stream",
     "text": [
      "78/78 [==============================] - 3s 11ms/step\n"
     ]
    }
   ],
   "source": [
    "predictions = lstm.predict(X_test)"
   ]
  }
 ],
 "metadata": {
  "kernelspec": {
   "display_name": "base",
   "language": "python",
   "name": "python3"
  },
  "language_info": {
   "codemirror_mode": {
    "name": "ipython",
    "version": 3
   },
   "file_extension": ".py",
   "mimetype": "text/x-python",
   "name": "python",
   "nbconvert_exporter": "python",
   "pygments_lexer": "ipython3",
   "version": "3.9.15"
  },
  "orig_nbformat": 4,
  "vscode": {
   "interpreter": {
    "hash": "a7e5e0eaa77a28125227fb7ae19e78585bc0f4691d77dafd52dbfc5225ddb4e5"
   }
  }
 },
 "nbformat": 4,
 "nbformat_minor": 2
}
