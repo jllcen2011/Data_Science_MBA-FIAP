{
 "cells": [
  {
   "cell_type": "code",
   "execution_count": 5,
   "id": "150870ec",
   "metadata": {},
   "outputs": [],
   "source": [
    "# Aqui será feito extração de features, no caso, em texto. Ou seja, a partir de algo que talvez não tenha atributos\n",
    "# tão claros, estou extraindo características que fazem sentido na hora de calcular o modelo.\n",
    "\n",
    "import pandas as pd\n",
    "df = pd.read_csv('spam.csv', encoding=\"ISO-8859-1\")"
   ]
  },
  {
   "cell_type": "code",
   "execution_count": 6,
   "id": "3e66b59f",
   "metadata": {},
   "outputs": [
    {
     "data": {
      "text/html": [
       "<div>\n",
       "<style scoped>\n",
       "    .dataframe tbody tr th:only-of-type {\n",
       "        vertical-align: middle;\n",
       "    }\n",
       "\n",
       "    .dataframe tbody tr th {\n",
       "        vertical-align: top;\n",
       "    }\n",
       "\n",
       "    .dataframe thead th {\n",
       "        text-align: right;\n",
       "    }\n",
       "</style>\n",
       "<table border=\"1\" class=\"dataframe\">\n",
       "  <thead>\n",
       "    <tr style=\"text-align: right;\">\n",
       "      <th></th>\n",
       "      <th>v1</th>\n",
       "      <th>v2</th>\n",
       "      <th>Unnamed: 2</th>\n",
       "      <th>Unnamed: 3</th>\n",
       "      <th>Unnamed: 4</th>\n",
       "    </tr>\n",
       "  </thead>\n",
       "  <tbody>\n",
       "    <tr>\n",
       "      <th>0</th>\n",
       "      <td>ham</td>\n",
       "      <td>Go until jurong point, crazy.. Available only ...</td>\n",
       "      <td>NaN</td>\n",
       "      <td>NaN</td>\n",
       "      <td>NaN</td>\n",
       "    </tr>\n",
       "    <tr>\n",
       "      <th>1</th>\n",
       "      <td>ham</td>\n",
       "      <td>Ok lar... Joking wif u oni...</td>\n",
       "      <td>NaN</td>\n",
       "      <td>NaN</td>\n",
       "      <td>NaN</td>\n",
       "    </tr>\n",
       "    <tr>\n",
       "      <th>2</th>\n",
       "      <td>spam</td>\n",
       "      <td>Free entry in 2 a wkly comp to win FA Cup fina...</td>\n",
       "      <td>NaN</td>\n",
       "      <td>NaN</td>\n",
       "      <td>NaN</td>\n",
       "    </tr>\n",
       "    <tr>\n",
       "      <th>3</th>\n",
       "      <td>ham</td>\n",
       "      <td>U dun say so early hor... U c already then say...</td>\n",
       "      <td>NaN</td>\n",
       "      <td>NaN</td>\n",
       "      <td>NaN</td>\n",
       "    </tr>\n",
       "    <tr>\n",
       "      <th>4</th>\n",
       "      <td>ham</td>\n",
       "      <td>Nah I don't think he goes to usf, he lives aro...</td>\n",
       "      <td>NaN</td>\n",
       "      <td>NaN</td>\n",
       "      <td>NaN</td>\n",
       "    </tr>\n",
       "  </tbody>\n",
       "</table>\n",
       "</div>"
      ],
      "text/plain": [
       "     v1                                                 v2 Unnamed: 2  \\\n",
       "0   ham  Go until jurong point, crazy.. Available only ...        NaN   \n",
       "1   ham                      Ok lar... Joking wif u oni...        NaN   \n",
       "2  spam  Free entry in 2 a wkly comp to win FA Cup fina...        NaN   \n",
       "3   ham  U dun say so early hor... U c already then say...        NaN   \n",
       "4   ham  Nah I don't think he goes to usf, he lives aro...        NaN   \n",
       "\n",
       "  Unnamed: 3 Unnamed: 4  \n",
       "0        NaN        NaN  \n",
       "1        NaN        NaN  \n",
       "2        NaN        NaN  \n",
       "3        NaN        NaN  \n",
       "4        NaN        NaN  "
      ]
     },
     "execution_count": 6,
     "metadata": {},
     "output_type": "execute_result"
    }
   ],
   "source": [
    "df.head()"
   ]
  },
  {
   "cell_type": "code",
   "execution_count": null,
   "id": "79a70b37",
   "metadata": {},
   "outputs": [],
   "source": [
    "df = df.rename(columns={\"v1\" : \"label\", \"v2\":\"message\"})\n",
    "df = df.drop(columns = [\"Unnamed: 2\", \"Unnamed: 3\", \"Unnamed: 4\"])"
   ]
  },
  {
   "cell_type": "code",
   "execution_count": null,
   "id": "9f847ecd",
   "metadata": {},
   "outputs": [],
   "source": [
    "df.head()"
   ]
  },
  {
   "cell_type": "code",
   "execution_count": null,
   "id": "583049af",
   "metadata": {},
   "outputs": [],
   "source": [
    "#Verificando a qtd de nulos\n",
    "df.isnull().sum()"
   ]
  },
  {
   "cell_type": "code",
   "execution_count": null,
   "id": "d9d75bd9",
   "metadata": {},
   "outputs": [],
   "source": [
    "# saber quantas msg sáo classificadas como spam ou náo\n",
    "df[\"label\"].value_counts()"
   ]
  },
  {
   "cell_type": "code",
   "execution_count": null,
   "id": "bf6166e9",
   "metadata": {},
   "outputs": [],
   "source": [
    "#separando a variável dependente(y) da independente(x)\n",
    "from sklearn.model_selection import train_test_split\n",
    "\n",
    "X = df[\"message\"]\n",
    "y = df[\"label\"]"
   ]
  },
  {
   "cell_type": "code",
   "execution_count": null,
   "id": "49327a04",
   "metadata": {},
   "outputs": [],
   "source": [
    "#settando o test para 20% das observações\n",
    "X_train, X_test, y_train, y_test = train_test_split(X, y, test_size=0.2, random_state=52)"
   ]
  },
  {
   "cell_type": "code",
   "execution_count": null,
   "id": "d7d74576",
   "metadata": {},
   "outputs": [],
   "source": [
    "#entrando agora na extração de feature\n",
    "#Já que texto não é número, para a extração da feature, usaremos a bag of words, em que vou transformar caracteres\n",
    "# e palavras em matrizes. Daí, o uso da CountVectorizer() servirá para vetorizar essas palavras, transformando tudo\n",
    "# numa matriz. (aqui poderia ser usado o one hot encoding para transformar em 0 e 1 também. Usar tambem a lib nltk, a\n",
    "# remoção de stopwords). Aqui será utilizada uma maneira muito simples.\n",
    "from sklearn.feature_extraction.text import CountVectorizer\n",
    "\n",
    "#instancia a classe\n",
    "count_vector = CountVectorizer()\n",
    "\n",
    "# Aqui eu fito a transformada em cima dos meus dados de treino\n",
    "X_train_counts = count_vector.fit_transform(X_train)\n",
    "X_train_counts.shape"
   ]
  },
  {
   "cell_type": "code",
   "execution_count": null,
   "id": "b8e5ad5e",
   "metadata": {},
   "outputs": [],
   "source": [
    "print(X_train_counts)"
   ]
  },
  {
   "cell_type": "code",
   "execution_count": null,
   "id": "3acb704f",
   "metadata": {},
   "outputs": [],
   "source": [
    "# Daí, será utilizada duas métricas em conjunto, que é a TF-IDF. Com isso darei um score de importância para\n",
    "# aquela palavra naquele texto, para podermos classificar.\n",
    "# TF - frequência de aparição de um termo\n",
    "# IDF - Inverso da frequência que um termo aparece em diferentes \"corpus\"\n",
    "# TF-IDF : term freq * inverse document freq --> classifica a importância\n",
    "\n",
    "from sklearn.feature_extraction.text import TfidfTransformer\n",
    "\n",
    "# instancia a classe \n",
    "tfidf_transform = TfidfTransformer()\n",
    "\n",
    "# Ou seja, esse tf-idf vai ser feito em cima dos dados X_train_counts, em que foi feita a bag of words\n",
    "\n",
    "X_train_tfidf = tfidf_transform.fit_transform(X_train_counts)\n"
   ]
  },
  {
   "cell_type": "code",
   "execution_count": null,
   "id": "8aebcbfe",
   "metadata": {},
   "outputs": [],
   "source": [
    "#Com isso, temos a nossa métrica de importância\n",
    "print(X_train_tfidf)"
   ]
  },
  {
   "cell_type": "code",
   "execution_count": null,
   "id": "aa24421c",
   "metadata": {},
   "outputs": [],
   "source": [
    "# Agora, iniciando o nosso modelo chamado Support Vector Machine. Mas obviamente poderiam ser usados outros modelos, como\n",
    "# o Random Forest, Logistic Regression, etc.\n",
    "from sklearn.svm import LinearSVC\n",
    "\n",
    "#instancia a classe\n",
    "c = LinearSVC()\n",
    "\n",
    "c.fit(X_train_tfidf, y_train)"
   ]
  },
  {
   "cell_type": "code",
   "execution_count": null,
   "id": "7964680d",
   "metadata": {},
   "outputs": [],
   "source": [
    "# Mas antes de prosseguir, podemos fazer de outro jeito. Ao inves de usar o CountVectorizer e depois o TfidfTransformer,\n",
    "# ou seja, pegar primeiro e fazer a bag of words, depois pegar aquele termo com a frequencia e depois multiplicar\n",
    "# pelo seu inverso para achar um score, eu posso já usar uma classe que faz isso tudo de uma vez, que é o\n",
    "# TfidfVectorizer. É importante saber que o passo a passo ocorre com a feature extraction através da bagofwords e depois\n",
    "# a classificação de importancia.\n",
    "from sklearn.svm import LinearSVC\n",
    "from sklearn.pipeline import Pipeline\n",
    "from sklearn.feature_extraction.text import TfidfVectorizer\n",
    "\n",
    "#cria o pipeline com o vetorizador e o modelo\n",
    "text_c = Pipeline([(\"tfidf\", TfidfVectorizer()), (\"c\", LinearSVC())])\n",
    "\n",
    "# diferente do input anterior, com o TfidfVectorizer, eu vou fitar apenas o X_train e não mais aquele\n",
    "# trabalhado (X_train_tfidf)\n",
    "# Então, esse é o momento em que eu crio o modelo, somente com as variáveis de treino\n",
    "text_c.fit(X_train, y_train)\n",
    "\n",
    "# Aqui, eu aplica o modelo criado nas variáveis X_test, em que ele vai me dizer a previsão de Y para esses X de teste.\n",
    "predictions = text_c.predict(X_test)\n",
    "\n",
    "predictions"
   ]
  },
  {
   "cell_type": "code",
   "execution_count": null,
   "id": "577beaa7",
   "metadata": {},
   "outputs": [],
   "source": [
    "# agora irei aplicar 3 métricas para medir a eficiência desse modelo\n",
    "from sklearn.metrics import confusion_matrix, classification_report, accuracy_score\n",
    "\n",
    "#exibir a matriz de confusão (aqui, eu vou pegar a predictions, que foi o resultado da aplicação do modelo nos X de teste,\n",
    "# e vou comparar com o y de test, pra ver se o que eu previ está de acordo com o que deveria ter sido)\n",
    "confusion_matrix(y_test, predictions)"
   ]
  },
  {
   "cell_type": "code",
   "execution_count": null,
   "id": "75588eca",
   "metadata": {},
   "outputs": [],
   "source": [
    "print(classification_report(y_test, predictions))"
   ]
  },
  {
   "cell_type": "code",
   "execution_count": null,
   "id": "6f3248c8",
   "metadata": {},
   "outputs": [],
   "source": [
    "print(accuracy_score(y_test, predictions))"
   ]
  },
  {
   "cell_type": "code",
   "execution_count": null,
   "id": "cf0affcb",
   "metadata": {},
   "outputs": [],
   "source": []
  },
  {
   "cell_type": "code",
   "execution_count": null,
   "id": "0f23507e",
   "metadata": {},
   "outputs": [],
   "source": []
  },
  {
   "cell_type": "code",
   "execution_count": null,
   "id": "d80ba1ce",
   "metadata": {},
   "outputs": [],
   "source": []
  },
  {
   "cell_type": "code",
   "execution_count": null,
   "id": "12090785",
   "metadata": {},
   "outputs": [],
   "source": []
  }
 ],
 "metadata": {
  "kernelspec": {
   "display_name": "Python 3 (ipykernel)",
   "language": "python",
   "name": "python3"
  },
  "language_info": {
   "codemirror_mode": {
    "name": "ipython",
    "version": 3
   },
   "file_extension": ".py",
   "mimetype": "text/x-python",
   "name": "python",
   "nbconvert_exporter": "python",
   "pygments_lexer": "ipython3",
   "version": "3.9.15"
  }
 },
 "nbformat": 4,
 "nbformat_minor": 5
}
