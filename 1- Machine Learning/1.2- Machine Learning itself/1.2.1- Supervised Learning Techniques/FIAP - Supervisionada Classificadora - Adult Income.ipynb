{
 "cells": [
  {
   "cell_type": "code",
   "execution_count": 6,
   "id": "fa8b03c8",
   "metadata": {},
   "outputs": [],
   "source": [
    "import pandas as pd\n",
    "import numpy as np\n",
    "import matplotlib.pyplot as plt\n",
    "import seaborn as sb\n",
    "from pandas.plotting import scatter_matrix"
   ]
  },
  {
   "cell_type": "code",
   "execution_count": 7,
   "id": "50d67665",
   "metadata": {},
   "outputs": [],
   "source": [
    "df = pd.read_csv(\"C:/Users/jllce/Downloads/adult.csv\")"
   ]
  },
  {
   "cell_type": "code",
   "execution_count": 8,
   "id": "34e0b102",
   "metadata": {},
   "outputs": [
    {
     "data": {
      "text/html": [
       "<div>\n",
       "<style scoped>\n",
       "    .dataframe tbody tr th:only-of-type {\n",
       "        vertical-align: middle;\n",
       "    }\n",
       "\n",
       "    .dataframe tbody tr th {\n",
       "        vertical-align: top;\n",
       "    }\n",
       "\n",
       "    .dataframe thead th {\n",
       "        text-align: right;\n",
       "    }\n",
       "</style>\n",
       "<table border=\"1\" class=\"dataframe\">\n",
       "  <thead>\n",
       "    <tr style=\"text-align: right;\">\n",
       "      <th></th>\n",
       "      <th>age</th>\n",
       "      <th>workclass</th>\n",
       "      <th>fnlwgt</th>\n",
       "      <th>education</th>\n",
       "      <th>educational-num</th>\n",
       "      <th>marital-status</th>\n",
       "      <th>occupation</th>\n",
       "      <th>relationship</th>\n",
       "      <th>race</th>\n",
       "      <th>gender</th>\n",
       "      <th>capital-gain</th>\n",
       "      <th>capital-loss</th>\n",
       "      <th>hours-per-week</th>\n",
       "      <th>native-country</th>\n",
       "      <th>income</th>\n",
       "    </tr>\n",
       "  </thead>\n",
       "  <tbody>\n",
       "    <tr>\n",
       "      <th>0</th>\n",
       "      <td>25</td>\n",
       "      <td>Private</td>\n",
       "      <td>226802</td>\n",
       "      <td>11th</td>\n",
       "      <td>7</td>\n",
       "      <td>Never-married</td>\n",
       "      <td>Machine-op-inspct</td>\n",
       "      <td>Own-child</td>\n",
       "      <td>Black</td>\n",
       "      <td>Male</td>\n",
       "      <td>0</td>\n",
       "      <td>0</td>\n",
       "      <td>40</td>\n",
       "      <td>United-States</td>\n",
       "      <td>&lt;=50K</td>\n",
       "    </tr>\n",
       "    <tr>\n",
       "      <th>1</th>\n",
       "      <td>38</td>\n",
       "      <td>Private</td>\n",
       "      <td>89814</td>\n",
       "      <td>HS-grad</td>\n",
       "      <td>9</td>\n",
       "      <td>Married-civ-spouse</td>\n",
       "      <td>Farming-fishing</td>\n",
       "      <td>Husband</td>\n",
       "      <td>White</td>\n",
       "      <td>Male</td>\n",
       "      <td>0</td>\n",
       "      <td>0</td>\n",
       "      <td>50</td>\n",
       "      <td>United-States</td>\n",
       "      <td>&lt;=50K</td>\n",
       "    </tr>\n",
       "    <tr>\n",
       "      <th>2</th>\n",
       "      <td>28</td>\n",
       "      <td>Local-gov</td>\n",
       "      <td>336951</td>\n",
       "      <td>Assoc-acdm</td>\n",
       "      <td>12</td>\n",
       "      <td>Married-civ-spouse</td>\n",
       "      <td>Protective-serv</td>\n",
       "      <td>Husband</td>\n",
       "      <td>White</td>\n",
       "      <td>Male</td>\n",
       "      <td>0</td>\n",
       "      <td>0</td>\n",
       "      <td>40</td>\n",
       "      <td>United-States</td>\n",
       "      <td>&gt;50K</td>\n",
       "    </tr>\n",
       "    <tr>\n",
       "      <th>3</th>\n",
       "      <td>44</td>\n",
       "      <td>Private</td>\n",
       "      <td>160323</td>\n",
       "      <td>Some-college</td>\n",
       "      <td>10</td>\n",
       "      <td>Married-civ-spouse</td>\n",
       "      <td>Machine-op-inspct</td>\n",
       "      <td>Husband</td>\n",
       "      <td>Black</td>\n",
       "      <td>Male</td>\n",
       "      <td>7688</td>\n",
       "      <td>0</td>\n",
       "      <td>40</td>\n",
       "      <td>United-States</td>\n",
       "      <td>&gt;50K</td>\n",
       "    </tr>\n",
       "    <tr>\n",
       "      <th>4</th>\n",
       "      <td>18</td>\n",
       "      <td>?</td>\n",
       "      <td>103497</td>\n",
       "      <td>Some-college</td>\n",
       "      <td>10</td>\n",
       "      <td>Never-married</td>\n",
       "      <td>?</td>\n",
       "      <td>Own-child</td>\n",
       "      <td>White</td>\n",
       "      <td>Female</td>\n",
       "      <td>0</td>\n",
       "      <td>0</td>\n",
       "      <td>30</td>\n",
       "      <td>United-States</td>\n",
       "      <td>&lt;=50K</td>\n",
       "    </tr>\n",
       "  </tbody>\n",
       "</table>\n",
       "</div>"
      ],
      "text/plain": [
       "   age  workclass  fnlwgt     education  educational-num      marital-status  \\\n",
       "0   25    Private  226802          11th                7       Never-married   \n",
       "1   38    Private   89814       HS-grad                9  Married-civ-spouse   \n",
       "2   28  Local-gov  336951    Assoc-acdm               12  Married-civ-spouse   \n",
       "3   44    Private  160323  Some-college               10  Married-civ-spouse   \n",
       "4   18          ?  103497  Some-college               10       Never-married   \n",
       "\n",
       "          occupation relationship   race  gender  capital-gain  capital-loss  \\\n",
       "0  Machine-op-inspct    Own-child  Black    Male             0             0   \n",
       "1    Farming-fishing      Husband  White    Male             0             0   \n",
       "2    Protective-serv      Husband  White    Male             0             0   \n",
       "3  Machine-op-inspct      Husband  Black    Male          7688             0   \n",
       "4                  ?    Own-child  White  Female             0             0   \n",
       "\n",
       "   hours-per-week native-country income  \n",
       "0              40  United-States  <=50K  \n",
       "1              50  United-States  <=50K  \n",
       "2              40  United-States   >50K  \n",
       "3              40  United-States   >50K  \n",
       "4              30  United-States  <=50K  "
      ]
     },
     "execution_count": 8,
     "metadata": {},
     "output_type": "execute_result"
    }
   ],
   "source": [
    "df.head()"
   ]
  },
  {
   "cell_type": "code",
   "execution_count": 9,
   "id": "e4156c41",
   "metadata": {},
   "outputs": [
    {
     "name": "stdout",
     "output_type": "stream",
     "text": [
      "<class 'pandas.core.frame.DataFrame'>\n",
      "RangeIndex: 48842 entries, 0 to 48841\n",
      "Data columns (total 15 columns):\n",
      " #   Column           Non-Null Count  Dtype \n",
      "---  ------           --------------  ----- \n",
      " 0   age              48842 non-null  int64 \n",
      " 1   workclass        48842 non-null  object\n",
      " 2   fnlwgt           48842 non-null  int64 \n",
      " 3   education        48842 non-null  object\n",
      " 4   educational-num  48842 non-null  int64 \n",
      " 5   marital-status   48842 non-null  object\n",
      " 6   occupation       48842 non-null  object\n",
      " 7   relationship     48842 non-null  object\n",
      " 8   race             48842 non-null  object\n",
      " 9   gender           48842 non-null  object\n",
      " 10  capital-gain     48842 non-null  int64 \n",
      " 11  capital-loss     48842 non-null  int64 \n",
      " 12  hours-per-week   48842 non-null  int64 \n",
      " 13  native-country   48842 non-null  object\n",
      " 14  income           48842 non-null  object\n",
      "dtypes: int64(6), object(9)\n",
      "memory usage: 5.6+ MB\n"
     ]
    }
   ],
   "source": [
    "df.info()"
   ]
  },
  {
   "cell_type": "code",
   "execution_count": 10,
   "id": "bb4d6c19",
   "metadata": {},
   "outputs": [
    {
     "ename": "NameError",
     "evalue": "name 'describe' is not defined",
     "output_type": "error",
     "traceback": [
      "\u001b[1;31m---------------------------------------------------------------------------\u001b[0m",
      "\u001b[1;31mNameError\u001b[0m                                 Traceback (most recent call last)",
      "\u001b[1;32mC:\\Users\\Public\\Documents\\Wondershare\\CreatorTemp/ipykernel_4076/2905774279.py\u001b[0m in \u001b[0;36m<module>\u001b[1;34m\u001b[0m\n\u001b[1;32m----> 1\u001b[1;33m \u001b[0mdescribe\u001b[0m\u001b[1;33m(\u001b[0m\u001b[0mdf\u001b[0m\u001b[1;33m)\u001b[0m\u001b[1;33m\u001b[0m\u001b[1;33m\u001b[0m\u001b[0m\n\u001b[0m",
      "\u001b[1;31mNameError\u001b[0m: name 'describe' is not defined"
     ]
    }
   ],
   "source": [
    "describe(df)"
   ]
  },
  {
   "cell_type": "code",
   "execution_count": 11,
   "id": "7662acc1",
   "metadata": {},
   "outputs": [
    {
     "data": {
      "text/plain": [
       "age                0\n",
       "workclass          0\n",
       "fnlwgt             0\n",
       "education          0\n",
       "educational-num    0\n",
       "marital-status     0\n",
       "occupation         0\n",
       "relationship       0\n",
       "race               0\n",
       "gender             0\n",
       "capital-gain       0\n",
       "capital-loss       0\n",
       "hours-per-week     0\n",
       "native-country     0\n",
       "income             0\n",
       "dtype: int64"
      ]
     },
     "execution_count": 11,
     "metadata": {},
     "output_type": "execute_result"
    }
   ],
   "source": [
    "#procurando os valores nulos\n",
    "df.isnull().sum()"
   ]
  },
  {
   "cell_type": "code",
   "execution_count": 12,
   "id": "45c1f3cf",
   "metadata": {},
   "outputs": [
    {
     "data": {
      "text/html": [
       "<div>\n",
       "<style scoped>\n",
       "    .dataframe tbody tr th:only-of-type {\n",
       "        vertical-align: middle;\n",
       "    }\n",
       "\n",
       "    .dataframe tbody tr th {\n",
       "        vertical-align: top;\n",
       "    }\n",
       "\n",
       "    .dataframe thead th {\n",
       "        text-align: right;\n",
       "    }\n",
       "</style>\n",
       "<table border=\"1\" class=\"dataframe\">\n",
       "  <thead>\n",
       "    <tr style=\"text-align: right;\">\n",
       "      <th></th>\n",
       "      <th>0</th>\n",
       "      <th>1</th>\n",
       "      <th>2</th>\n",
       "      <th>3</th>\n",
       "      <th>4</th>\n",
       "      <th>5</th>\n",
       "      <th>6</th>\n",
       "      <th>7</th>\n",
       "      <th>8</th>\n",
       "      <th>9</th>\n",
       "    </tr>\n",
       "  </thead>\n",
       "  <tbody>\n",
       "    <tr>\n",
       "      <th>age</th>\n",
       "      <td>25</td>\n",
       "      <td>38</td>\n",
       "      <td>28</td>\n",
       "      <td>44</td>\n",
       "      <td>18</td>\n",
       "      <td>34</td>\n",
       "      <td>29</td>\n",
       "      <td>63</td>\n",
       "      <td>24</td>\n",
       "      <td>55</td>\n",
       "    </tr>\n",
       "    <tr>\n",
       "      <th>workclass</th>\n",
       "      <td>Private</td>\n",
       "      <td>Private</td>\n",
       "      <td>Local-gov</td>\n",
       "      <td>Private</td>\n",
       "      <td>?</td>\n",
       "      <td>Private</td>\n",
       "      <td>?</td>\n",
       "      <td>Self-emp-not-inc</td>\n",
       "      <td>Private</td>\n",
       "      <td>Private</td>\n",
       "    </tr>\n",
       "    <tr>\n",
       "      <th>fnlwgt</th>\n",
       "      <td>226802</td>\n",
       "      <td>89814</td>\n",
       "      <td>336951</td>\n",
       "      <td>160323</td>\n",
       "      <td>103497</td>\n",
       "      <td>198693</td>\n",
       "      <td>227026</td>\n",
       "      <td>104626</td>\n",
       "      <td>369667</td>\n",
       "      <td>104996</td>\n",
       "    </tr>\n",
       "    <tr>\n",
       "      <th>education</th>\n",
       "      <td>11th</td>\n",
       "      <td>HS-grad</td>\n",
       "      <td>Assoc-acdm</td>\n",
       "      <td>Some-college</td>\n",
       "      <td>Some-college</td>\n",
       "      <td>10th</td>\n",
       "      <td>HS-grad</td>\n",
       "      <td>Prof-school</td>\n",
       "      <td>Some-college</td>\n",
       "      <td>7th-8th</td>\n",
       "    </tr>\n",
       "    <tr>\n",
       "      <th>educational-num</th>\n",
       "      <td>7</td>\n",
       "      <td>9</td>\n",
       "      <td>12</td>\n",
       "      <td>10</td>\n",
       "      <td>10</td>\n",
       "      <td>6</td>\n",
       "      <td>9</td>\n",
       "      <td>15</td>\n",
       "      <td>10</td>\n",
       "      <td>4</td>\n",
       "    </tr>\n",
       "    <tr>\n",
       "      <th>marital-status</th>\n",
       "      <td>Never-married</td>\n",
       "      <td>Married-civ-spouse</td>\n",
       "      <td>Married-civ-spouse</td>\n",
       "      <td>Married-civ-spouse</td>\n",
       "      <td>Never-married</td>\n",
       "      <td>Never-married</td>\n",
       "      <td>Never-married</td>\n",
       "      <td>Married-civ-spouse</td>\n",
       "      <td>Never-married</td>\n",
       "      <td>Married-civ-spouse</td>\n",
       "    </tr>\n",
       "    <tr>\n",
       "      <th>occupation</th>\n",
       "      <td>Machine-op-inspct</td>\n",
       "      <td>Farming-fishing</td>\n",
       "      <td>Protective-serv</td>\n",
       "      <td>Machine-op-inspct</td>\n",
       "      <td>?</td>\n",
       "      <td>Other-service</td>\n",
       "      <td>?</td>\n",
       "      <td>Prof-specialty</td>\n",
       "      <td>Other-service</td>\n",
       "      <td>Craft-repair</td>\n",
       "    </tr>\n",
       "    <tr>\n",
       "      <th>relationship</th>\n",
       "      <td>Own-child</td>\n",
       "      <td>Husband</td>\n",
       "      <td>Husband</td>\n",
       "      <td>Husband</td>\n",
       "      <td>Own-child</td>\n",
       "      <td>Not-in-family</td>\n",
       "      <td>Unmarried</td>\n",
       "      <td>Husband</td>\n",
       "      <td>Unmarried</td>\n",
       "      <td>Husband</td>\n",
       "    </tr>\n",
       "    <tr>\n",
       "      <th>race</th>\n",
       "      <td>Black</td>\n",
       "      <td>White</td>\n",
       "      <td>White</td>\n",
       "      <td>Black</td>\n",
       "      <td>White</td>\n",
       "      <td>White</td>\n",
       "      <td>Black</td>\n",
       "      <td>White</td>\n",
       "      <td>White</td>\n",
       "      <td>White</td>\n",
       "    </tr>\n",
       "    <tr>\n",
       "      <th>gender</th>\n",
       "      <td>Male</td>\n",
       "      <td>Male</td>\n",
       "      <td>Male</td>\n",
       "      <td>Male</td>\n",
       "      <td>Female</td>\n",
       "      <td>Male</td>\n",
       "      <td>Male</td>\n",
       "      <td>Male</td>\n",
       "      <td>Female</td>\n",
       "      <td>Male</td>\n",
       "    </tr>\n",
       "    <tr>\n",
       "      <th>capital-gain</th>\n",
       "      <td>0</td>\n",
       "      <td>0</td>\n",
       "      <td>0</td>\n",
       "      <td>7688</td>\n",
       "      <td>0</td>\n",
       "      <td>0</td>\n",
       "      <td>0</td>\n",
       "      <td>3103</td>\n",
       "      <td>0</td>\n",
       "      <td>0</td>\n",
       "    </tr>\n",
       "    <tr>\n",
       "      <th>capital-loss</th>\n",
       "      <td>0</td>\n",
       "      <td>0</td>\n",
       "      <td>0</td>\n",
       "      <td>0</td>\n",
       "      <td>0</td>\n",
       "      <td>0</td>\n",
       "      <td>0</td>\n",
       "      <td>0</td>\n",
       "      <td>0</td>\n",
       "      <td>0</td>\n",
       "    </tr>\n",
       "    <tr>\n",
       "      <th>hours-per-week</th>\n",
       "      <td>40</td>\n",
       "      <td>50</td>\n",
       "      <td>40</td>\n",
       "      <td>40</td>\n",
       "      <td>30</td>\n",
       "      <td>30</td>\n",
       "      <td>40</td>\n",
       "      <td>32</td>\n",
       "      <td>40</td>\n",
       "      <td>10</td>\n",
       "    </tr>\n",
       "    <tr>\n",
       "      <th>native-country</th>\n",
       "      <td>United-States</td>\n",
       "      <td>United-States</td>\n",
       "      <td>United-States</td>\n",
       "      <td>United-States</td>\n",
       "      <td>United-States</td>\n",
       "      <td>United-States</td>\n",
       "      <td>United-States</td>\n",
       "      <td>United-States</td>\n",
       "      <td>United-States</td>\n",
       "      <td>United-States</td>\n",
       "    </tr>\n",
       "    <tr>\n",
       "      <th>income</th>\n",
       "      <td>&lt;=50K</td>\n",
       "      <td>&lt;=50K</td>\n",
       "      <td>&gt;50K</td>\n",
       "      <td>&gt;50K</td>\n",
       "      <td>&lt;=50K</td>\n",
       "      <td>&lt;=50K</td>\n",
       "      <td>&lt;=50K</td>\n",
       "      <td>&gt;50K</td>\n",
       "      <td>&lt;=50K</td>\n",
       "      <td>&lt;=50K</td>\n",
       "    </tr>\n",
       "  </tbody>\n",
       "</table>\n",
       "</div>"
      ],
      "text/plain": [
       "                                 0                   1                   2  \\\n",
       "age                             25                  38                  28   \n",
       "workclass                  Private             Private           Local-gov   \n",
       "fnlwgt                      226802               89814              336951   \n",
       "education                     11th             HS-grad          Assoc-acdm   \n",
       "educational-num                  7                   9                  12   \n",
       "marital-status       Never-married  Married-civ-spouse  Married-civ-spouse   \n",
       "occupation       Machine-op-inspct     Farming-fishing     Protective-serv   \n",
       "relationship             Own-child             Husband             Husband   \n",
       "race                         Black               White               White   \n",
       "gender                        Male                Male                Male   \n",
       "capital-gain                     0                   0                   0   \n",
       "capital-loss                     0                   0                   0   \n",
       "hours-per-week                  40                  50                  40   \n",
       "native-country       United-States       United-States       United-States   \n",
       "income                       <=50K               <=50K                >50K   \n",
       "\n",
       "                                  3              4              5  \\\n",
       "age                              44             18             34   \n",
       "workclass                   Private              ?        Private   \n",
       "fnlwgt                       160323         103497         198693   \n",
       "education              Some-college   Some-college           10th   \n",
       "educational-num                  10             10              6   \n",
       "marital-status   Married-civ-spouse  Never-married  Never-married   \n",
       "occupation        Machine-op-inspct              ?  Other-service   \n",
       "relationship                Husband      Own-child  Not-in-family   \n",
       "race                          Black          White          White   \n",
       "gender                         Male         Female           Male   \n",
       "capital-gain                   7688              0              0   \n",
       "capital-loss                      0              0              0   \n",
       "hours-per-week                   40             30             30   \n",
       "native-country        United-States  United-States  United-States   \n",
       "income                         >50K          <=50K          <=50K   \n",
       "\n",
       "                             6                   7              8  \\\n",
       "age                         29                  63             24   \n",
       "workclass                    ?    Self-emp-not-inc        Private   \n",
       "fnlwgt                  227026              104626         369667   \n",
       "education              HS-grad         Prof-school   Some-college   \n",
       "educational-num              9                  15             10   \n",
       "marital-status   Never-married  Married-civ-spouse  Never-married   \n",
       "occupation                   ?      Prof-specialty  Other-service   \n",
       "relationship         Unmarried             Husband      Unmarried   \n",
       "race                     Black               White          White   \n",
       "gender                    Male                Male         Female   \n",
       "capital-gain                 0                3103              0   \n",
       "capital-loss                 0                   0              0   \n",
       "hours-per-week              40                  32             40   \n",
       "native-country   United-States       United-States  United-States   \n",
       "income                   <=50K                >50K          <=50K   \n",
       "\n",
       "                                  9  \n",
       "age                              55  \n",
       "workclass                   Private  \n",
       "fnlwgt                       104996  \n",
       "education                   7th-8th  \n",
       "educational-num                   4  \n",
       "marital-status   Married-civ-spouse  \n",
       "occupation             Craft-repair  \n",
       "relationship                Husband  \n",
       "race                          White  \n",
       "gender                         Male  \n",
       "capital-gain                      0  \n",
       "capital-loss                      0  \n",
       "hours-per-week                   10  \n",
       "native-country        United-States  \n",
       "income                        <=50K  "
      ]
     },
     "execution_count": 12,
     "metadata": {},
     "output_type": "execute_result"
    }
   ],
   "source": [
    "#apesar de nao ter nulos, quando eu olho com mais atenção, eu vejo vários \"?\"\n",
    "df.head(10).T #(matriz transposta - trocando linhas por colunas)"
   ]
  },
  {
   "cell_type": "code",
   "execution_count": 13,
   "id": "982b09d9",
   "metadata": {},
   "outputs": [],
   "source": [
    "#!pip install Sweetviz"
   ]
  },
  {
   "cell_type": "code",
   "execution_count": 14,
   "id": "0029daa8",
   "metadata": {},
   "outputs": [],
   "source": [
    "import sweetviz as sv"
   ]
  },
  {
   "cell_type": "code",
   "execution_count": 15,
   "id": "bc7995c0",
   "metadata": {},
   "outputs": [
    {
     "data": {
      "application/vnd.jupyter.widget-view+json": {
       "model_id": "8e2de10812dd4797ac3a53f1fed57fc9",
       "version_major": 2,
       "version_minor": 0
      },
      "text/plain": [
       "                                             |                                             | [  0%]   00:00 ->…"
      ]
     },
     "metadata": {},
     "output_type": "display_data"
    },
    {
     "name": "stdout",
     "output_type": "stream",
     "text": [
      "Report SWEETVIZ_REPORT.html was generated! NOTEBOOK/COLAB USERS: the web browser MAY not pop up, regardless, the report IS saved in your notebook/colab files.\n"
     ]
    }
   ],
   "source": [
    "my_report = sv.analyze(df)\n",
    "my_report.show_html()"
   ]
  },
  {
   "cell_type": "code",
   "execution_count": 16,
   "id": "630056a0",
   "metadata": {},
   "outputs": [],
   "source": [
    "#Da análise desse big relatório, consigo ver a presença do \"?\" em três variáveis categóricas\n",
    "#Workclass, Occupation e Country\n",
    "#A professora pegou onde tinha o ? e trocou por nan\n",
    "\n",
    "df[\"workclass\"] = df[\"workclass\"].replace(\"?\",np.nan)\n",
    "df[\"occupation\"] = df[\"occupation\"].replace(\"?\",np.nan)\n",
    "df[\"native-country\"] = df[\"native-country\"].replace(\"?\",np.nan)"
   ]
  },
  {
   "cell_type": "code",
   "execution_count": 17,
   "id": "ab87101f",
   "metadata": {},
   "outputs": [
    {
     "data": {
      "text/plain": [
       "age                   0\n",
       "workclass          2799\n",
       "fnlwgt                0\n",
       "education             0\n",
       "educational-num       0\n",
       "marital-status        0\n",
       "occupation         2809\n",
       "relationship          0\n",
       "race                  0\n",
       "gender                0\n",
       "capital-gain          0\n",
       "capital-loss          0\n",
       "hours-per-week        0\n",
       "native-country      857\n",
       "income                0\n",
       "dtype: int64"
      ]
     },
     "execution_count": 17,
     "metadata": {},
     "output_type": "execute_result"
    }
   ],
   "source": [
    "df.isnull().sum()\n",
    "#com isso, tenho algumas opções, como tentar estimar esses valores ou\n",
    "#trabalhar com as variáveis e excluir as observações com valor nulo ou\n",
    "#não trabalhar com essas variáveis\n",
    "\n",
    "#A opção escolhida foi a 3ª"
   ]
  },
  {
   "cell_type": "code",
   "execution_count": 18,
   "id": "a2b94403",
   "metadata": {},
   "outputs": [],
   "source": [
    "df = df.drop(labels=['workclass', 'occupation', \"native-country\"], axis=1)"
   ]
  },
  {
   "cell_type": "code",
   "execution_count": 19,
   "id": "7ca733ca",
   "metadata": {},
   "outputs": [
    {
     "data": {
      "text/html": [
       "<div>\n",
       "<style scoped>\n",
       "    .dataframe tbody tr th:only-of-type {\n",
       "        vertical-align: middle;\n",
       "    }\n",
       "\n",
       "    .dataframe tbody tr th {\n",
       "        vertical-align: top;\n",
       "    }\n",
       "\n",
       "    .dataframe thead th {\n",
       "        text-align: right;\n",
       "    }\n",
       "</style>\n",
       "<table border=\"1\" class=\"dataframe\">\n",
       "  <thead>\n",
       "    <tr style=\"text-align: right;\">\n",
       "      <th></th>\n",
       "      <th>count</th>\n",
       "      <th>mean</th>\n",
       "      <th>std</th>\n",
       "      <th>min</th>\n",
       "      <th>25%</th>\n",
       "      <th>50%</th>\n",
       "      <th>75%</th>\n",
       "      <th>max</th>\n",
       "    </tr>\n",
       "  </thead>\n",
       "  <tbody>\n",
       "    <tr>\n",
       "      <th>age</th>\n",
       "      <td>48842.0</td>\n",
       "      <td>38.643585</td>\n",
       "      <td>13.710510</td>\n",
       "      <td>17.0</td>\n",
       "      <td>28.0</td>\n",
       "      <td>37.0</td>\n",
       "      <td>48.0</td>\n",
       "      <td>90.0</td>\n",
       "    </tr>\n",
       "    <tr>\n",
       "      <th>fnlwgt</th>\n",
       "      <td>48842.0</td>\n",
       "      <td>189664.134597</td>\n",
       "      <td>105604.025423</td>\n",
       "      <td>12285.0</td>\n",
       "      <td>117550.5</td>\n",
       "      <td>178144.5</td>\n",
       "      <td>237642.0</td>\n",
       "      <td>1490400.0</td>\n",
       "    </tr>\n",
       "    <tr>\n",
       "      <th>educational-num</th>\n",
       "      <td>48842.0</td>\n",
       "      <td>10.078089</td>\n",
       "      <td>2.570973</td>\n",
       "      <td>1.0</td>\n",
       "      <td>9.0</td>\n",
       "      <td>10.0</td>\n",
       "      <td>12.0</td>\n",
       "      <td>16.0</td>\n",
       "    </tr>\n",
       "    <tr>\n",
       "      <th>capital-gain</th>\n",
       "      <td>48842.0</td>\n",
       "      <td>1079.067626</td>\n",
       "      <td>7452.019058</td>\n",
       "      <td>0.0</td>\n",
       "      <td>0.0</td>\n",
       "      <td>0.0</td>\n",
       "      <td>0.0</td>\n",
       "      <td>99999.0</td>\n",
       "    </tr>\n",
       "    <tr>\n",
       "      <th>capital-loss</th>\n",
       "      <td>48842.0</td>\n",
       "      <td>87.502314</td>\n",
       "      <td>403.004552</td>\n",
       "      <td>0.0</td>\n",
       "      <td>0.0</td>\n",
       "      <td>0.0</td>\n",
       "      <td>0.0</td>\n",
       "      <td>4356.0</td>\n",
       "    </tr>\n",
       "    <tr>\n",
       "      <th>hours-per-week</th>\n",
       "      <td>48842.0</td>\n",
       "      <td>40.422382</td>\n",
       "      <td>12.391444</td>\n",
       "      <td>1.0</td>\n",
       "      <td>40.0</td>\n",
       "      <td>40.0</td>\n",
       "      <td>45.0</td>\n",
       "      <td>99.0</td>\n",
       "    </tr>\n",
       "  </tbody>\n",
       "</table>\n",
       "</div>"
      ],
      "text/plain": [
       "                   count           mean            std      min       25%  \\\n",
       "age              48842.0      38.643585      13.710510     17.0      28.0   \n",
       "fnlwgt           48842.0  189664.134597  105604.025423  12285.0  117550.5   \n",
       "educational-num  48842.0      10.078089       2.570973      1.0       9.0   \n",
       "capital-gain     48842.0    1079.067626    7452.019058      0.0       0.0   \n",
       "capital-loss     48842.0      87.502314     403.004552      0.0       0.0   \n",
       "hours-per-week   48842.0      40.422382      12.391444      1.0      40.0   \n",
       "\n",
       "                      50%       75%        max  \n",
       "age                  37.0      48.0       90.0  \n",
       "fnlwgt           178144.5  237642.0  1490400.0  \n",
       "educational-num      10.0      12.0       16.0  \n",
       "capital-gain          0.0       0.0    99999.0  \n",
       "capital-loss          0.0       0.0     4356.0  \n",
       "hours-per-week       40.0      45.0       99.0  "
      ]
     },
     "execution_count": 19,
     "metadata": {},
     "output_type": "execute_result"
    }
   ],
   "source": [
    "#agora avaliando melhor as variáveis quantitativas:\n",
    "df.describe().T #o describe vai mostrar apenas as 6 features que são quantitativas"
   ]
  },
  {
   "cell_type": "code",
   "execution_count": 20,
   "id": "a01ff260",
   "metadata": {},
   "outputs": [
    {
     "data": {
      "text/plain": [
       "<=50K    76.071823\n",
       ">50K     23.928177\n",
       "Name: income, dtype: float64"
      ]
     },
     "execution_count": 20,
     "metadata": {},
     "output_type": "execute_result"
    }
   ],
   "source": [
    "#Aparentemente tá tudo certo com as variáveis quantitativas. É claro que temos que olhar os outliers depois\n",
    "#Com relação ao income (target), o relatório do sweetviz mostra que 76% das observações sao para abaixo de 50k e 26%\n",
    "#acima de 50k.\n",
    "#mas poderia usar essa formulinha:\n",
    "(df.income.value_counts()/df.shape[0])*100"
   ]
  },
  {
   "cell_type": "code",
   "execution_count": 21,
   "id": "86c9e1c1",
   "metadata": {},
   "outputs": [
    {
     "data": {
      "text/html": [
       "<div>\n",
       "<style scoped>\n",
       "    .dataframe tbody tr th:only-of-type {\n",
       "        vertical-align: middle;\n",
       "    }\n",
       "\n",
       "    .dataframe tbody tr th {\n",
       "        vertical-align: top;\n",
       "    }\n",
       "\n",
       "    .dataframe thead th {\n",
       "        text-align: right;\n",
       "    }\n",
       "</style>\n",
       "<table border=\"1\" class=\"dataframe\">\n",
       "  <thead>\n",
       "    <tr style=\"text-align: right;\">\n",
       "      <th></th>\n",
       "      <th>age</th>\n",
       "      <th>fnlwgt</th>\n",
       "      <th>education</th>\n",
       "      <th>educational-num</th>\n",
       "      <th>marital-status</th>\n",
       "      <th>relationship</th>\n",
       "      <th>race</th>\n",
       "      <th>gender</th>\n",
       "      <th>capital-gain</th>\n",
       "      <th>capital-loss</th>\n",
       "      <th>hours-per-week</th>\n",
       "      <th>income</th>\n",
       "      <th>Renda</th>\n",
       "    </tr>\n",
       "  </thead>\n",
       "  <tbody>\n",
       "    <tr>\n",
       "      <th>0</th>\n",
       "      <td>25</td>\n",
       "      <td>226802</td>\n",
       "      <td>11th</td>\n",
       "      <td>7</td>\n",
       "      <td>Never-married</td>\n",
       "      <td>Own-child</td>\n",
       "      <td>Black</td>\n",
       "      <td>Male</td>\n",
       "      <td>0</td>\n",
       "      <td>0</td>\n",
       "      <td>40</td>\n",
       "      <td>&lt;=50K</td>\n",
       "      <td>0</td>\n",
       "    </tr>\n",
       "    <tr>\n",
       "      <th>1</th>\n",
       "      <td>38</td>\n",
       "      <td>89814</td>\n",
       "      <td>HS-grad</td>\n",
       "      <td>9</td>\n",
       "      <td>Married-civ-spouse</td>\n",
       "      <td>Husband</td>\n",
       "      <td>White</td>\n",
       "      <td>Male</td>\n",
       "      <td>0</td>\n",
       "      <td>0</td>\n",
       "      <td>50</td>\n",
       "      <td>&lt;=50K</td>\n",
       "      <td>0</td>\n",
       "    </tr>\n",
       "    <tr>\n",
       "      <th>2</th>\n",
       "      <td>28</td>\n",
       "      <td>336951</td>\n",
       "      <td>Assoc-acdm</td>\n",
       "      <td>12</td>\n",
       "      <td>Married-civ-spouse</td>\n",
       "      <td>Husband</td>\n",
       "      <td>White</td>\n",
       "      <td>Male</td>\n",
       "      <td>0</td>\n",
       "      <td>0</td>\n",
       "      <td>40</td>\n",
       "      <td>&gt;50K</td>\n",
       "      <td>1</td>\n",
       "    </tr>\n",
       "    <tr>\n",
       "      <th>3</th>\n",
       "      <td>44</td>\n",
       "      <td>160323</td>\n",
       "      <td>Some-college</td>\n",
       "      <td>10</td>\n",
       "      <td>Married-civ-spouse</td>\n",
       "      <td>Husband</td>\n",
       "      <td>Black</td>\n",
       "      <td>Male</td>\n",
       "      <td>7688</td>\n",
       "      <td>0</td>\n",
       "      <td>40</td>\n",
       "      <td>&gt;50K</td>\n",
       "      <td>1</td>\n",
       "    </tr>\n",
       "    <tr>\n",
       "      <th>4</th>\n",
       "      <td>18</td>\n",
       "      <td>103497</td>\n",
       "      <td>Some-college</td>\n",
       "      <td>10</td>\n",
       "      <td>Never-married</td>\n",
       "      <td>Own-child</td>\n",
       "      <td>White</td>\n",
       "      <td>Female</td>\n",
       "      <td>0</td>\n",
       "      <td>0</td>\n",
       "      <td>30</td>\n",
       "      <td>&lt;=50K</td>\n",
       "      <td>0</td>\n",
       "    </tr>\n",
       "    <tr>\n",
       "      <th>...</th>\n",
       "      <td>...</td>\n",
       "      <td>...</td>\n",
       "      <td>...</td>\n",
       "      <td>...</td>\n",
       "      <td>...</td>\n",
       "      <td>...</td>\n",
       "      <td>...</td>\n",
       "      <td>...</td>\n",
       "      <td>...</td>\n",
       "      <td>...</td>\n",
       "      <td>...</td>\n",
       "      <td>...</td>\n",
       "      <td>...</td>\n",
       "    </tr>\n",
       "    <tr>\n",
       "      <th>48837</th>\n",
       "      <td>27</td>\n",
       "      <td>257302</td>\n",
       "      <td>Assoc-acdm</td>\n",
       "      <td>12</td>\n",
       "      <td>Married-civ-spouse</td>\n",
       "      <td>Wife</td>\n",
       "      <td>White</td>\n",
       "      <td>Female</td>\n",
       "      <td>0</td>\n",
       "      <td>0</td>\n",
       "      <td>38</td>\n",
       "      <td>&lt;=50K</td>\n",
       "      <td>0</td>\n",
       "    </tr>\n",
       "    <tr>\n",
       "      <th>48838</th>\n",
       "      <td>40</td>\n",
       "      <td>154374</td>\n",
       "      <td>HS-grad</td>\n",
       "      <td>9</td>\n",
       "      <td>Married-civ-spouse</td>\n",
       "      <td>Husband</td>\n",
       "      <td>White</td>\n",
       "      <td>Male</td>\n",
       "      <td>0</td>\n",
       "      <td>0</td>\n",
       "      <td>40</td>\n",
       "      <td>&gt;50K</td>\n",
       "      <td>1</td>\n",
       "    </tr>\n",
       "    <tr>\n",
       "      <th>48839</th>\n",
       "      <td>58</td>\n",
       "      <td>151910</td>\n",
       "      <td>HS-grad</td>\n",
       "      <td>9</td>\n",
       "      <td>Widowed</td>\n",
       "      <td>Unmarried</td>\n",
       "      <td>White</td>\n",
       "      <td>Female</td>\n",
       "      <td>0</td>\n",
       "      <td>0</td>\n",
       "      <td>40</td>\n",
       "      <td>&lt;=50K</td>\n",
       "      <td>0</td>\n",
       "    </tr>\n",
       "    <tr>\n",
       "      <th>48840</th>\n",
       "      <td>22</td>\n",
       "      <td>201490</td>\n",
       "      <td>HS-grad</td>\n",
       "      <td>9</td>\n",
       "      <td>Never-married</td>\n",
       "      <td>Own-child</td>\n",
       "      <td>White</td>\n",
       "      <td>Male</td>\n",
       "      <td>0</td>\n",
       "      <td>0</td>\n",
       "      <td>20</td>\n",
       "      <td>&lt;=50K</td>\n",
       "      <td>0</td>\n",
       "    </tr>\n",
       "    <tr>\n",
       "      <th>48841</th>\n",
       "      <td>52</td>\n",
       "      <td>287927</td>\n",
       "      <td>HS-grad</td>\n",
       "      <td>9</td>\n",
       "      <td>Married-civ-spouse</td>\n",
       "      <td>Wife</td>\n",
       "      <td>White</td>\n",
       "      <td>Female</td>\n",
       "      <td>15024</td>\n",
       "      <td>0</td>\n",
       "      <td>40</td>\n",
       "      <td>&gt;50K</td>\n",
       "      <td>1</td>\n",
       "    </tr>\n",
       "  </tbody>\n",
       "</table>\n",
       "<p>48842 rows × 13 columns</p>\n",
       "</div>"
      ],
      "text/plain": [
       "       age  fnlwgt     education  educational-num      marital-status  \\\n",
       "0       25  226802          11th                7       Never-married   \n",
       "1       38   89814       HS-grad                9  Married-civ-spouse   \n",
       "2       28  336951    Assoc-acdm               12  Married-civ-spouse   \n",
       "3       44  160323  Some-college               10  Married-civ-spouse   \n",
       "4       18  103497  Some-college               10       Never-married   \n",
       "...    ...     ...           ...              ...                 ...   \n",
       "48837   27  257302    Assoc-acdm               12  Married-civ-spouse   \n",
       "48838   40  154374       HS-grad                9  Married-civ-spouse   \n",
       "48839   58  151910       HS-grad                9             Widowed   \n",
       "48840   22  201490       HS-grad                9       Never-married   \n",
       "48841   52  287927       HS-grad                9  Married-civ-spouse   \n",
       "\n",
       "      relationship   race  gender  capital-gain  capital-loss  hours-per-week  \\\n",
       "0        Own-child  Black    Male             0             0              40   \n",
       "1          Husband  White    Male             0             0              50   \n",
       "2          Husband  White    Male             0             0              40   \n",
       "3          Husband  Black    Male          7688             0              40   \n",
       "4        Own-child  White  Female             0             0              30   \n",
       "...            ...    ...     ...           ...           ...             ...   \n",
       "48837         Wife  White  Female             0             0              38   \n",
       "48838      Husband  White    Male             0             0              40   \n",
       "48839    Unmarried  White  Female             0             0              40   \n",
       "48840    Own-child  White    Male             0             0              20   \n",
       "48841         Wife  White  Female         15024             0              40   \n",
       "\n",
       "      income  Renda  \n",
       "0      <=50K      0  \n",
       "1      <=50K      0  \n",
       "2       >50K      1  \n",
       "3       >50K      1  \n",
       "4      <=50K      0  \n",
       "...      ...    ...  \n",
       "48837  <=50K      0  \n",
       "48838   >50K      1  \n",
       "48839  <=50K      0  \n",
       "48840  <=50K      0  \n",
       "48841   >50K      1  \n",
       "\n",
       "[48842 rows x 13 columns]"
      ]
     },
     "execution_count": 21,
     "metadata": {},
     "output_type": "execute_result"
    }
   ],
   "source": [
    "#Então, posso continuar meu processo trabalhando com a base desse jeito, tendo apenas 24% >50k e 76% <=50k.\n",
    "#Porém, há como balancearmos essa base. A professora escolheu continuar com a base desbalanceada.\n",
    "#Agora, transformaremos a target em variável numérica.\n",
    "df[\"Renda\"] = df[\"income\"].map({\"<=50K\":0, \">50K\":1}).astype(int)\n",
    "df\n",
    "#mas pelo que vi, a professora vai cagar pra essa \"renda\" e vai continuar usando a \"income\""
   ]
  },
  {
   "cell_type": "code",
   "execution_count": 22,
   "id": "6d448b5a",
   "metadata": {},
   "outputs": [
    {
     "data": {
      "text/plain": [
       "<AxesSubplot:xlabel='age', ylabel='Count'>"
      ]
     },
     "execution_count": 22,
     "metadata": {},
     "output_type": "execute_result"
    },
    {
     "data": {
      "image/png": "[encoded data removed]",
      "text/plain": [
       "<Figure size 600x400 with 1 Axes>"
      ]
     },
     "metadata": {},
     "output_type": "display_data"
    }
   ],
   "source": [
    "#verificando as preditoras agora.\n",
    "#Age\n",
    "sb.histplot(data=df, x=\"age\")"
   ]
  },
  {
   "cell_type": "code",
   "execution_count": 23,
   "id": "986015eb",
   "metadata": {},
   "outputs": [
    {
     "data": {
      "image/png": "[encoded data removed]",
      "text/plain": [
       "<Figure size 600x400 with 1 Axes>"
      ]
     },
     "metadata": {},
     "output_type": "display_data"
    }
   ],
   "source": [
    "#verificando a relação, em um boxplot, entre age e income\n",
    "sb.boxplot(x=\"income\", y=\"age\", data=df)\n",
    "plt.title(\"Distribuição de Age por classe da variável target\")\n",
    "plt.show()\n",
    "\n",
    "#já conseguimos ver que quanto maior a idade, maior a probabilidade de ter uma renda maior que 50K"
   ]
  },
  {
   "cell_type": "code",
   "execution_count": 24,
   "id": "09094a1c",
   "metadata": {},
   "outputs": [
    {
     "data": {
      "text/html": [
       "<div>\n",
       "<style scoped>\n",
       "    .dataframe tbody tr th:only-of-type {\n",
       "        vertical-align: middle;\n",
       "    }\n",
       "\n",
       "    .dataframe tbody tr th {\n",
       "        vertical-align: top;\n",
       "    }\n",
       "\n",
       "    .dataframe thead th {\n",
       "        text-align: right;\n",
       "    }\n",
       "</style>\n",
       "<table border=\"1\" class=\"dataframe\">\n",
       "  <thead>\n",
       "    <tr style=\"text-align: right;\">\n",
       "      <th></th>\n",
       "      <th>0</th>\n",
       "      <th>1</th>\n",
       "      <th>2</th>\n",
       "      <th>3</th>\n",
       "      <th>4</th>\n",
       "    </tr>\n",
       "  </thead>\n",
       "  <tbody>\n",
       "    <tr>\n",
       "      <th>age</th>\n",
       "      <td>25</td>\n",
       "      <td>38</td>\n",
       "      <td>28</td>\n",
       "      <td>44</td>\n",
       "      <td>18</td>\n",
       "    </tr>\n",
       "    <tr>\n",
       "      <th>fnlwgt</th>\n",
       "      <td>226802</td>\n",
       "      <td>89814</td>\n",
       "      <td>336951</td>\n",
       "      <td>160323</td>\n",
       "      <td>103497</td>\n",
       "    </tr>\n",
       "    <tr>\n",
       "      <th>education</th>\n",
       "      <td>11th</td>\n",
       "      <td>HS-grad</td>\n",
       "      <td>Assoc-acdm</td>\n",
       "      <td>Some-college</td>\n",
       "      <td>Some-college</td>\n",
       "    </tr>\n",
       "    <tr>\n",
       "      <th>educational-num</th>\n",
       "      <td>7</td>\n",
       "      <td>9</td>\n",
       "      <td>12</td>\n",
       "      <td>10</td>\n",
       "      <td>10</td>\n",
       "    </tr>\n",
       "    <tr>\n",
       "      <th>marital-status</th>\n",
       "      <td>Never-married</td>\n",
       "      <td>Married-civ-spouse</td>\n",
       "      <td>Married-civ-spouse</td>\n",
       "      <td>Married-civ-spouse</td>\n",
       "      <td>Never-married</td>\n",
       "    </tr>\n",
       "    <tr>\n",
       "      <th>relationship</th>\n",
       "      <td>Own-child</td>\n",
       "      <td>Husband</td>\n",
       "      <td>Husband</td>\n",
       "      <td>Husband</td>\n",
       "      <td>Own-child</td>\n",
       "    </tr>\n",
       "    <tr>\n",
       "      <th>race</th>\n",
       "      <td>Black</td>\n",
       "      <td>White</td>\n",
       "      <td>White</td>\n",
       "      <td>Black</td>\n",
       "      <td>White</td>\n",
       "    </tr>\n",
       "    <tr>\n",
       "      <th>gender</th>\n",
       "      <td>Male</td>\n",
       "      <td>Male</td>\n",
       "      <td>Male</td>\n",
       "      <td>Male</td>\n",
       "      <td>Female</td>\n",
       "    </tr>\n",
       "    <tr>\n",
       "      <th>capital-gain</th>\n",
       "      <td>0</td>\n",
       "      <td>0</td>\n",
       "      <td>0</td>\n",
       "      <td>7688</td>\n",
       "      <td>0</td>\n",
       "    </tr>\n",
       "    <tr>\n",
       "      <th>capital-loss</th>\n",
       "      <td>0</td>\n",
       "      <td>0</td>\n",
       "      <td>0</td>\n",
       "      <td>0</td>\n",
       "      <td>0</td>\n",
       "    </tr>\n",
       "    <tr>\n",
       "      <th>hours-per-week</th>\n",
       "      <td>40</td>\n",
       "      <td>50</td>\n",
       "      <td>40</td>\n",
       "      <td>40</td>\n",
       "      <td>30</td>\n",
       "    </tr>\n",
       "    <tr>\n",
       "      <th>income</th>\n",
       "      <td>&lt;=50K</td>\n",
       "      <td>&lt;=50K</td>\n",
       "      <td>&gt;50K</td>\n",
       "      <td>&gt;50K</td>\n",
       "      <td>&lt;=50K</td>\n",
       "    </tr>\n",
       "    <tr>\n",
       "      <th>Renda</th>\n",
       "      <td>0</td>\n",
       "      <td>0</td>\n",
       "      <td>1</td>\n",
       "      <td>1</td>\n",
       "      <td>0</td>\n",
       "    </tr>\n",
       "    <tr>\n",
       "      <th>age_cat</th>\n",
       "      <td>0</td>\n",
       "      <td>1</td>\n",
       "      <td>0</td>\n",
       "      <td>1</td>\n",
       "      <td>0</td>\n",
       "    </tr>\n",
       "  </tbody>\n",
       "</table>\n",
       "</div>"
      ],
      "text/plain": [
       "                             0                   1                   2  \\\n",
       "age                         25                  38                  28   \n",
       "fnlwgt                  226802               89814              336951   \n",
       "education                 11th             HS-grad          Assoc-acdm   \n",
       "educational-num              7                   9                  12   \n",
       "marital-status   Never-married  Married-civ-spouse  Married-civ-spouse   \n",
       "relationship         Own-child             Husband             Husband   \n",
       "race                     Black               White               White   \n",
       "gender                    Male                Male                Male   \n",
       "capital-gain                 0                   0                   0   \n",
       "capital-loss                 0                   0                   0   \n",
       "hours-per-week              40                  50                  40   \n",
       "income                   <=50K               <=50K                >50K   \n",
       "Renda                        0                   0                   1   \n",
       "age_cat                      0                   1                   0   \n",
       "\n",
       "                                  3              4  \n",
       "age                              44             18  \n",
       "fnlwgt                       160323         103497  \n",
       "education              Some-college   Some-college  \n",
       "educational-num                  10             10  \n",
       "marital-status   Married-civ-spouse  Never-married  \n",
       "relationship                Husband      Own-child  \n",
       "race                          Black          White  \n",
       "gender                         Male         Female  \n",
       "capital-gain                   7688              0  \n",
       "capital-loss                      0              0  \n",
       "hours-per-week                   40             30  \n",
       "income                         >50K          <=50K  \n",
       "Renda                             1              0  \n",
       "age_cat                           1              0  "
      ]
     },
     "execution_count": 24,
     "metadata": {},
     "output_type": "execute_result"
    }
   ],
   "source": [
    "#Ela disse que o naive bayes pode ser usado com variáveis de vários tipos, quantitativa ou categórica. Mas ela vai \n",
    "#transformar pra categorica a variavel age\n",
    "age_cat = []\n",
    "for dados in df[\"age\"]:\n",
    "    if dados <= 30:\n",
    "        age_cat.append(\"0\")\n",
    "    elif dados <= 45:\n",
    "        age_cat.append(\"1\")\n",
    "    else:\n",
    "        age_cat.append(\"2\")\n",
    "        \n",
    "df[\"age_cat\"] = age_cat\n",
    "df.head().T"
   ]
  },
  {
   "cell_type": "code",
   "execution_count": 25,
   "id": "6cb617c2",
   "metadata": {},
   "outputs": [
    {
     "data": {
      "text/plain": [
       "<AxesSubplot:xlabel='income'>"
      ]
     },
     "execution_count": 25,
     "metadata": {},
     "output_type": "execute_result"
    },
    {
     "data": {
      "image/png": "[encoded data removed]",
      "text/plain": [
       "<Figure size 600x600 with 1 Axes>"
      ]
     },
     "metadata": {},
     "output_type": "display_data"
    }
   ],
   "source": [
    "#comparação entre a age_cat e a target\n",
    "Age_cat = pd.crosstab(df[\"income\"], df[\"age_cat\"])\n",
    "Age_cat.div(Age_cat.sum(1).astype(float), axis=0).plot(kind=\"bar\", stacked=True, figsize=(6,6))"
   ]
  },
  {
   "cell_type": "code",
   "execution_count": 26,
   "id": "ea1fb755",
   "metadata": {},
   "outputs": [
    {
     "data": {
      "text/plain": [
       "<AxesSubplot:xlabel='age_cat'>"
      ]
     },
     "execution_count": 26,
     "metadata": {},
     "output_type": "execute_result"
    },
    {
     "data": {
      "image/png": "[encoded data removed]",
      "text/plain": [
       "<Figure size 600x400 with 1 Axes>"
      ]
     },
     "metadata": {},
     "output_type": "display_data"
    }
   ],
   "source": [
    "#partindo para a comparação do age_cat com aquela variável renda que foi criada\n",
    "df.groupby(\"age_cat\").Renda.mean().plot(kind=\"bar\")\n",
    "\n",
    "#ou seja, quanto maior a idade, maior a renda média"
   ]
  },
  {
   "cell_type": "code",
   "execution_count": 27,
   "id": "e5f28b0b",
   "metadata": {},
   "outputs": [
    {
     "data": {
      "text/plain": [
       "<AxesSubplot:xlabel='income'>"
      ]
     },
     "execution_count": 27,
     "metadata": {},
     "output_type": "execute_result"
    },
    {
     "data": {
      "image/png": "[encoded data removed]",
      "text/plain": [
       "<Figure size 600x600 with 1 Axes>"
      ]
     },
     "metadata": {},
     "output_type": "display_data"
    }
   ],
   "source": [
    "#variavel sexo\n",
    "Gender = pd.crosstab(df[\"income\"], df[\"gender\"])\n",
    "Gender.div(Gender.sum(1).astype(float), axis=0).plot(kind=\"bar\", stacked=True, figsize=(6,6))\n",
    "#é possível perceber que o sexo masculino tem uma presença maior nas maiores rendas"
   ]
  },
  {
   "cell_type": "code",
   "execution_count": 28,
   "id": "3bc3809b",
   "metadata": {},
   "outputs": [],
   "source": [
    "#agora ela vai criar dummies pra variavel sexo\n",
    "df[\"Male\"] = df[\"gender\"].map({\"Male\":1, \"Female\":0}).astype(int)"
   ]
  },
  {
   "cell_type": "code",
   "execution_count": 29,
   "id": "1e997580",
   "metadata": {},
   "outputs": [
    {
     "data": {
      "text/plain": [
       "<AxesSubplot:xlabel='Male'>"
      ]
     },
     "execution_count": 29,
     "metadata": {},
     "output_type": "execute_result"
    },
    {
     "data": {
      "image/png": "[encoded data removed]",
      "text/plain": [
       "<Figure size 600x400 with 1 Axes>"
      ]
     },
     "metadata": {},
     "output_type": "display_data"
    }
   ],
   "source": [
    "#partindo para a comparação do sexo com aquela variável renda que foi criada\n",
    "df.groupby(\"Male\").Renda.mean().plot(kind=\"bar\")\n",
    "#então se percebe que a renda média é maior para o masculino"
   ]
  },
  {
   "cell_type": "code",
   "execution_count": 30,
   "id": "9a9c0c2a",
   "metadata": {},
   "outputs": [
    {
     "data": {
      "text/plain": [
       "<AxesSubplot:xlabel='income'>"
      ]
     },
     "execution_count": 30,
     "metadata": {},
     "output_type": "execute_result"
    },
    {
     "data": {
      "image/png": "[encoded data removed]",
      "text/plain": [
       "<Figure size 600x600 with 1 Axes>"
      ]
     },
     "metadata": {},
     "output_type": "display_data"
    }
   ],
   "source": [
    "#partindo para estado civil\n",
    "MaritalStatus = pd.crosstab(df[\"income\"], df[\"marital-status\"])\n",
    "MaritalStatus.div(MaritalStatus.sum(1).astype(float), axis=0).plot(kind=\"bar\", stacked=True, figsize=(6,6))\n",
    "#É possível ver que muitas categorias atrapalham e só algumas são principais: casado no civil, solteiro e divorciado.\n",
    "#Logo, criaremos uma categoria de casado e não casado."
   ]
  },
  {
   "cell_type": "code",
   "execution_count": 31,
   "id": "dc11c9e5",
   "metadata": {},
   "outputs": [],
   "source": [
    "#Transformando a variável estado civil em casado e nao casado\n",
    "df[\"Married\"] = df[\"marital-status\"].map({\"Divorced\":0, \"Married-spouse-absent\":0, \"Widowed\":0, \"Separated\":0,\n",
    "                                         \"Never-married\":0, \"Married-AF-spouse\":1, \"Married-civ-spouse\":1})"
   ]
  },
  {
   "cell_type": "code",
   "execution_count": 32,
   "id": "abe4308d",
   "metadata": {},
   "outputs": [
    {
     "data": {
      "text/plain": [
       "<AxesSubplot:xlabel='income'>"
      ]
     },
     "execution_count": 32,
     "metadata": {},
     "output_type": "execute_result"
    },
    {
     "data": {
      "image/png": "[encoded data removed]",
      "text/plain": [
       "<Figure size 600x600 with 1 Axes>"
      ]
     },
     "metadata": {},
     "output_type": "display_data"
    }
   ],
   "source": [
    "MaritalStatus = pd.crosstab(df[\"income\"], df[\"Married\"])\n",
    "MaritalStatus.div(MaritalStatus.sum(1).astype(float), axis=0).plot(kind=\"bar\", stacked=True, figsize=(6,6))"
   ]
  },
  {
   "cell_type": "code",
   "execution_count": 33,
   "id": "e0b5a5cd",
   "metadata": {},
   "outputs": [
    {
     "data": {
      "text/plain": [
       "<AxesSubplot:xlabel='Married'>"
      ]
     },
     "execution_count": 33,
     "metadata": {},
     "output_type": "execute_result"
    },
    {
     "data": {
      "image/png": "[encoded data removed]",
      "text/plain": [
       "<Figure size 600x400 with 1 Axes>"
      ]
     },
     "metadata": {},
     "output_type": "display_data"
    }
   ],
   "source": [
    "df.groupby(\"Married\").Renda.mean().plot(kind=\"bar\")\n",
    "#os casados possuem renda média muito maior"
   ]
  },
  {
   "cell_type": "code",
   "execution_count": 34,
   "id": "0407421a",
   "metadata": {},
   "outputs": [
    {
     "data": {
      "text/plain": [
       "<AxesSubplot:xlabel='income'>"
      ]
     },
     "execution_count": 34,
     "metadata": {},
     "output_type": "execute_result"
    },
    {
     "data": {
      "image/png": "[encoded data removed]",
      "text/plain": [
       "<Figure size 600x600 with 1 Axes>"
      ]
     },
     "metadata": {},
     "output_type": "display_data"
    }
   ],
   "source": [
    "#variável educacional\n",
    "Educational = pd.crosstab(df[\"income\"], df[\"educational-num\"])\n",
    "Educational.div(Educational.sum(1).astype(float), axis=0).plot(kind=\"bar\", stacked=True, figsize=(6,6))\n",
    "#Neste fica complicado ter insights para categorizar melhor essas variáveis. Logo, vamos usar outro gráfico"
   ]
  },
  {
   "cell_type": "code",
   "execution_count": 35,
   "id": "aa230d0f",
   "metadata": {},
   "outputs": [
    {
     "data": {
      "text/plain": [
       "<AxesSubplot:xlabel='educational-num'>"
      ]
     },
     "execution_count": 35,
     "metadata": {},
     "output_type": "execute_result"
    },
    {
     "data": {
      "image/png": "[encoded data removed]",
      "text/plain": [
       "<Figure size 600x400 with 1 Axes>"
      ]
     },
     "metadata": {},
     "output_type": "display_data"
    }
   ],
   "source": [
    "df.groupby(\"educational-num\").Renda.mean().plot(kind=\"bar\")\n",
    "#Quanto maior o nível educacional atingido, maior a renda média"
   ]
  },
  {
   "cell_type": "code",
   "execution_count": 36,
   "id": "a96e1f69",
   "metadata": {},
   "outputs": [
    {
     "data": {
      "text/html": [
       "<div>\n",
       "<style scoped>\n",
       "    .dataframe tbody tr th:only-of-type {\n",
       "        vertical-align: middle;\n",
       "    }\n",
       "\n",
       "    .dataframe tbody tr th {\n",
       "        vertical-align: top;\n",
       "    }\n",
       "\n",
       "    .dataframe thead th {\n",
       "        text-align: right;\n",
       "    }\n",
       "</style>\n",
       "<table border=\"1\" class=\"dataframe\">\n",
       "  <thead>\n",
       "    <tr style=\"text-align: right;\">\n",
       "      <th></th>\n",
       "      <th>0</th>\n",
       "      <th>1</th>\n",
       "      <th>2</th>\n",
       "      <th>3</th>\n",
       "      <th>4</th>\n",
       "    </tr>\n",
       "  </thead>\n",
       "  <tbody>\n",
       "    <tr>\n",
       "      <th>age</th>\n",
       "      <td>25</td>\n",
       "      <td>38</td>\n",
       "      <td>28</td>\n",
       "      <td>44</td>\n",
       "      <td>18</td>\n",
       "    </tr>\n",
       "    <tr>\n",
       "      <th>fnlwgt</th>\n",
       "      <td>226802</td>\n",
       "      <td>89814</td>\n",
       "      <td>336951</td>\n",
       "      <td>160323</td>\n",
       "      <td>103497</td>\n",
       "    </tr>\n",
       "    <tr>\n",
       "      <th>education</th>\n",
       "      <td>11th</td>\n",
       "      <td>HS-grad</td>\n",
       "      <td>Assoc-acdm</td>\n",
       "      <td>Some-college</td>\n",
       "      <td>Some-college</td>\n",
       "    </tr>\n",
       "    <tr>\n",
       "      <th>educational-num</th>\n",
       "      <td>7</td>\n",
       "      <td>9</td>\n",
       "      <td>12</td>\n",
       "      <td>10</td>\n",
       "      <td>10</td>\n",
       "    </tr>\n",
       "    <tr>\n",
       "      <th>marital-status</th>\n",
       "      <td>Never-married</td>\n",
       "      <td>Married-civ-spouse</td>\n",
       "      <td>Married-civ-spouse</td>\n",
       "      <td>Married-civ-spouse</td>\n",
       "      <td>Never-married</td>\n",
       "    </tr>\n",
       "    <tr>\n",
       "      <th>relationship</th>\n",
       "      <td>Own-child</td>\n",
       "      <td>Husband</td>\n",
       "      <td>Husband</td>\n",
       "      <td>Husband</td>\n",
       "      <td>Own-child</td>\n",
       "    </tr>\n",
       "    <tr>\n",
       "      <th>race</th>\n",
       "      <td>Black</td>\n",
       "      <td>White</td>\n",
       "      <td>White</td>\n",
       "      <td>Black</td>\n",
       "      <td>White</td>\n",
       "    </tr>\n",
       "    <tr>\n",
       "      <th>gender</th>\n",
       "      <td>Male</td>\n",
       "      <td>Male</td>\n",
       "      <td>Male</td>\n",
       "      <td>Male</td>\n",
       "      <td>Female</td>\n",
       "    </tr>\n",
       "    <tr>\n",
       "      <th>capital-gain</th>\n",
       "      <td>0</td>\n",
       "      <td>0</td>\n",
       "      <td>0</td>\n",
       "      <td>7688</td>\n",
       "      <td>0</td>\n",
       "    </tr>\n",
       "    <tr>\n",
       "      <th>capital-loss</th>\n",
       "      <td>0</td>\n",
       "      <td>0</td>\n",
       "      <td>0</td>\n",
       "      <td>0</td>\n",
       "      <td>0</td>\n",
       "    </tr>\n",
       "    <tr>\n",
       "      <th>hours-per-week</th>\n",
       "      <td>40</td>\n",
       "      <td>50</td>\n",
       "      <td>40</td>\n",
       "      <td>40</td>\n",
       "      <td>30</td>\n",
       "    </tr>\n",
       "    <tr>\n",
       "      <th>income</th>\n",
       "      <td>&lt;=50K</td>\n",
       "      <td>&lt;=50K</td>\n",
       "      <td>&gt;50K</td>\n",
       "      <td>&gt;50K</td>\n",
       "      <td>&lt;=50K</td>\n",
       "    </tr>\n",
       "    <tr>\n",
       "      <th>Renda</th>\n",
       "      <td>0</td>\n",
       "      <td>0</td>\n",
       "      <td>1</td>\n",
       "      <td>1</td>\n",
       "      <td>0</td>\n",
       "    </tr>\n",
       "    <tr>\n",
       "      <th>age_cat</th>\n",
       "      <td>0</td>\n",
       "      <td>1</td>\n",
       "      <td>0</td>\n",
       "      <td>1</td>\n",
       "      <td>0</td>\n",
       "    </tr>\n",
       "    <tr>\n",
       "      <th>Male</th>\n",
       "      <td>1</td>\n",
       "      <td>1</td>\n",
       "      <td>1</td>\n",
       "      <td>1</td>\n",
       "      <td>0</td>\n",
       "    </tr>\n",
       "    <tr>\n",
       "      <th>Married</th>\n",
       "      <td>0</td>\n",
       "      <td>1</td>\n",
       "      <td>1</td>\n",
       "      <td>1</td>\n",
       "      <td>0</td>\n",
       "    </tr>\n",
       "    <tr>\n",
       "      <th>educa_cat</th>\n",
       "      <td>0</td>\n",
       "      <td>1</td>\n",
       "      <td>2</td>\n",
       "      <td>2</td>\n",
       "      <td>2</td>\n",
       "    </tr>\n",
       "  </tbody>\n",
       "</table>\n",
       "</div>"
      ],
      "text/plain": [
       "                             0                   1                   2  \\\n",
       "age                         25                  38                  28   \n",
       "fnlwgt                  226802               89814              336951   \n",
       "education                 11th             HS-grad          Assoc-acdm   \n",
       "educational-num              7                   9                  12   \n",
       "marital-status   Never-married  Married-civ-spouse  Married-civ-spouse   \n",
       "relationship         Own-child             Husband             Husband   \n",
       "race                     Black               White               White   \n",
       "gender                    Male                Male                Male   \n",
       "capital-gain                 0                   0                   0   \n",
       "capital-loss                 0                   0                   0   \n",
       "hours-per-week              40                  50                  40   \n",
       "income                   <=50K               <=50K                >50K   \n",
       "Renda                        0                   0                   1   \n",
       "age_cat                      0                   1                   0   \n",
       "Male                         1                   1                   1   \n",
       "Married                      0                   1                   1   \n",
       "educa_cat                    0                   1                   2   \n",
       "\n",
       "                                  3              4  \n",
       "age                              44             18  \n",
       "fnlwgt                       160323         103497  \n",
       "education              Some-college   Some-college  \n",
       "educational-num                  10             10  \n",
       "marital-status   Married-civ-spouse  Never-married  \n",
       "relationship                Husband      Own-child  \n",
       "race                          Black          White  \n",
       "gender                         Male         Female  \n",
       "capital-gain                   7688              0  \n",
       "capital-loss                      0              0  \n",
       "hours-per-week                   40             30  \n",
       "income                         >50K          <=50K  \n",
       "Renda                             1              0  \n",
       "age_cat                           1              0  \n",
       "Male                              1              0  \n",
       "Married                           1              0  \n",
       "educa_cat                         2              2  "
      ]
     },
     "execution_count": 36,
     "metadata": {},
     "output_type": "execute_result"
    }
   ],
   "source": [
    "educa_cat = []\n",
    "for dados in df[\"educational-num\"]:\n",
    "    if dados <= 8:\n",
    "        educa_cat.append(\"0\")\n",
    "    elif dados == 9:\n",
    "        educa_cat.append(\"1\")\n",
    "    elif dados <= 12:\n",
    "        educa_cat.append(\"2\")\n",
    "    else:\n",
    "        educa_cat.append(\"3\")\n",
    "        \n",
    "df[\"educa_cat\"] = educa_cat\n",
    "df.head().T\n",
    "\n",
    "#acho que o 9 ficou sozinho pq de acordo com o relatorio sweetviz ele é o que tem maior frequência. Ou então pq a educação\n",
    "#nos EUA é separado assim - educação básica, ensino médio, superior e stricto sensu."
   ]
  },
  {
   "cell_type": "code",
   "execution_count": 37,
   "id": "7d7e664c",
   "metadata": {},
   "outputs": [
    {
     "data": {
      "text/plain": [
       "<AxesSubplot:xlabel='income'>"
      ]
     },
     "execution_count": 37,
     "metadata": {},
     "output_type": "execute_result"
    },
    {
     "data": {
      "image/png": "[encoded data removed]",
      "text/plain": [
       "<Figure size 600x600 with 1 Axes>"
      ]
     },
     "metadata": {},
     "output_type": "display_data"
    }
   ],
   "source": [
    "Educational = pd.crosstab(df[\"income\"], df[\"educa_cat\"])\n",
    "Educational.div(Educational.sum(1).astype(float), axis=0).plot(kind=\"bar\", stacked=True, figsize=(6,6))"
   ]
  },
  {
   "cell_type": "code",
   "execution_count": 38,
   "id": "1d1e2abc",
   "metadata": {},
   "outputs": [
    {
     "data": {
      "text/plain": [
       "<AxesSubplot:xlabel='educa_cat'>"
      ]
     },
     "execution_count": 38,
     "metadata": {},
     "output_type": "execute_result"
    },
    {
     "data": {
      "image/png": "[encoded data removed]",
      "text/plain": [
       "<Figure size 600x400 with 1 Axes>"
      ]
     },
     "metadata": {},
     "output_type": "display_data"
    }
   ],
   "source": [
    "df.groupby(\"educa_cat\").Renda.mean().plot(kind=\"bar\")"
   ]
  },
  {
   "cell_type": "code",
   "execution_count": 39,
   "id": "970fdbe9",
   "metadata": {},
   "outputs": [
    {
     "data": {
      "text/plain": [
       "<AxesSubplot:xlabel='income'>"
      ]
     },
     "execution_count": 39,
     "metadata": {},
     "output_type": "execute_result"
    },
    {
     "data": {
      "image/png": "[encoded data removed]",
      "text/plain": [
       "<Figure size 600x600 with 1 Axes>"
      ]
     },
     "metadata": {},
     "output_type": "display_data"
    }
   ],
   "source": [
    "#Agora a variável race\n",
    "Race = pd.crosstab(df[\"income\"], df[\"race\"])\n",
    "Race.div(Race.sum(1).astype(float), axis=0).plot(kind=\"bar\", stacked=True, figsize=(6,6))"
   ]
  },
  {
   "cell_type": "code",
   "execution_count": 40,
   "id": "05c8a37f",
   "metadata": {},
   "outputs": [],
   "source": [
    "df[\"race_white\"] = df[\"race\"].map({\"Black\":0, \"Other\":0, \"Asian-Pac-Islander\":0, \"Amer-Indian-Eskimo\":0,\n",
    "                                         \"White\":1})"
   ]
  },
  {
   "cell_type": "code",
   "execution_count": 41,
   "id": "1a183a5e",
   "metadata": {},
   "outputs": [
    {
     "data": {
      "text/plain": [
       "<AxesSubplot:xlabel='income'>"
      ]
     },
     "execution_count": 41,
     "metadata": {},
     "output_type": "execute_result"
    },
    {
     "data": {
      "image/png": "[encoded data removed]",
      "text/plain": [
       "<Figure size 600x600 with 1 Axes>"
      ]
     },
     "metadata": {},
     "output_type": "display_data"
    }
   ],
   "source": [
    "Race_white = pd.crosstab(df[\"income\"], df[\"race_white\"])\n",
    "Race_white.div(Race_white.sum(1).astype(float), axis=0).plot(kind=\"bar\", stacked=True, figsize=(6,6))"
   ]
  },
  {
   "cell_type": "code",
   "execution_count": 42,
   "id": "f2e88466",
   "metadata": {},
   "outputs": [
    {
     "data": {
      "text/plain": [
       "<AxesSubplot:xlabel='race_white'>"
      ]
     },
     "execution_count": 42,
     "metadata": {},
     "output_type": "execute_result"
    },
    {
     "data": {
      "image/png": "[encoded data removed]",
      "text/plain": [
       "<Figure size 600x400 with 1 Axes>"
      ]
     },
     "metadata": {},
     "output_type": "display_data"
    }
   ],
   "source": [
    "df.groupby(\"race_white\").Renda.mean().plot(kind=\"bar\")"
   ]
  },
  {
   "cell_type": "code",
   "execution_count": 43,
   "id": "73ad0c49",
   "metadata": {},
   "outputs": [
    {
     "data": {
      "image/png": "[encoded data removed]",
      "text/plain": [
       "<Figure size 600x400 with 1 Axes>"
      ]
     },
     "metadata": {},
     "output_type": "display_data"
    }
   ],
   "source": [
    "#horas trabalhadas por semana\n",
    "sb.boxplot(x=\"income\", y=\"hours-per-week\", data=df)\n",
    "plt.title(\"Distribuição de horas de trabalho por semana por classe da variável target\")\n",
    "plt.show()"
   ]
  },
  {
   "cell_type": "code",
   "execution_count": 44,
   "id": "299b5270",
   "metadata": {},
   "outputs": [
    {
     "data": {
      "text/html": [
       "<div>\n",
       "<style scoped>\n",
       "    .dataframe tbody tr th:only-of-type {\n",
       "        vertical-align: middle;\n",
       "    }\n",
       "\n",
       "    .dataframe tbody tr th {\n",
       "        vertical-align: top;\n",
       "    }\n",
       "\n",
       "    .dataframe thead th {\n",
       "        text-align: right;\n",
       "    }\n",
       "</style>\n",
       "<table border=\"1\" class=\"dataframe\">\n",
       "  <thead>\n",
       "    <tr style=\"text-align: right;\">\n",
       "      <th></th>\n",
       "      <th>0</th>\n",
       "      <th>1</th>\n",
       "      <th>2</th>\n",
       "      <th>3</th>\n",
       "      <th>4</th>\n",
       "    </tr>\n",
       "  </thead>\n",
       "  <tbody>\n",
       "    <tr>\n",
       "      <th>age</th>\n",
       "      <td>25</td>\n",
       "      <td>38</td>\n",
       "      <td>28</td>\n",
       "      <td>44</td>\n",
       "      <td>18</td>\n",
       "    </tr>\n",
       "    <tr>\n",
       "      <th>fnlwgt</th>\n",
       "      <td>226802</td>\n",
       "      <td>89814</td>\n",
       "      <td>336951</td>\n",
       "      <td>160323</td>\n",
       "      <td>103497</td>\n",
       "    </tr>\n",
       "    <tr>\n",
       "      <th>education</th>\n",
       "      <td>11th</td>\n",
       "      <td>HS-grad</td>\n",
       "      <td>Assoc-acdm</td>\n",
       "      <td>Some-college</td>\n",
       "      <td>Some-college</td>\n",
       "    </tr>\n",
       "    <tr>\n",
       "      <th>educational-num</th>\n",
       "      <td>7</td>\n",
       "      <td>9</td>\n",
       "      <td>12</td>\n",
       "      <td>10</td>\n",
       "      <td>10</td>\n",
       "    </tr>\n",
       "    <tr>\n",
       "      <th>marital-status</th>\n",
       "      <td>Never-married</td>\n",
       "      <td>Married-civ-spouse</td>\n",
       "      <td>Married-civ-spouse</td>\n",
       "      <td>Married-civ-spouse</td>\n",
       "      <td>Never-married</td>\n",
       "    </tr>\n",
       "    <tr>\n",
       "      <th>relationship</th>\n",
       "      <td>Own-child</td>\n",
       "      <td>Husband</td>\n",
       "      <td>Husband</td>\n",
       "      <td>Husband</td>\n",
       "      <td>Own-child</td>\n",
       "    </tr>\n",
       "    <tr>\n",
       "      <th>race</th>\n",
       "      <td>Black</td>\n",
       "      <td>White</td>\n",
       "      <td>White</td>\n",
       "      <td>Black</td>\n",
       "      <td>White</td>\n",
       "    </tr>\n",
       "    <tr>\n",
       "      <th>gender</th>\n",
       "      <td>Male</td>\n",
       "      <td>Male</td>\n",
       "      <td>Male</td>\n",
       "      <td>Male</td>\n",
       "      <td>Female</td>\n",
       "    </tr>\n",
       "    <tr>\n",
       "      <th>capital-gain</th>\n",
       "      <td>0</td>\n",
       "      <td>0</td>\n",
       "      <td>0</td>\n",
       "      <td>7688</td>\n",
       "      <td>0</td>\n",
       "    </tr>\n",
       "    <tr>\n",
       "      <th>capital-loss</th>\n",
       "      <td>0</td>\n",
       "      <td>0</td>\n",
       "      <td>0</td>\n",
       "      <td>0</td>\n",
       "      <td>0</td>\n",
       "    </tr>\n",
       "    <tr>\n",
       "      <th>hours-per-week</th>\n",
       "      <td>40</td>\n",
       "      <td>50</td>\n",
       "      <td>40</td>\n",
       "      <td>40</td>\n",
       "      <td>30</td>\n",
       "    </tr>\n",
       "    <tr>\n",
       "      <th>income</th>\n",
       "      <td>&lt;=50K</td>\n",
       "      <td>&lt;=50K</td>\n",
       "      <td>&gt;50K</td>\n",
       "      <td>&gt;50K</td>\n",
       "      <td>&lt;=50K</td>\n",
       "    </tr>\n",
       "    <tr>\n",
       "      <th>Renda</th>\n",
       "      <td>0</td>\n",
       "      <td>0</td>\n",
       "      <td>1</td>\n",
       "      <td>1</td>\n",
       "      <td>0</td>\n",
       "    </tr>\n",
       "    <tr>\n",
       "      <th>age_cat</th>\n",
       "      <td>0</td>\n",
       "      <td>1</td>\n",
       "      <td>0</td>\n",
       "      <td>1</td>\n",
       "      <td>0</td>\n",
       "    </tr>\n",
       "    <tr>\n",
       "      <th>Male</th>\n",
       "      <td>1</td>\n",
       "      <td>1</td>\n",
       "      <td>1</td>\n",
       "      <td>1</td>\n",
       "      <td>0</td>\n",
       "    </tr>\n",
       "    <tr>\n",
       "      <th>Married</th>\n",
       "      <td>0</td>\n",
       "      <td>1</td>\n",
       "      <td>1</td>\n",
       "      <td>1</td>\n",
       "      <td>0</td>\n",
       "    </tr>\n",
       "    <tr>\n",
       "      <th>educa_cat</th>\n",
       "      <td>0</td>\n",
       "      <td>1</td>\n",
       "      <td>2</td>\n",
       "      <td>2</td>\n",
       "      <td>2</td>\n",
       "    </tr>\n",
       "    <tr>\n",
       "      <th>race_white</th>\n",
       "      <td>0</td>\n",
       "      <td>1</td>\n",
       "      <td>1</td>\n",
       "      <td>0</td>\n",
       "      <td>1</td>\n",
       "    </tr>\n",
       "    <tr>\n",
       "      <th>horasweek</th>\n",
       "      <td>1</td>\n",
       "      <td>2</td>\n",
       "      <td>1</td>\n",
       "      <td>1</td>\n",
       "      <td>0</td>\n",
       "    </tr>\n",
       "  </tbody>\n",
       "</table>\n",
       "</div>"
      ],
      "text/plain": [
       "                             0                   1                   2  \\\n",
       "age                         25                  38                  28   \n",
       "fnlwgt                  226802               89814              336951   \n",
       "education                 11th             HS-grad          Assoc-acdm   \n",
       "educational-num              7                   9                  12   \n",
       "marital-status   Never-married  Married-civ-spouse  Married-civ-spouse   \n",
       "relationship         Own-child             Husband             Husband   \n",
       "race                     Black               White               White   \n",
       "gender                    Male                Male                Male   \n",
       "capital-gain                 0                   0                   0   \n",
       "capital-loss                 0                   0                   0   \n",
       "hours-per-week              40                  50                  40   \n",
       "income                   <=50K               <=50K                >50K   \n",
       "Renda                        0                   0                   1   \n",
       "age_cat                      0                   1                   0   \n",
       "Male                         1                   1                   1   \n",
       "Married                      0                   1                   1   \n",
       "educa_cat                    0                   1                   2   \n",
       "race_white                   0                   1                   1   \n",
       "horasweek                    1                   2                   1   \n",
       "\n",
       "                                  3              4  \n",
       "age                              44             18  \n",
       "fnlwgt                       160323         103497  \n",
       "education              Some-college   Some-college  \n",
       "educational-num                  10             10  \n",
       "marital-status   Married-civ-spouse  Never-married  \n",
       "relationship                Husband      Own-child  \n",
       "race                          Black          White  \n",
       "gender                         Male         Female  \n",
       "capital-gain                   7688              0  \n",
       "capital-loss                      0              0  \n",
       "hours-per-week                   40             30  \n",
       "income                         >50K          <=50K  \n",
       "Renda                             1              0  \n",
       "age_cat                           1              0  \n",
       "Male                              1              0  \n",
       "Married                           1              0  \n",
       "educa_cat                         2              2  \n",
       "race_white                        0              1  \n",
       "horasweek                         1              0  "
      ]
     },
     "execution_count": 44,
     "metadata": {},
     "output_type": "execute_result"
    }
   ],
   "source": [
    "#vamos transformar a variavel de horas pra 3 categorias, <40, =40, e >40. O 40 tá sozinho pq pelo relatorio ele é disparado\n",
    "#a observação de maior frequencia\n",
    "\n",
    "horasweek = []\n",
    "for dados in df[\"hours-per-week\"]:\n",
    "    if dados < 40:\n",
    "        horasweek.append(\"0\")\n",
    "    elif dados == 40:\n",
    "        horasweek.append(\"1\")\n",
    "    else:\n",
    "        horasweek.append(\"2\")\n",
    "        \n",
    "df[\"horasweek\"] = horasweek\n",
    "df.head().T"
   ]
  },
  {
   "cell_type": "code",
   "execution_count": 45,
   "id": "9bbb879a",
   "metadata": {},
   "outputs": [
    {
     "data": {
      "text/plain": [
       "<AxesSubplot:xlabel='horasweek'>"
      ]
     },
     "execution_count": 45,
     "metadata": {},
     "output_type": "execute_result"
    },
    {
     "data": {
      "image/png": "[encoded data removed]",
      "text/plain": [
       "<Figure size 600x400 with 1 Axes>"
      ]
     },
     "metadata": {},
     "output_type": "display_data"
    }
   ],
   "source": [
    "df.groupby(\"horasweek\").Renda.mean().plot(kind=\"bar\")\n",
    "#logo, quanto mais se trabalha, maior é a renda média"
   ]
  },
  {
   "cell_type": "code",
   "execution_count": 46,
   "id": "d2299c80",
   "metadata": {},
   "outputs": [
    {
     "data": {
      "image/png": "[encoded data removed]",
      "text/plain": [
       "<Figure size 600x400 with 1 Axes>"
      ]
     },
     "metadata": {},
     "output_type": "display_data"
    }
   ],
   "source": [
    "#variável de capital_gain\n",
    "sb.boxplot(x=\"income\", y=\"capital-gain\", data=df)\n",
    "plt.title(\"Distribuição de capita-gain por classe da variável target\")\n",
    "plt.show()"
   ]
  },
  {
   "cell_type": "code",
   "execution_count": 47,
   "id": "c774ed4b",
   "metadata": {},
   "outputs": [
    {
     "data": {
      "text/html": [
       "<div>\n",
       "<style scoped>\n",
       "    .dataframe tbody tr th:only-of-type {\n",
       "        vertical-align: middle;\n",
       "    }\n",
       "\n",
       "    .dataframe tbody tr th {\n",
       "        vertical-align: top;\n",
       "    }\n",
       "\n",
       "    .dataframe thead th {\n",
       "        text-align: right;\n",
       "    }\n",
       "</style>\n",
       "<table border=\"1\" class=\"dataframe\">\n",
       "  <thead>\n",
       "    <tr style=\"text-align: right;\">\n",
       "      <th></th>\n",
       "      <th>0</th>\n",
       "      <th>1</th>\n",
       "      <th>2</th>\n",
       "      <th>3</th>\n",
       "      <th>4</th>\n",
       "    </tr>\n",
       "  </thead>\n",
       "  <tbody>\n",
       "    <tr>\n",
       "      <th>age</th>\n",
       "      <td>25</td>\n",
       "      <td>38</td>\n",
       "      <td>28</td>\n",
       "      <td>44</td>\n",
       "      <td>18</td>\n",
       "    </tr>\n",
       "    <tr>\n",
       "      <th>fnlwgt</th>\n",
       "      <td>226802</td>\n",
       "      <td>89814</td>\n",
       "      <td>336951</td>\n",
       "      <td>160323</td>\n",
       "      <td>103497</td>\n",
       "    </tr>\n",
       "    <tr>\n",
       "      <th>education</th>\n",
       "      <td>11th</td>\n",
       "      <td>HS-grad</td>\n",
       "      <td>Assoc-acdm</td>\n",
       "      <td>Some-college</td>\n",
       "      <td>Some-college</td>\n",
       "    </tr>\n",
       "    <tr>\n",
       "      <th>educational-num</th>\n",
       "      <td>7</td>\n",
       "      <td>9</td>\n",
       "      <td>12</td>\n",
       "      <td>10</td>\n",
       "      <td>10</td>\n",
       "    </tr>\n",
       "    <tr>\n",
       "      <th>marital-status</th>\n",
       "      <td>Never-married</td>\n",
       "      <td>Married-civ-spouse</td>\n",
       "      <td>Married-civ-spouse</td>\n",
       "      <td>Married-civ-spouse</td>\n",
       "      <td>Never-married</td>\n",
       "    </tr>\n",
       "    <tr>\n",
       "      <th>relationship</th>\n",
       "      <td>Own-child</td>\n",
       "      <td>Husband</td>\n",
       "      <td>Husband</td>\n",
       "      <td>Husband</td>\n",
       "      <td>Own-child</td>\n",
       "    </tr>\n",
       "    <tr>\n",
       "      <th>race</th>\n",
       "      <td>Black</td>\n",
       "      <td>White</td>\n",
       "      <td>White</td>\n",
       "      <td>Black</td>\n",
       "      <td>White</td>\n",
       "    </tr>\n",
       "    <tr>\n",
       "      <th>gender</th>\n",
       "      <td>Male</td>\n",
       "      <td>Male</td>\n",
       "      <td>Male</td>\n",
       "      <td>Male</td>\n",
       "      <td>Female</td>\n",
       "    </tr>\n",
       "    <tr>\n",
       "      <th>capital-gain</th>\n",
       "      <td>0</td>\n",
       "      <td>0</td>\n",
       "      <td>0</td>\n",
       "      <td>7688</td>\n",
       "      <td>0</td>\n",
       "    </tr>\n",
       "    <tr>\n",
       "      <th>capital-loss</th>\n",
       "      <td>0</td>\n",
       "      <td>0</td>\n",
       "      <td>0</td>\n",
       "      <td>0</td>\n",
       "      <td>0</td>\n",
       "    </tr>\n",
       "    <tr>\n",
       "      <th>hours-per-week</th>\n",
       "      <td>40</td>\n",
       "      <td>50</td>\n",
       "      <td>40</td>\n",
       "      <td>40</td>\n",
       "      <td>30</td>\n",
       "    </tr>\n",
       "    <tr>\n",
       "      <th>income</th>\n",
       "      <td>&lt;=50K</td>\n",
       "      <td>&lt;=50K</td>\n",
       "      <td>&gt;50K</td>\n",
       "      <td>&gt;50K</td>\n",
       "      <td>&lt;=50K</td>\n",
       "    </tr>\n",
       "    <tr>\n",
       "      <th>Renda</th>\n",
       "      <td>0</td>\n",
       "      <td>0</td>\n",
       "      <td>1</td>\n",
       "      <td>1</td>\n",
       "      <td>0</td>\n",
       "    </tr>\n",
       "    <tr>\n",
       "      <th>age_cat</th>\n",
       "      <td>0</td>\n",
       "      <td>1</td>\n",
       "      <td>0</td>\n",
       "      <td>1</td>\n",
       "      <td>0</td>\n",
       "    </tr>\n",
       "    <tr>\n",
       "      <th>Male</th>\n",
       "      <td>1</td>\n",
       "      <td>1</td>\n",
       "      <td>1</td>\n",
       "      <td>1</td>\n",
       "      <td>0</td>\n",
       "    </tr>\n",
       "    <tr>\n",
       "      <th>Married</th>\n",
       "      <td>0</td>\n",
       "      <td>1</td>\n",
       "      <td>1</td>\n",
       "      <td>1</td>\n",
       "      <td>0</td>\n",
       "    </tr>\n",
       "    <tr>\n",
       "      <th>educa_cat</th>\n",
       "      <td>0</td>\n",
       "      <td>1</td>\n",
       "      <td>2</td>\n",
       "      <td>2</td>\n",
       "      <td>2</td>\n",
       "    </tr>\n",
       "    <tr>\n",
       "      <th>race_white</th>\n",
       "      <td>0</td>\n",
       "      <td>1</td>\n",
       "      <td>1</td>\n",
       "      <td>0</td>\n",
       "      <td>1</td>\n",
       "    </tr>\n",
       "    <tr>\n",
       "      <th>horasweek</th>\n",
       "      <td>1</td>\n",
       "      <td>2</td>\n",
       "      <td>1</td>\n",
       "      <td>1</td>\n",
       "      <td>0</td>\n",
       "    </tr>\n",
       "    <tr>\n",
       "      <th>capitalgain</th>\n",
       "      <td>0</td>\n",
       "      <td>0</td>\n",
       "      <td>0</td>\n",
       "      <td>1</td>\n",
       "      <td>0</td>\n",
       "    </tr>\n",
       "  </tbody>\n",
       "</table>\n",
       "</div>"
      ],
      "text/plain": [
       "                             0                   1                   2  \\\n",
       "age                         25                  38                  28   \n",
       "fnlwgt                  226802               89814              336951   \n",
       "education                 11th             HS-grad          Assoc-acdm   \n",
       "educational-num              7                   9                  12   \n",
       "marital-status   Never-married  Married-civ-spouse  Married-civ-spouse   \n",
       "relationship         Own-child             Husband             Husband   \n",
       "race                     Black               White               White   \n",
       "gender                    Male                Male                Male   \n",
       "capital-gain                 0                   0                   0   \n",
       "capital-loss                 0                   0                   0   \n",
       "hours-per-week              40                  50                  40   \n",
       "income                   <=50K               <=50K                >50K   \n",
       "Renda                        0                   0                   1   \n",
       "age_cat                      0                   1                   0   \n",
       "Male                         1                   1                   1   \n",
       "Married                      0                   1                   1   \n",
       "educa_cat                    0                   1                   2   \n",
       "race_white                   0                   1                   1   \n",
       "horasweek                    1                   2                   1   \n",
       "capitalgain                  0                   0                   0   \n",
       "\n",
       "                                  3              4  \n",
       "age                              44             18  \n",
       "fnlwgt                       160323         103497  \n",
       "education              Some-college   Some-college  \n",
       "educational-num                  10             10  \n",
       "marital-status   Married-civ-spouse  Never-married  \n",
       "relationship                Husband      Own-child  \n",
       "race                          Black          White  \n",
       "gender                         Male         Female  \n",
       "capital-gain                   7688              0  \n",
       "capital-loss                      0              0  \n",
       "hours-per-week                   40             30  \n",
       "income                         >50K          <=50K  \n",
       "Renda                             1              0  \n",
       "age_cat                           1              0  \n",
       "Male                              1              0  \n",
       "Married                           1              0  \n",
       "educa_cat                         2              2  \n",
       "race_white                        0              1  \n",
       "horasweek                         1              0  \n",
       "capitalgain                       1              0  "
      ]
     },
     "execution_count": 47,
     "metadata": {},
     "output_type": "execute_result"
    }
   ],
   "source": [
    "#pelo que foi visto a maioria é 0. O relatorio fala em 92% de capital-gain nulo. Logo, transformaremos pra 0e1\n",
    "capitalgain = []\n",
    "for dados in df[\"capital-gain\"]:\n",
    "    if dados == 0:\n",
    "        capitalgain.append(\"0\")\n",
    "    else:\n",
    "        capitalgain.append(\"1\")\n",
    "        \n",
    "df[\"capitalgain\"] = capitalgain\n",
    "df.head().T"
   ]
  },
  {
   "cell_type": "code",
   "execution_count": 48,
   "id": "2a99b5fe",
   "metadata": {},
   "outputs": [
    {
     "data": {
      "text/plain": [
       "<AxesSubplot:xlabel='capitalgain'>"
      ]
     },
     "execution_count": 48,
     "metadata": {},
     "output_type": "execute_result"
    },
    {
     "data": {
      "image/png": "[encoded data removed]",
      "text/plain": [
       "<Figure size 600x400 with 1 Axes>"
      ]
     },
     "metadata": {},
     "output_type": "display_data"
    }
   ],
   "source": [
    "df.groupby(\"capitalgain\").Renda.mean().plot(kind=\"bar\")\n",
    "#pros poucos que tiveram ganho de capital, a renda média foi maior"
   ]
  },
  {
   "cell_type": "code",
   "execution_count": 49,
   "id": "d859639e",
   "metadata": {},
   "outputs": [
    {
     "data": {
      "image/png": "[encoded data removed]",
      "text/plain": [
       "<Figure size 600x400 with 1 Axes>"
      ]
     },
     "metadata": {},
     "output_type": "display_data"
    }
   ],
   "source": [
    "#variável de capital_loss\n",
    "sb.boxplot(x=\"income\", y=\"capital-loss\", data=df)\n",
    "plt.title(\"Distribuição de capita-loss por classe da variável target\")\n",
    "plt.show()\n",
    "#capital-loss é ainda pior, 95% nulo"
   ]
  },
  {
   "cell_type": "code",
   "execution_count": 50,
   "id": "55e8b128",
   "metadata": {},
   "outputs": [
    {
     "data": {
      "text/html": [
       "<div>\n",
       "<style scoped>\n",
       "    .dataframe tbody tr th:only-of-type {\n",
       "        vertical-align: middle;\n",
       "    }\n",
       "\n",
       "    .dataframe tbody tr th {\n",
       "        vertical-align: top;\n",
       "    }\n",
       "\n",
       "    .dataframe thead th {\n",
       "        text-align: right;\n",
       "    }\n",
       "</style>\n",
       "<table border=\"1\" class=\"dataframe\">\n",
       "  <thead>\n",
       "    <tr style=\"text-align: right;\">\n",
       "      <th></th>\n",
       "      <th>0</th>\n",
       "      <th>1</th>\n",
       "      <th>2</th>\n",
       "      <th>3</th>\n",
       "      <th>4</th>\n",
       "    </tr>\n",
       "  </thead>\n",
       "  <tbody>\n",
       "    <tr>\n",
       "      <th>age</th>\n",
       "      <td>25</td>\n",
       "      <td>38</td>\n",
       "      <td>28</td>\n",
       "      <td>44</td>\n",
       "      <td>18</td>\n",
       "    </tr>\n",
       "    <tr>\n",
       "      <th>fnlwgt</th>\n",
       "      <td>226802</td>\n",
       "      <td>89814</td>\n",
       "      <td>336951</td>\n",
       "      <td>160323</td>\n",
       "      <td>103497</td>\n",
       "    </tr>\n",
       "    <tr>\n",
       "      <th>education</th>\n",
       "      <td>11th</td>\n",
       "      <td>HS-grad</td>\n",
       "      <td>Assoc-acdm</td>\n",
       "      <td>Some-college</td>\n",
       "      <td>Some-college</td>\n",
       "    </tr>\n",
       "    <tr>\n",
       "      <th>educational-num</th>\n",
       "      <td>7</td>\n",
       "      <td>9</td>\n",
       "      <td>12</td>\n",
       "      <td>10</td>\n",
       "      <td>10</td>\n",
       "    </tr>\n",
       "    <tr>\n",
       "      <th>marital-status</th>\n",
       "      <td>Never-married</td>\n",
       "      <td>Married-civ-spouse</td>\n",
       "      <td>Married-civ-spouse</td>\n",
       "      <td>Married-civ-spouse</td>\n",
       "      <td>Never-married</td>\n",
       "    </tr>\n",
       "    <tr>\n",
       "      <th>relationship</th>\n",
       "      <td>Own-child</td>\n",
       "      <td>Husband</td>\n",
       "      <td>Husband</td>\n",
       "      <td>Husband</td>\n",
       "      <td>Own-child</td>\n",
       "    </tr>\n",
       "    <tr>\n",
       "      <th>race</th>\n",
       "      <td>Black</td>\n",
       "      <td>White</td>\n",
       "      <td>White</td>\n",
       "      <td>Black</td>\n",
       "      <td>White</td>\n",
       "    </tr>\n",
       "    <tr>\n",
       "      <th>gender</th>\n",
       "      <td>Male</td>\n",
       "      <td>Male</td>\n",
       "      <td>Male</td>\n",
       "      <td>Male</td>\n",
       "      <td>Female</td>\n",
       "    </tr>\n",
       "    <tr>\n",
       "      <th>capital-gain</th>\n",
       "      <td>0</td>\n",
       "      <td>0</td>\n",
       "      <td>0</td>\n",
       "      <td>7688</td>\n",
       "      <td>0</td>\n",
       "    </tr>\n",
       "    <tr>\n",
       "      <th>capital-loss</th>\n",
       "      <td>0</td>\n",
       "      <td>0</td>\n",
       "      <td>0</td>\n",
       "      <td>0</td>\n",
       "      <td>0</td>\n",
       "    </tr>\n",
       "    <tr>\n",
       "      <th>hours-per-week</th>\n",
       "      <td>40</td>\n",
       "      <td>50</td>\n",
       "      <td>40</td>\n",
       "      <td>40</td>\n",
       "      <td>30</td>\n",
       "    </tr>\n",
       "    <tr>\n",
       "      <th>income</th>\n",
       "      <td>&lt;=50K</td>\n",
       "      <td>&lt;=50K</td>\n",
       "      <td>&gt;50K</td>\n",
       "      <td>&gt;50K</td>\n",
       "      <td>&lt;=50K</td>\n",
       "    </tr>\n",
       "    <tr>\n",
       "      <th>Renda</th>\n",
       "      <td>0</td>\n",
       "      <td>0</td>\n",
       "      <td>1</td>\n",
       "      <td>1</td>\n",
       "      <td>0</td>\n",
       "    </tr>\n",
       "    <tr>\n",
       "      <th>age_cat</th>\n",
       "      <td>0</td>\n",
       "      <td>1</td>\n",
       "      <td>0</td>\n",
       "      <td>1</td>\n",
       "      <td>0</td>\n",
       "    </tr>\n",
       "    <tr>\n",
       "      <th>Male</th>\n",
       "      <td>1</td>\n",
       "      <td>1</td>\n",
       "      <td>1</td>\n",
       "      <td>1</td>\n",
       "      <td>0</td>\n",
       "    </tr>\n",
       "    <tr>\n",
       "      <th>Married</th>\n",
       "      <td>0</td>\n",
       "      <td>1</td>\n",
       "      <td>1</td>\n",
       "      <td>1</td>\n",
       "      <td>0</td>\n",
       "    </tr>\n",
       "    <tr>\n",
       "      <th>educa_cat</th>\n",
       "      <td>0</td>\n",
       "      <td>1</td>\n",
       "      <td>2</td>\n",
       "      <td>2</td>\n",
       "      <td>2</td>\n",
       "    </tr>\n",
       "    <tr>\n",
       "      <th>race_white</th>\n",
       "      <td>0</td>\n",
       "      <td>1</td>\n",
       "      <td>1</td>\n",
       "      <td>0</td>\n",
       "      <td>1</td>\n",
       "    </tr>\n",
       "    <tr>\n",
       "      <th>horasweek</th>\n",
       "      <td>1</td>\n",
       "      <td>2</td>\n",
       "      <td>1</td>\n",
       "      <td>1</td>\n",
       "      <td>0</td>\n",
       "    </tr>\n",
       "    <tr>\n",
       "      <th>capitalgain</th>\n",
       "      <td>0</td>\n",
       "      <td>0</td>\n",
       "      <td>0</td>\n",
       "      <td>1</td>\n",
       "      <td>0</td>\n",
       "    </tr>\n",
       "    <tr>\n",
       "      <th>capitalloss</th>\n",
       "      <td>0</td>\n",
       "      <td>0</td>\n",
       "      <td>0</td>\n",
       "      <td>0</td>\n",
       "      <td>0</td>\n",
       "    </tr>\n",
       "  </tbody>\n",
       "</table>\n",
       "</div>"
      ],
      "text/plain": [
       "                             0                   1                   2  \\\n",
       "age                         25                  38                  28   \n",
       "fnlwgt                  226802               89814              336951   \n",
       "education                 11th             HS-grad          Assoc-acdm   \n",
       "educational-num              7                   9                  12   \n",
       "marital-status   Never-married  Married-civ-spouse  Married-civ-spouse   \n",
       "relationship         Own-child             Husband             Husband   \n",
       "race                     Black               White               White   \n",
       "gender                    Male                Male                Male   \n",
       "capital-gain                 0                   0                   0   \n",
       "capital-loss                 0                   0                   0   \n",
       "hours-per-week              40                  50                  40   \n",
       "income                   <=50K               <=50K                >50K   \n",
       "Renda                        0                   0                   1   \n",
       "age_cat                      0                   1                   0   \n",
       "Male                         1                   1                   1   \n",
       "Married                      0                   1                   1   \n",
       "educa_cat                    0                   1                   2   \n",
       "race_white                   0                   1                   1   \n",
       "horasweek                    1                   2                   1   \n",
       "capitalgain                  0                   0                   0   \n",
       "capitalloss                  0                   0                   0   \n",
       "\n",
       "                                  3              4  \n",
       "age                              44             18  \n",
       "fnlwgt                       160323         103497  \n",
       "education              Some-college   Some-college  \n",
       "educational-num                  10             10  \n",
       "marital-status   Married-civ-spouse  Never-married  \n",
       "relationship                Husband      Own-child  \n",
       "race                          Black          White  \n",
       "gender                         Male         Female  \n",
       "capital-gain                   7688              0  \n",
       "capital-loss                      0              0  \n",
       "hours-per-week                   40             30  \n",
       "income                         >50K          <=50K  \n",
       "Renda                             1              0  \n",
       "age_cat                           1              0  \n",
       "Male                              1              0  \n",
       "Married                           1              0  \n",
       "educa_cat                         2              2  \n",
       "race_white                        0              1  \n",
       "horasweek                         1              0  \n",
       "capitalgain                       1              0  \n",
       "capitalloss                       0              0  "
      ]
     },
     "execution_count": 50,
     "metadata": {},
     "output_type": "execute_result"
    }
   ],
   "source": [
    "capitalloss = []\n",
    "for dados in df[\"capital-loss\"]:\n",
    "    if dados == 0:\n",
    "        capitalloss.append(\"0\")\n",
    "    else:\n",
    "        capitalloss.append(\"1\")\n",
    "        \n",
    "df[\"capitalloss\"] = capitalloss\n",
    "df.head().T"
   ]
  },
  {
   "cell_type": "code",
   "execution_count": 51,
   "id": "992daeba",
   "metadata": {},
   "outputs": [
    {
     "data": {
      "text/plain": [
       "<AxesSubplot:xlabel='capitalloss'>"
      ]
     },
     "execution_count": 51,
     "metadata": {},
     "output_type": "execute_result"
    },
    {
     "data": {
      "image/png": "[encoded data removed]",
      "text/plain": [
       "<Figure size 600x400 with 1 Axes>"
      ]
     },
     "metadata": {},
     "output_type": "display_data"
    }
   ],
   "source": [
    "df.groupby(\"capitalloss\").Renda.mean().plot(kind=\"bar\")\n",
    "#pros poucos que tiveram perda de capital, a renda média foi maior"
   ]
  },
  {
   "cell_type": "code",
   "execution_count": 52,
   "id": "be4addb1",
   "metadata": {},
   "outputs": [
    {
     "data": {
      "text/html": [
       "<div>\n",
       "<style scoped>\n",
       "    .dataframe tbody tr th:only-of-type {\n",
       "        vertical-align: middle;\n",
       "    }\n",
       "\n",
       "    .dataframe tbody tr th {\n",
       "        vertical-align: top;\n",
       "    }\n",
       "\n",
       "    .dataframe thead th {\n",
       "        text-align: right;\n",
       "    }\n",
       "</style>\n",
       "<table border=\"1\" class=\"dataframe\">\n",
       "  <thead>\n",
       "    <tr style=\"text-align: right;\">\n",
       "      <th>capitalloss</th>\n",
       "      <th>0</th>\n",
       "      <th>1</th>\n",
       "    </tr>\n",
       "    <tr>\n",
       "      <th>capitalgain</th>\n",
       "      <th></th>\n",
       "      <th></th>\n",
       "    </tr>\n",
       "  </thead>\n",
       "  <tbody>\n",
       "    <tr>\n",
       "      <th>0</th>\n",
       "      <td>42525.0</td>\n",
       "      <td>2282.0</td>\n",
       "    </tr>\n",
       "    <tr>\n",
       "      <th>1</th>\n",
       "      <td>4035.0</td>\n",
       "      <td>NaN</td>\n",
       "    </tr>\n",
       "  </tbody>\n",
       "</table>\n",
       "</div>"
      ],
      "text/plain": [
       "capitalloss        0       1\n",
       "capitalgain                 \n",
       "0            42525.0  2282.0\n",
       "1             4035.0     NaN"
      ]
     },
     "execution_count": 52,
     "metadata": {},
     "output_type": "execute_result"
    }
   ],
   "source": [
    "#Será então que os que tiveram ganho de capital não são os mesmos que tiveram perda?\n",
    "check = df.groupby([\"capitalgain\", \"capitalloss\"]).size().unstack(1)\n",
    "check.head(20)\n",
    "#não foram as mesmas, se não o 1,1 nao estariam NaN. Mas como quem ganha ou perde tem renda média maior, seria bom\n",
    "#juntar no 0 os 0,0 e no 1 os 0,1 e 1,0. Até pq a quantidade de 1,0 e 0,1 são muito pequenas. Vale a pena juntar"
   ]
  },
  {
   "cell_type": "code",
   "execution_count": 53,
   "id": "ac55fe86",
   "metadata": {},
   "outputs": [
    {
     "data": {
      "text/plain": [
       "0    87.066459\n",
       "1    12.933541\n",
       "Name: gainloss, dtype: float64"
      ]
     },
     "execution_count": 53,
     "metadata": {},
     "output_type": "execute_result"
    }
   ],
   "source": [
    "#Portanto, criação da variável gainloss\n",
    "df.loc[((df.capitalgain == \"0\") & (df.capitalloss == \"0\")), \"gainloss\"]=\"0\"\n",
    "df.loc[((df.capitalgain == \"1\") & (df.capitalloss == \"0\")), \"gainloss\"]=\"1\"\n",
    "df.loc[((df.capitalgain == \"0\") & (df.capitalloss == \"1\")), \"gainloss\"]=\"1\"\n",
    "\n",
    "(df.gainloss.value_counts() / df.shape[0]) * 100"
   ]
  },
  {
   "cell_type": "code",
   "execution_count": 54,
   "id": "29a8534f",
   "metadata": {},
   "outputs": [
    {
     "data": {
      "text/plain": [
       "<AxesSubplot:xlabel='gainloss'>"
      ]
     },
     "execution_count": 54,
     "metadata": {},
     "output_type": "execute_result"
    },
    {
     "data": {
      "image/png": "[encoded data removed]",
      "text/plain": [
       "<Figure size 600x400 with 1 Axes>"
      ]
     },
     "metadata": {},
     "output_type": "display_data"
    }
   ],
   "source": [
    "df.groupby(\"gainloss\").Renda.mean().plot(kind=\"bar\")"
   ]
  },
  {
   "cell_type": "code",
   "execution_count": 56,
   "id": "a9247615",
   "metadata": {},
   "outputs": [
    {
     "name": "stdout",
     "output_type": "stream",
     "text": [
      "<class 'pandas.core.frame.DataFrame'>\n",
      "RangeIndex: 48842 entries, 0 to 48841\n",
      "Data columns (total 22 columns):\n",
      " #   Column           Non-Null Count  Dtype \n",
      "---  ------           --------------  ----- \n",
      " 0   age              48842 non-null  int64 \n",
      " 1   fnlwgt           48842 non-null  int64 \n",
      " 2   education        48842 non-null  object\n",
      " 3   educational-num  48842 non-null  int64 \n",
      " 4   marital-status   48842 non-null  object\n",
      " 5   relationship     48842 non-null  object\n",
      " 6   race             48842 non-null  object\n",
      " 7   gender           48842 non-null  object\n",
      " 8   capital-gain     48842 non-null  int64 \n",
      " 9   capital-loss     48842 non-null  int64 \n",
      " 10  hours-per-week   48842 non-null  int64 \n",
      " 11  income           48842 non-null  object\n",
      " 12  Renda            48842 non-null  int32 \n",
      " 13  age_cat          48842 non-null  object\n",
      " 14  Male             48842 non-null  int32 \n",
      " 15  Married          48842 non-null  int64 \n",
      " 16  educa_cat        48842 non-null  object\n",
      " 17  race_white       48842 non-null  int64 \n",
      " 18  horasweek        48842 non-null  object\n",
      " 19  capitalgain      48842 non-null  object\n",
      " 20  capitalloss      48842 non-null  object\n",
      " 21  gainloss         48842 non-null  object\n",
      "dtypes: int32(2), int64(8), object(12)\n",
      "memory usage: 7.8+ MB\n"
     ]
    }
   ],
   "source": [
    "#agora finalmente temos:\n",
    "#preditoras: age_cat, Male, Married, race_white, educa_cat, horasweek e gainloss\n",
    "df.info()"
   ]
  },
  {
   "cell_type": "code",
   "execution_count": 60,
   "id": "f71e0630",
   "metadata": {},
   "outputs": [],
   "source": [
    "#o axis=1 significa que quero descartar a coluna inteira\n",
    "#quando uso o inplace = true, significa que já estou substituindo o df original por esse novo df,\n",
    "#então não preciso escrever df = df.drop\n",
    "\n",
    "df.drop(labels=[\"age\", 'fnlwgt', 'education', \"educational-num\", \"marital-status\", \"relationship\", \"race\", \"gender\",\n",
    "               \"capital-gain\", \"capital-loss\", \"hours-per-week\", \"capitalgain\", \"capitalloss\",\n",
    "                \"Renda\"], axis=1, inplace=True)"
   ]
  },
  {
   "cell_type": "code",
   "execution_count": 61,
   "id": "b464df50",
   "metadata": {},
   "outputs": [
    {
     "name": "stdout",
     "output_type": "stream",
     "text": [
      "<class 'pandas.core.frame.DataFrame'>\n",
      "RangeIndex: 48842 entries, 0 to 48841\n",
      "Data columns (total 8 columns):\n",
      " #   Column      Non-Null Count  Dtype \n",
      "---  ------      --------------  ----- \n",
      " 0   income      48842 non-null  object\n",
      " 1   age_cat     48842 non-null  object\n",
      " 2   Male        48842 non-null  int32 \n",
      " 3   Married     48842 non-null  int64 \n",
      " 4   educa_cat   48842 non-null  object\n",
      " 5   race_white  48842 non-null  int64 \n",
      " 6   horasweek   48842 non-null  object\n",
      " 7   gainloss    48842 non-null  object\n",
      "dtypes: int32(1), int64(2), object(5)\n",
      "memory usage: 2.8+ MB\n"
     ]
    }
   ],
   "source": [
    "df.info()"
   ]
  },
  {
   "cell_type": "code",
   "execution_count": 68,
   "id": "98a0a02d",
   "metadata": {},
   "outputs": [
    {
     "data": {
      "text/html": [
       "<div>\n",
       "<style scoped>\n",
       "    .dataframe tbody tr th:only-of-type {\n",
       "        vertical-align: middle;\n",
       "    }\n",
       "\n",
       "    .dataframe tbody tr th {\n",
       "        vertical-align: top;\n",
       "    }\n",
       "\n",
       "    .dataframe thead th {\n",
       "        text-align: right;\n",
       "    }\n",
       "</style>\n",
       "<table border=\"1\" class=\"dataframe\">\n",
       "  <thead>\n",
       "    <tr style=\"text-align: right;\">\n",
       "      <th></th>\n",
       "      <th>income</th>\n",
       "      <th>age_cat</th>\n",
       "      <th>Male</th>\n",
       "      <th>Married</th>\n",
       "      <th>educa_cat</th>\n",
       "      <th>race_white</th>\n",
       "      <th>horasweek</th>\n",
       "      <th>gainloss</th>\n",
       "    </tr>\n",
       "  </thead>\n",
       "  <tbody>\n",
       "    <tr>\n",
       "      <th>0</th>\n",
       "      <td>&lt;=50K</td>\n",
       "      <td>0</td>\n",
       "      <td>1</td>\n",
       "      <td>0</td>\n",
       "      <td>0</td>\n",
       "      <td>0</td>\n",
       "      <td>1</td>\n",
       "      <td>0</td>\n",
       "    </tr>\n",
       "    <tr>\n",
       "      <th>1</th>\n",
       "      <td>&lt;=50K</td>\n",
       "      <td>1</td>\n",
       "      <td>1</td>\n",
       "      <td>1</td>\n",
       "      <td>1</td>\n",
       "      <td>1</td>\n",
       "      <td>2</td>\n",
       "      <td>0</td>\n",
       "    </tr>\n",
       "    <tr>\n",
       "      <th>2</th>\n",
       "      <td>&gt;50K</td>\n",
       "      <td>0</td>\n",
       "      <td>1</td>\n",
       "      <td>1</td>\n",
       "      <td>2</td>\n",
       "      <td>1</td>\n",
       "      <td>1</td>\n",
       "      <td>0</td>\n",
       "    </tr>\n",
       "    <tr>\n",
       "      <th>3</th>\n",
       "      <td>&gt;50K</td>\n",
       "      <td>1</td>\n",
       "      <td>1</td>\n",
       "      <td>1</td>\n",
       "      <td>2</td>\n",
       "      <td>0</td>\n",
       "      <td>1</td>\n",
       "      <td>1</td>\n",
       "    </tr>\n",
       "    <tr>\n",
       "      <th>4</th>\n",
       "      <td>&lt;=50K</td>\n",
       "      <td>0</td>\n",
       "      <td>0</td>\n",
       "      <td>0</td>\n",
       "      <td>2</td>\n",
       "      <td>1</td>\n",
       "      <td>0</td>\n",
       "      <td>0</td>\n",
       "    </tr>\n",
       "    <tr>\n",
       "      <th>...</th>\n",
       "      <td>...</td>\n",
       "      <td>...</td>\n",
       "      <td>...</td>\n",
       "      <td>...</td>\n",
       "      <td>...</td>\n",
       "      <td>...</td>\n",
       "      <td>...</td>\n",
       "      <td>...</td>\n",
       "    </tr>\n",
       "    <tr>\n",
       "      <th>48837</th>\n",
       "      <td>&lt;=50K</td>\n",
       "      <td>0</td>\n",
       "      <td>0</td>\n",
       "      <td>1</td>\n",
       "      <td>2</td>\n",
       "      <td>1</td>\n",
       "      <td>0</td>\n",
       "      <td>0</td>\n",
       "    </tr>\n",
       "    <tr>\n",
       "      <th>48838</th>\n",
       "      <td>&gt;50K</td>\n",
       "      <td>1</td>\n",
       "      <td>1</td>\n",
       "      <td>1</td>\n",
       "      <td>1</td>\n",
       "      <td>1</td>\n",
       "      <td>1</td>\n",
       "      <td>0</td>\n",
       "    </tr>\n",
       "    <tr>\n",
       "      <th>48839</th>\n",
       "      <td>&lt;=50K</td>\n",
       "      <td>2</td>\n",
       "      <td>0</td>\n",
       "      <td>0</td>\n",
       "      <td>1</td>\n",
       "      <td>1</td>\n",
       "      <td>1</td>\n",
       "      <td>0</td>\n",
       "    </tr>\n",
       "    <tr>\n",
       "      <th>48840</th>\n",
       "      <td>&lt;=50K</td>\n",
       "      <td>0</td>\n",
       "      <td>1</td>\n",
       "      <td>0</td>\n",
       "      <td>1</td>\n",
       "      <td>1</td>\n",
       "      <td>0</td>\n",
       "      <td>0</td>\n",
       "    </tr>\n",
       "    <tr>\n",
       "      <th>48841</th>\n",
       "      <td>&gt;50K</td>\n",
       "      <td>2</td>\n",
       "      <td>0</td>\n",
       "      <td>1</td>\n",
       "      <td>1</td>\n",
       "      <td>1</td>\n",
       "      <td>1</td>\n",
       "      <td>1</td>\n",
       "    </tr>\n",
       "  </tbody>\n",
       "</table>\n",
       "<p>48842 rows × 8 columns</p>\n",
       "</div>"
      ],
      "text/plain": [
       "      income age_cat  Male  Married educa_cat  race_white horasweek gainloss\n",
       "0      <=50K       0     1        0         0           0         1        0\n",
       "1      <=50K       1     1        1         1           1         2        0\n",
       "2       >50K       0     1        1         2           1         1        0\n",
       "3       >50K       1     1        1         2           0         1        1\n",
       "4      <=50K       0     0        0         2           1         0        0\n",
       "...      ...     ...   ...      ...       ...         ...       ...      ...\n",
       "48837  <=50K       0     0        1         2           1         0        0\n",
       "48838   >50K       1     1        1         1           1         1        0\n",
       "48839  <=50K       2     0        0         1           1         1        0\n",
       "48840  <=50K       0     1        0         1           1         0        0\n",
       "48841   >50K       2     0        1         1           1         1        1\n",
       "\n",
       "[48842 rows x 8 columns]"
      ]
     },
     "execution_count": 68,
     "metadata": {},
     "output_type": "execute_result"
    }
   ],
   "source": [
    "df"
   ]
  },
  {
   "cell_type": "code",
   "execution_count": 71,
   "id": "64ac7f9d",
   "metadata": {},
   "outputs": [
    {
     "data": {
      "text/plain": [
       "((48842, 7), (48842,))"
      ]
     },
     "execution_count": 71,
     "metadata": {},
     "output_type": "execute_result"
    }
   ],
   "source": [
    "#agora indo pro naive bayes.\n",
    "#separando em conjuntos de preditoras e target\n",
    "X = df.iloc[:,1:8].values\n",
    "y = df.iloc[:,0].values\n",
    "X.shape, y.shape"
   ]
  },
  {
   "cell_type": "code",
   "execution_count": 72,
   "id": "0fca3159",
   "metadata": {},
   "outputs": [
    {
     "name": "stdout",
     "output_type": "stream",
     "text": [
      "[['0' 1 0 ... 0 '1' '0']\n",
      " ['1' 1 1 ... 1 '2' '0']\n",
      " ['0' 1 1 ... 1 '1' '0']\n",
      " ...\n",
      " ['2' 0 0 ... 1 '1' '0']\n",
      " ['0' 1 0 ... 1 '0' '0']\n",
      " ['2' 0 1 ... 1 '1' '1']]\n"
     ]
    }
   ],
   "source": [
    "print(X)"
   ]
  },
  {
   "cell_type": "code",
   "execution_count": 73,
   "id": "d2a7b410",
   "metadata": {},
   "outputs": [
    {
     "name": "stdout",
     "output_type": "stream",
     "text": [
      "['<=50K' '<=50K' '>50K' ... '<=50K' '<=50K' '>50K']\n"
     ]
    }
   ],
   "source": [
    "print(y)"
   ]
  },
  {
   "cell_type": "code",
   "execution_count": 75,
   "id": "3ea6c510",
   "metadata": {},
   "outputs": [],
   "source": [
    "#Agora o próximo passo é separar a base de dados de treino (70%) e teste (30%).\n",
    "from sklearn.model_selection import train_test_split\n",
    "\n",
    "X_train, X_test, y_train, y_test, = train_test_split(X, y, test_size=0.3, random_state = 17) "
   ]
  },
  {
   "cell_type": "code",
   "execution_count": 76,
   "id": "0b7d44b5",
   "metadata": {},
   "outputs": [],
   "source": [
    "#O CategoricalNB é uma das opções do meu naive_bayes para quando as variáveis são categóricas. Se fosse variáveis do \n",
    "#tipo contínua, teria outros modelos do naive_bayes, como o gaussiano.\n",
    "from sklearn.naive_bayes import CategoricalNB\n",
    "\n",
    "nbCat = CategoricalNB()"
   ]
  },
  {
   "cell_type": "code",
   "execution_count": 77,
   "id": "bd613f24",
   "metadata": {},
   "outputs": [
    {
     "data": {
      "text/html": [
       "<style>#sk-container-id-1 {color: black;background-color: white;}#sk-container-id-1 pre{padding: 0;}#sk-container-id-1 div.sk-toggleable {background-color: white;}#sk-container-id-1 label.sk-toggleable__label {cursor: pointer;display: block;width: 100%;margin-bottom: 0;padding: 0.3em;box-sizing: border-box;text-align: center;}#sk-container-id-1 label.sk-toggleable__label-arrow:before {content: \"▸\";float: left;margin-right: 0.25em;color: #696969;}#sk-container-id-1 label.sk-toggleable__label-arrow:hover:before {color: black;}#sk-container-id-1 div.sk-estimator:hover label.sk-toggleable__label-arrow:before {color: black;}#sk-container-id-1 div.sk-toggleable__content {max-height: 0;max-width: 0;overflow: hidden;text-align: left;background-color: #f0f8ff;}#sk-container-id-1 div.sk-toggleable__content pre {margin: 0.2em;color: black;border-radius: 0.25em;background-color: #f0f8ff;}#sk-container-id-1 input.sk-toggleable__control:checked~div.sk-toggleable__content {max-height: 200px;max-width: 100%;overflow: auto;}#sk-container-id-1 input.sk-toggleable__control:checked~label.sk-toggleable__label-arrow:before {content: \"▾\";}#sk-container-id-1 div.sk-estimator input.sk-toggleable__control:checked~label.sk-toggleable__label {background-color: #d4ebff;}#sk-container-id-1 div.sk-label input.sk-toggleable__control:checked~label.sk-toggleable__label {background-color: #d4ebff;}#sk-container-id-1 input.sk-hidden--visually {border: 0;clip: rect(1px 1px 1px 1px);clip: rect(1px, 1px, 1px, 1px);height: 1px;margin: -1px;overflow: hidden;padding: 0;position: absolute;width: 1px;}#sk-container-id-1 div.sk-estimator {font-family: monospace;background-color: #f0f8ff;border: 1px dotted black;border-radius: 0.25em;box-sizing: border-box;margin-bottom: 0.5em;}#sk-container-id-1 div.sk-estimator:hover {background-color: #d4ebff;}#sk-container-id-1 div.sk-parallel-item::after {content: \"\";width: 100%;border-bottom: 1px solid gray;flex-grow: 1;}#sk-container-id-1 div.sk-label:hover label.sk-toggleable__label {background-color: #d4ebff;}#sk-container-id-1 div.sk-serial::before {content: \"\";position: absolute;border-left: 1px solid gray;box-sizing: border-box;top: 0;bottom: 0;left: 50%;z-index: 0;}#sk-container-id-1 div.sk-serial {display: flex;flex-direction: column;align-items: center;background-color: white;padding-right: 0.2em;padding-left: 0.2em;position: relative;}#sk-container-id-1 div.sk-item {position: relative;z-index: 1;}#sk-container-id-1 div.sk-parallel {display: flex;align-items: stretch;justify-content: center;background-color: white;position: relative;}#sk-container-id-1 div.sk-item::before, #sk-container-id-1 div.sk-parallel-item::before {content: \"\";position: absolute;border-left: 1px solid gray;box-sizing: border-box;top: 0;bottom: 0;left: 50%;z-index: -1;}#sk-container-id-1 div.sk-parallel-item {display: flex;flex-direction: column;z-index: 1;position: relative;background-color: white;}#sk-container-id-1 div.sk-parallel-item:first-child::after {align-self: flex-end;width: 50%;}#sk-container-id-1 div.sk-parallel-item:last-child::after {align-self: flex-start;width: 50%;}#sk-container-id-1 div.sk-parallel-item:only-child::after {width: 0;}#sk-container-id-1 div.sk-dashed-wrapped {border: 1px dashed gray;margin: 0 0.4em 0.5em 0.4em;box-sizing: border-box;padding-bottom: 0.4em;background-color: white;}#sk-container-id-1 div.sk-label label {font-family: monospace;font-weight: bold;display: inline-block;line-height: 1.2em;}#sk-container-id-1 div.sk-label-container {text-align: center;}#sk-container-id-1 div.sk-container {/* jupyter's `normalize.less` sets `[hidden] { display: none; }` but bootstrap.min.css set `[hidden] { display: none !important; }` so we also need the `!important` here to be able to override the default hidden behavior on the sphinx rendered scikit-learn.org. See: https://github.com/scikit-learn/scikit-learn/issues/21755 */display: inline-block !important;position: relative;}#sk-container-id-1 div.sk-text-repr-fallback {display: none;}</style><div id=\"sk-container-id-1\" class=\"sk-top-container\"><div class=\"sk-text-repr-fallback\"><pre>CategoricalNB()</pre><b>In a Jupyter environment, please rerun this cell to show the HTML representation or trust the notebook. <br />On GitHub, the HTML representation is unable to render, please try loading this page with nbviewer.org.</b></div><div class=\"sk-container\" hidden><div class=\"sk-item\"><div class=\"sk-estimator sk-toggleable\"><input class=\"sk-toggleable__control sk-hidden--visually\" id=\"sk-estimator-id-1\" type=\"checkbox\" checked><label for=\"sk-estimator-id-1\" class=\"sk-toggleable__label sk-toggleable__label-arrow\">CategoricalNB</label><div class=\"sk-toggleable__content\"><pre>CategoricalNB()</pre></div></div></div></div></div>"
      ],
      "text/plain": [
       "CategoricalNB()"
      ]
     },
     "execution_count": 77,
     "metadata": {},
     "output_type": "execute_result"
    }
   ],
   "source": [
    "# Já vou aplicar esse modelo nos conjuntos de treino da variavel dependente e independente, treinando nosso modelo\n",
    "# com esse conjunto.\n",
    "nbCat.fit(X_train, y_train)"
   ]
  },
  {
   "cell_type": "code",
   "execution_count": 78,
   "id": "24eaa888",
   "metadata": {},
   "outputs": [],
   "source": [
    "#agora eu aplico esse algoritmo treinado em cima do conjunto de X test, de forma que ele me estime a variavel target\n",
    "\n",
    "y_pred = nbCat.predict(X_test)"
   ]
  },
  {
   "cell_type": "code",
   "execution_count": 82,
   "id": "775ae68e",
   "metadata": {},
   "outputs": [
    {
     "name": "stdout",
     "output_type": "stream",
     "text": [
      "ConfusionMatrix:\n"
     ]
    },
    {
     "data": {
      "text/plain": [
       "(None,\n",
       " array([[9788, 1347],\n",
       "        [1259, 2259]], dtype=int64))"
      ]
     },
     "execution_count": 82,
     "metadata": {},
     "output_type": "execute_result"
    }
   ],
   "source": [
    "#Agora vamos pra matriz de confusao pra confrontar o y_pred com o y_test e verificar quantos eu acertei com meu modelo\n",
    "from sklearn import metrics\n",
    "from sklearn.metrics import confusion_matrix, accuracy_score\n",
    "\n",
    "cm_nbCat = confusion_matrix(y_test, y_pred)\n",
    "\n",
    "print(\"ConfusionMatrix:\"), cm_nbCat"
   ]
  },
  {
   "cell_type": "code",
   "execution_count": 83,
   "id": "1f4e8818",
   "metadata": {},
   "outputs": [
    {
     "name": "stdout",
     "output_type": "stream",
     "text": [
      "              precision    recall  f1-score   support\n",
      "\n",
      "       <=50K       0.89      0.88      0.88     11135\n",
      "        >50K       0.63      0.64      0.63      3518\n",
      "\n",
      "    accuracy                           0.82     14653\n",
      "   macro avg       0.76      0.76      0.76     14653\n",
      "weighted avg       0.82      0.82      0.82     14653\n",
      "\n"
     ]
    }
   ],
   "source": [
    "from sklearn.model_selection import cross_val_score\n",
    "from sklearn.metrics import classification_report\n",
    "\n",
    "print(classification_report(y_test, y_pred))\n",
    "\n",
    "#aqui deu pra perceber que, pra base de observações com income >50K, a precisão é baixa. \n",
    "#Isso deve me fazer refletir sobre as variáveis escolhidas e como foram tratadas, bem como\n",
    "#Tentar trabalhar com o balanceamento entre o conjutno de >50K e <=50K.\n",
    "#Pode ser também do modelo, logo, tem-se que buscar usar outros modelos pra ver se preveem melhor"
   ]
  },
  {
   "cell_type": "code",
   "execution_count": 90,
   "id": "c3ac3f5e",
   "metadata": {},
   "outputs": [
    {
     "name": "stdout",
     "output_type": "stream",
     "text": [
      "Accuracy: 82.21524602470484\n"
     ]
    }
   ],
   "source": [
    "print(\"Accuracy:\", (metrics.accuracy_score(y_test, y_pred)*100))"
   ]
  },
  {
   "cell_type": "code",
   "execution_count": 92,
   "id": "b97a33fb",
   "metadata": {},
   "outputs": [
    {
     "data": {
      "text/plain": [
       "array(['>50K'], dtype='<U5')"
      ]
     },
     "execution_count": 92,
     "metadata": {},
     "output_type": "execute_result"
    }
   ],
   "source": [
    "#e aí podemos brincar. Tipo, se eu pegar um indivíduo que tenha age_cat=2, seja masculino, seja casado, etc., qual \n",
    "#será a classificação de income dele?\n",
    "\n",
    "[[\"age_cat\", \"Male\", \"Married\", \"educa_cat\", \"race_white\", \"horasweek\", \"gainloss\"]]\n",
    "\n",
    "nbCat.predict([[2,1,1,2,1,1,1]])\n",
    "#logo, meu modelo diz que ele ganharia mais que 50K"
   ]
  },
  {
   "cell_type": "code",
   "execution_count": null,
   "id": "10477786",
   "metadata": {},
   "outputs": [],
   "source": []
  }
 ],
 "metadata": {
  "kernelspec": {
   "display_name": "Python 3 (ipykernel)",
   "language": "python",
   "name": "python3"
  },
  "language_info": {
   "codemirror_mode": {
    "name": "ipython",
    "version": 3
   },
   "file_extension": ".py",
   "mimetype": "text/x-python",
   "name": "python",
   "nbconvert_exporter": "python",
   "pygments_lexer": "ipython3",
   "version": "3.9.7"
  }
 },
 "nbformat": 4,
 "nbformat_minor": 5
}
